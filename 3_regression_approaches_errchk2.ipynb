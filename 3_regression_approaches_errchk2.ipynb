{
 "cells": [
  {
   "cell_type": "markdown",
   "metadata": {
    "tags": []
   },
   "source": [
    "---\n",
    "# 3 REGRESSION APPROACHES (LEAFToolbox-SL2P + ALR)\n",
    "\n",
    "This notebook contains code blocks to generate predictions based on three different treatment methods, which are as follows:\n",
    "1. SL2P10 – using only the output from SL2P10_10m\n",
    "2. LARS + Regression Tree – using feature selection (LARS) and smileCART (GEE function)\n",
    "3. LARS + Neural Network – as implemented by Hemit in ALR_client_side\n",
    "---"
   ]
  },
  {
   "cell_type": "code",
   "execution_count": 1,
   "metadata": {},
   "outputs": [],
   "source": [
    "import ee\n",
    "import time\n",
    "import math\n",
    "import csv\n",
    "import json\n",
    "import os\n",
    "import numpy as np\n",
    "import pandas as pd\n",
    "import folium ; from folium import plugins\n",
    "import matplotlib.pyplot as plt\n",
    "import scipy ; from scipy import stats\n",
    "import scipy.io as sio\n",
    "import sklearn as skl ; from sklearn import linear_model ; from sklearn import preprocessing\n",
    "import tensorflow as tf\n",
    "import pickle\n",
    "from collections import OrderedDict\n",
    "from PIL import Image\n",
    "\n",
    "# import custom modules (files must be in same directory as this notebook)\n",
    "import feature_collections as fc\n",
    "import image_bands as ib\n",
    "import wrapper_nets as wn\n",
    "import ee_functions as ee_func\n",
    "import ALR_functions as alr"
   ]
  },
  {
   "cell_type": "code",
   "execution_count": 2,
   "metadata": {},
   "outputs": [
    {
     "data": {
      "text/html": [
       "<p>To authorize access needed by Earth Engine, open the following\n",
       "        URL in a web browser and follow the instructions:</p>\n",
       "        <p><a href=https://accounts.google.com/o/oauth2/auth?client_id=517222506229-vsmmajv00ul0bs7p89v5m89qs8eb9359.apps.googleusercontent.com&scope=https%3A%2F%2Fwww.googleapis.com%2Fauth%2Fearthengine+https%3A%2F%2Fwww.googleapis.com%2Fauth%2Fdevstorage.full_control&redirect_uri=urn%3Aietf%3Awg%3Aoauth%3A2.0%3Aoob&response_type=code&code_challenge=mQNW4qAhEzLmWqNXzgt2-tyd3VelgIyle9StqwuHiO4&code_challenge_method=S256>https://accounts.google.com/o/oauth2/auth?client_id=517222506229-vsmmajv00ul0bs7p89v5m89qs8eb9359.apps.googleusercontent.com&scope=https%3A%2F%2Fwww.googleapis.com%2Fauth%2Fearthengine+https%3A%2F%2Fwww.googleapis.com%2Fauth%2Fdevstorage.full_control&redirect_uri=urn%3Aietf%3Awg%3Aoauth%3A2.0%3Aoob&response_type=code&code_challenge=mQNW4qAhEzLmWqNXzgt2-tyd3VelgIyle9StqwuHiO4&code_challenge_method=S256</a></p>\n",
       "        <p>The authorization workflow will generate a code, which you\n",
       "        should paste in the box below</p>\n",
       "        "
      ],
      "text/plain": [
       "<IPython.core.display.HTML object>"
      ]
     },
     "metadata": {},
     "output_type": "display_data"
    },
    {
     "name": "stdin",
     "output_type": "stream",
     "text": [
      "Enter verification code:  4/1AX4XfWhKzOImb1VNkvBbk8wRyGJaeya4qTGU_Z_Yle0RhVMpesEigseYCmg\n"
     ]
    },
    {
     "name": "stdout",
     "output_type": "stream",
     "text": [
      "\n",
      "Successfully saved authorization token.\n"
     ]
    }
   ],
   "source": [
    "ee.Authenticate()\n",
    "ee.Initialize()"
   ]
  },
  {
   "cell_type": "markdown",
   "metadata": {
    "tags": []
   },
   "source": [
    "---\n",
    "# Prelim: Define dictionaries"
   ]
  },
  {
   "cell_type": "code",
   "execution_count": 3,
   "metadata": {},
   "outputs": [],
   "source": [
    "# -----------------------\n",
    "# SELECT INPUT PARAMETERS\n",
    "# -----------------------\n",
    "\n",
    "# variable name\n",
    "# one of: 'Surface_Reflectance','Albedo','fAPAR','fCOVER','LAI','CCC','CWC','DASF'\n",
    "outputName = 'fCOVER'\n",
    "\n",
    "# site selection\n",
    "# one of: 'Geraldton', 'FoxCreek', 'Kouchibouguac', 'Ottawa'\n",
    "# 'Wabush', 'QueenCharlotte', 'Attawapiskat', 'Eastmain', 'Charlottetown', 'RedBay', 'EaglePlain', 'Kitchener'\n",
    "siteSelect = 'Wabush'"
   ]
  },
  {
   "cell_type": "markdown",
   "metadata": {
    "tags": []
   },
   "source": [
    "### Collection options"
   ]
  },
  {
   "cell_type": "code",
   "execution_count": 4,
   "metadata": {
    "tags": []
   },
   "outputs": [],
   "source": [
    "# ---------------------------------------------------------------------\n",
    "# set parameters based on user-defined parameters above (do not modify)\n",
    "# ---------------------------------------------------------------------\n",
    "outputParams = {\n",
    "    'fAPAR': {\n",
    "        'outputScale': 1000,\n",
    "        'outputOffset': 0,\n",
    "        'outputMax': 1\n",
    "    },\n",
    "    'fCOVER': {\n",
    "        'outputScale': 1000,\n",
    "        'outputOffset': 0,\n",
    "        'outputMax': 1\n",
    "    },\n",
    "    'LAI': {\n",
    "        'outputScale': 1000,\n",
    "        'outputOffset': 0,\n",
    "        'outputMax': 8\n",
    "    }\n",
    "}\n",
    "\n",
    "outputScale = outputParams[outputName]['outputScale']\n",
    "outputOffset = outputParams[outputName]['outputOffset']\n",
    "outputMax = outputParams[outputName]['outputMax']\n",
    "responseBand = 'estimate'+outputName"
   ]
  },
  {
   "cell_type": "code",
   "execution_count": 5,
   "metadata": {
    "tags": []
   },
   "outputs": [],
   "source": [
    "siteParams = {\n",
    "    # Geraldton, ON\n",
    "    'Geraldton': {\n",
    "        'testImage': ee.Image('COPERNICUS/S2_SR/20200811T164849_20200811T165525_T16UEA'),\n",
    "        'mapBounds': ee.Geometry.Polygon( \\\n",
    "                        [[[-86, 49.5], \\\n",
    "                          [-86, 50], \\\n",
    "                          [-85.5, 50], \\\n",
    "                          [-85.5, 49.5]]]),\n",
    "        'mapCenter': [-85.75, 49.75]\n",
    "    },\n",
    "    # Fox Creek, AB\n",
    "    'FoxCreek': {\n",
    "        'testImage': ee.Image('COPERNICUS/S2_SR/20210825T185919_20210825T190431_T11UNA'),\n",
    "        'mapBounds': ee.Geometry.Polygon( \\\n",
    "                        [[[-117, 54], \\\n",
    "                          [-117, 55], \\\n",
    "                          [-115, 55], \\\n",
    "                          [-115, 54]]]),\n",
    "        'mapCenter': [-116.8, 54.4]\n",
    "        \n",
    "    },\n",
    "    # Kouchibouguac, NB\n",
    "    'Kouchibouguac': {\n",
    "        'testImage': ee.Image('COPERNICUS/S2_SR/20200905T151701_20200905T151829_T20TLS'),\n",
    "        'mapBounds': ee.Geometry.Polygon( \\\n",
    "                        [[[-65, 46], \\\n",
    "                          [-65, 47], \\\n",
    "                          [-64, 47], \\\n",
    "                          [-64, 46]]]),\n",
    "        'mapCenter': [-64.5, 46.5]\n",
    "    },\n",
    "    # Ottawa, ON\n",
    "    'Ottawa': {\n",
    "        'testImage': ee.Image('COPERNICUS/S2_SR/20200801T155911_20200801T160644_T18TVQ'),\n",
    "        'mapBounds': ee.Geometry.Polygon( \\\n",
    "                        [[[-75, 45], \\\n",
    "                          [-75, 46], \\\n",
    "                          [-74, 46], \\\n",
    "                          [-74, 45]]]),\n",
    "        'mapCenter': [-74.5, 45.5]\n",
    "    },\n",
    "    # Wabush, NL\n",
    "    'Wabush': {\n",
    "        'testImage': ee.Image('COPERNICUS/S2_SR/20200815T153911_20200815T154107_T19UFU'),\n",
    "        'mapBounds': ee.Geometry.Polygon( \\\n",
    "                        [[[-67.5, 52.3], \\\n",
    "                          [-67.5, 53.2], \\\n",
    "                          [-66.3, 53.2], \\\n",
    "                          [-66.3, 52.3]]]),\n",
    "        'mapCenter': [-67, 52.8]\n",
    "    },\n",
    "    # Queen Charlotte Island, BC\n",
    "    'QueenCharlotte': {\n",
    "        'testImage': ee.Image('COPERNICUS/S2_SR/20200909T194951_20200909T195633_T08UPE'),\n",
    "        'mapBounds': ee.Geometry.Polygon( \\\n",
    "                        [[[-133, 53.2], \\\n",
    "                          [-133, 54], \\\n",
    "                          [-132, 54], \\\n",
    "                          [-132, 53.2]]]),\n",
    "        'mapCenter': [-132.4, 53.6]\n",
    "    },\n",
    "    # Attawapiskat, ON\n",
    "    'Attawapiskat': {\n",
    "        'testImage': ee.Image('COPERNICUS/S2_SR/20200815T162839_20200815T163731_T17ULU'),\n",
    "        'mapBounds': ee.Geometry.Polygon( \\\n",
    "                        [[[-83, 52.3], \\\n",
    "                          [-83, 53.2], \\\n",
    "                          [-82.4, 53.2], \\\n",
    "                          [-82.4, 52.3]]]),\n",
    "        'mapCenter': [-82.7, 52.7]\n",
    "    },\n",
    "    # Eastmain, QC\n",
    "    'Eastmain': {\n",
    "        'testImage': ee.Image('COPERNICUS/S2_SR/20200723T161829_20200723T162656_T17UPT'),\n",
    "        'mapBounds': ee.Geometry.Polygon( \\\n",
    "                        [[[-79.5, 51.4], \\\n",
    "                          [-79.5, 52.3], \\\n",
    "                          [-78, 52.3], \\\n",
    "                          [-78, 51.4]]]),\n",
    "        'mapCenter': [-78.7, 51.8]\n",
    "    },\n",
    "    # Charlottetown, PEI\n",
    "    'Charlottetown': {\n",
    "        'testImage': ee.Image('COPERNICUS/S2_SR/20200622T151659_20200622T151653_T20TMS'),\n",
    "        'mapBounds': ee.Geometry.Polygon( \\\n",
    "                        [[[-63.3, 46.1], \\\n",
    "                          [-63.3, 46.5], \\\n",
    "                          [-62.9, 46.5], \\\n",
    "                          [-62.9, 46.1]]]),\n",
    "        'mapCenter': [-63.1, 46.3]\n",
    "    },\n",
    "    # Red Bay, NL\n",
    "    'RedBay': {\n",
    "        'testImage': ee.Image('COPERNICUS/S2_SR/20200716T145729_20200716T145730_T21UWT'),\n",
    "        'mapBounds': ee.Geometry.Polygon( \\\n",
    "                        [[[-56.6, 51.6], \\\n",
    "                          [-56.6, 52.3], \\\n",
    "                          [-55.6, 52.3], \\\n",
    "                          [-56.6, 51.6]]]),\n",
    "        'mapCenter': [-56, 52]\n",
    "    },\n",
    "    # Eagle Plain, YT\n",
    "    'EaglePlain': {\n",
    "        'testImage': ee.Image('COPERNICUS/S2_SR/20200731T204019_20200731T204021_T08WMU'),\n",
    "        'mapBounds': ee.Geometry.Polygon( \\\n",
    "                        [[[-137, 65.75], \\\n",
    "                          [-137, 66.5], \\\n",
    "                          [-135, 66.5], \\\n",
    "                          [-135, 65.75]]]),\n",
    "        'mapCenter': [-136.3, 66.5]\n",
    "    },\n",
    "    # Kitchener, ON\n",
    "    'Kitchener': {\n",
    "        'testImage': ee.Image('COPERNICUS/S2/20200615T160911_20200615T161838_T17TNJ'),\n",
    "        'mapBounds': ee.Geometry.Polygon( \\\n",
    "                        [[[-81, 43.3], \\\n",
    "                          [-81, 44], \\\n",
    "                          [-79.8, 44], \\\n",
    "                          [-79.8, 43.3]]]),\n",
    "        'mapCenter': [-80.5, 43.7]\n",
    "    }\n",
    "}\n",
    "\n",
    "mapBounds = siteParams[siteSelect]['mapBounds']\n",
    "mapCenter = siteParams[siteSelect]['mapCenter']\n",
    "testImage = siteParams[siteSelect]['testImage']\n",
    "\n",
    "# other filters\n",
    "maxCloudcover = 10\n",
    "\n",
    "# export parameters\n",
    "exportFolder = siteSelect+'_'+outputName\n",
    "exportDataType = 'int'\n",
    "exportScale = 20"
   ]
  },
  {
   "cell_type": "code",
   "execution_count": 6,
   "metadata": {
    "tags": []
   },
   "outputs": [],
   "source": [
    "COLLECTION_OPTIONS = {\n",
    "    # Sentinel 2 using 20 m bands:\n",
    "    'COPERNICUS/S2_SR': {\n",
    "      \"name\": 'COPERNICUS/S2_SR',\n",
    "      \"description\": 'Sentinel 2A',\n",
    "      \"Cloudcover\": 'CLOUDY_PIXEL_PERCENTAGE',\n",
    "      \"Watercover\": 'WATER_PERCENTAGE',\n",
    "      \"sza\": 'MEAN_SOLAR_ZENITH_ANGLE',\n",
    "      \"vza\": 'MEAN_INCIDENCE_ZENITH_ANGLE_B8A',\n",
    "      \"saa\": 'MEAN_SOLAR_AZIMUTH_ANGLE', \n",
    "      \"vaa\": 'MEAN_INCIDENCE_AZIMUTH_ANGLE_B8A',\n",
    "      \"VIS_OPTIONS\": 'VIS_OPTIONS',\n",
    "      \"Collection_SL2P\": ee.FeatureCollection(fc.s2_createFeatureCollection_estimates()),\n",
    "      \"Collection_SL2Perrors\": ee.FeatureCollection(fc.s2_createFeatureCollection_errors()),  \n",
    "      \"sl2pDomain\": ee.FeatureCollection(fc.s2_createFeatureCollection_domains()),\n",
    "      \"Network_Ind\": ee.FeatureCollection(fc.s2_createFeatureCollection_Network_Ind()),\n",
    "      \"partition\": ee.ImageCollection(fc.s2_createImageCollection_partition()),\n",
    "      \"legend\": ee.FeatureCollection(fc.s2_createFeatureCollection_legend()),\n",
    "      \"numVariables\": 7\n",
    "    },\n",
    "    # Sentinel 2 using 10 m bands:\n",
    "    'COPERNICUS/S2_SR_10m': {\n",
    "      \"name\": 'COPERNICUS/S2_SR',\n",
    "      \"description\": 'Sentinel 2A',\n",
    "      \"Cloudcover\": 'CLOUDY_PIXEL_PERCENTAGE',\n",
    "      \"Watercover\": 'WATER_PERCENTAGE',\n",
    "      \"sza\": 'MEAN_SOLAR_ZENITH_ANGLE',\n",
    "      \"vza\": 'MEAN_INCIDENCE_ZENITH_ANGLE_B8A',\n",
    "      \"saa\": 'MEAN_SOLAR_AZIMUTH_ANGLE', \n",
    "      \"vaa\": 'MEAN_INCIDENCE_AZIMUTH_ANGLE_B8A',\n",
    "      \"VIS_OPTIONS\": 'VIS_OPTIONS',\n",
    "      \"Collection_SL2P\": ee.FeatureCollection(fc.s2_10m_createFeatureCollection_estimates()),\n",
    "      \"Collection_SL2Perrors\": ee.FeatureCollection(fc.s2_10m_createFeatureCollection_errors()),  \n",
    "      \"sl2pDomain\": ee.FeatureCollection(fc.s2_10m_createFeatureCollection_domains()),\n",
    "      \"Network_Ind\": ee.FeatureCollection(fc.s2_createFeatureCollection_Network_Ind()),\n",
    "      \"partition\": ee.ImageCollection(fc.s2_createImageCollection_partition()),\n",
    "      \"legend\": ee.FeatureCollection(fc.s2_createFeatureCollection_legend()),\n",
    "      \"numVariables\": 7\n",
    "    }\n",
    "}\n",
    "\n",
    "VIS_OPTIONS = {\n",
    "    'fAPAR': {\n",
    "        \"COPERNICUS/S2_SR\": {\n",
    "            \"Name\": 'fAPAR',\n",
    "            \"errorName\": 'errorfAPAR',\n",
    "            \"maskName\": 'maskfAPAR',\n",
    "            \"description\": 'Fraction of absorbed photosynthetically active radiation',\n",
    "            \"variable\": 2,\n",
    "            \"inputBands\":      ['cosVZA', 'cosSZA', 'cosRAA', 'B3', 'B4', 'B5', 'B6', 'B7', 'B8A', 'B11', 'B12'],\n",
    "            \"inputScaling\":    [0.0001, 0.0001, 0.0001, 0.0001, 0.0001, 0.0001, 0.0001, 0.0001, 0.0001, 0.0001, 0.0001],\n",
    "            \"outmin\": (ee.Image(ee.Array([[0]]))),\n",
    "            \"outmax\": (ee.Image(ee.Array([[1]])))\n",
    "        },\n",
    "        \"COPERNICUS/S2_SR_10m\": {\n",
    "            \"Name\": 'fAPAR',\n",
    "            \"errorName\": 'errorfAPAR',\n",
    "            \"maskName\": 'maskfAPAR',\n",
    "            \"description\": 'Fraction of absorbed photosynthetically active radiation',\n",
    "            \"variable\": 2,\n",
    "            \"inputBands\":      ['cosVZA', 'cosSZA', 'cosRAA', 'B2', 'B3', 'B4', 'B8'],\n",
    "            \"inputScaling\":    [0.0001, 0.0001, 0.0001, 0.0001, 0.0001, 0.0001, 0.0001],\n",
    "            \"outmin\": (ee.Image(ee.Array([[0]]))),\n",
    "            \"outmax\": (ee.Image(ee.Array([[1]])))\n",
    "        }\n",
    "    },\n",
    "    'fCOVER': {\n",
    "        \"COPERNICUS/S2_SR\": {\n",
    "            \"Name\": 'fCOVER',\n",
    "            \"errorName\": 'errorfCOVER',\n",
    "            \"maskName\": 'maskfCOVER',\n",
    "            \"description\": 'Fraction of canopy cover',\n",
    "            \"variable\": 3,\n",
    "            \"inputBands\":      ['cosVZA', 'cosSZA', 'cosRAA', 'B3', 'B4', 'B5', 'B6', 'B7', 'B8A', 'B11', 'B12'],\n",
    "            \"inputScaling\":    [0.0001, 0.0001, 0.0001, 0.0001, 0.0001, 0.0001, 0.0001, 0.0001, 0.0001, 0.0001, 0.0001],\n",
    "            \"outmin\": (ee.Image(ee.Array([[0]]))),\n",
    "            \"outmax\": (ee.Image(ee.Array([[1]]))) \n",
    "        },\n",
    "        \"COPERNICUS/S2_SR_10m\": {\n",
    "            \"Name\": 'fCOVER',\n",
    "            \"errorName\": 'errorfCOVER',\n",
    "            \"maskName\": 'maskfCOVER',\n",
    "            \"description\": 'Fraction of canopy cover',\n",
    "            \"variable\": 3,\n",
    "            \"inputBands\":      ['cosVZA', 'cosSZA', 'cosRAA', 'B2', 'B3', 'B4', 'B8'],\n",
    "            \"inputScaling\":    [0.0001, 0.0001, 0.0001, 0.0001, 0.0001, 0.0001, 0.0001],\n",
    "            \"outmin\": (ee.Image(ee.Array([[0]]))),\n",
    "            \"outmax\": (ee.Image(ee.Array([[1]]))) \n",
    "        }\n",
    "    },\n",
    "    'LAI': {\n",
    "        \"COPERNICUS/S2_SR\": {\n",
    "            \"Name\": 'LAI',\n",
    "            \"errorName\": 'errorLAI',\n",
    "            \"maskName\": 'maskLAI',\n",
    "            \"description\": 'Leaf area index',\n",
    "            \"variable\": 1,\n",
    "            \"inputBands\":      ['cosVZA', 'cosSZA', 'cosRAA', 'B3', 'B4', 'B5', 'B6', 'B7', 'B8A', 'B11', 'B12'],\n",
    "            \"inputScaling\":    [0.0001, 0.0001, 0.0001, 0.0001, 0.0001, 0.0001, 0.0001, 0.0001, 0.0001, 0.0001, 0.0001],\n",
    "            \"outmin\": (ee.Image(ee.Array([[0]]))),\n",
    "            \"outmax\": (ee.Image(ee.Array([[1]])))\n",
    "        },\n",
    "        \"COPERNICUS/S2_SR_10m\": {\n",
    "            \"Name\": 'LAI',\n",
    "            \"errorName\": 'errorLAI',\n",
    "            \"maskName\": 'maskLAI',\n",
    "            \"description\": 'Leaf area index',\n",
    "            \"variable\": 1,\n",
    "            \"inputBands\":      ['cosVZA', 'cosSZA', 'cosRAA', 'B2', 'B3', 'B4', 'B8'],\n",
    "            \"inputScaling\":    [0.0001, 0.0001, 0.0001, 0.0001, 0.0001, 0.0001, 0.0001],\n",
    "            \"outmin\": (ee.Image(ee.Array([[0]]))),\n",
    "            \"outmax\": (ee.Image(ee.Array([[1]])))\n",
    "        }\n",
    "    }\n",
    "}"
   ]
  },
  {
   "cell_type": "markdown",
   "metadata": {
    "tags": []
   },
   "source": [
    "---\n",
    "# 1 – SL2P/SL2P10"
   ]
  },
  {
   "cell_type": "markdown",
   "metadata": {
    "tags": []
   },
   "source": [
    "### SL2P Original (create image and export to drive for use later)"
   ]
  },
  {
   "cell_type": "code",
   "execution_count": 7,
   "metadata": {},
   "outputs": [],
   "source": [
    "# parse the networks\n",
    "colName = 'COPERNICUS/S2_SR'\n",
    "colOptions = COLLECTION_OPTIONS[colName]\n",
    "netOptions = VIS_OPTIONS[outputName][colName]\n",
    "numNets = ee.Number(ee.Feature((COLLECTION_OPTIONS[colName][\"Network_Ind\"]).first()).propertyNames().remove('Feature Index').remove('system:index').remove('lon').size())\n",
    "SL2P = ee.List.sequence(1,ee.Number(COLLECTION_OPTIONS[colName][\"numVariables\"]),1).map(lambda netNum: wn.makeNetVars(COLLECTION_OPTIONS[colName][\"Collection_SL2P\"],numNets,netNum));\n",
    "errorsSL2P = ee.List.sequence(1,ee.Number(COLLECTION_OPTIONS[colName][\"numVariables\"]),1).map(lambda netNum: wn.makeNetVars(COLLECTION_OPTIONS[colName][\"Collection_SL2Perrors\"],numNets,netNum));"
   ]
  },
  {
   "cell_type": "code",
   "execution_count": 8,
   "metadata": {
    "tags": []
   },
   "outputs": [
    {
     "data": {
      "text/html": [
       "<div style=\"width:100%;\"><div style=\"position:relative;width:100%;height:0;padding-bottom:60%;\"><span style=\"color:#565656\">Make this Notebook Trusted to load map: File -> Trust Notebook</span><iframe src=\"about:blank\" style=\"position:absolute;width:100%;height:100%;left:0;top:0;border:none !important;\" data-html=%3C%21DOCTYPE%20html%3E%0A%3Chead%3E%20%20%20%20%0A%20%20%20%20%3Cmeta%20http-equiv%3D%22content-type%22%20content%3D%22text/html%3B%20charset%3DUTF-8%22%20/%3E%0A%20%20%20%20%0A%20%20%20%20%20%20%20%20%3Cscript%3E%0A%20%20%20%20%20%20%20%20%20%20%20%20L_NO_TOUCH%20%3D%20false%3B%0A%20%20%20%20%20%20%20%20%20%20%20%20L_DISABLE_3D%20%3D%20false%3B%0A%20%20%20%20%20%20%20%20%3C/script%3E%0A%20%20%20%20%0A%20%20%20%20%3Cstyle%3Ehtml%2C%20body%20%7Bwidth%3A%20100%25%3Bheight%3A%20100%25%3Bmargin%3A%200%3Bpadding%3A%200%3B%7D%3C/style%3E%0A%20%20%20%20%3Cstyle%3E%23map%20%7Bposition%3Aabsolute%3Btop%3A0%3Bbottom%3A0%3Bright%3A0%3Bleft%3A0%3B%7D%3C/style%3E%0A%20%20%20%20%3Cscript%20src%3D%22https%3A//cdn.jsdelivr.net/npm/leaflet%401.6.0/dist/leaflet.js%22%3E%3C/script%3E%0A%20%20%20%20%3Cscript%20src%3D%22https%3A//code.jquery.com/jquery-1.12.4.min.js%22%3E%3C/script%3E%0A%20%20%20%20%3Cscript%20src%3D%22https%3A//maxcdn.bootstrapcdn.com/bootstrap/3.2.0/js/bootstrap.min.js%22%3E%3C/script%3E%0A%20%20%20%20%3Cscript%20src%3D%22https%3A//cdnjs.cloudflare.com/ajax/libs/Leaflet.awesome-markers/2.0.2/leaflet.awesome-markers.js%22%3E%3C/script%3E%0A%20%20%20%20%3Clink%20rel%3D%22stylesheet%22%20href%3D%22https%3A//cdn.jsdelivr.net/npm/leaflet%401.6.0/dist/leaflet.css%22/%3E%0A%20%20%20%20%3Clink%20rel%3D%22stylesheet%22%20href%3D%22https%3A//maxcdn.bootstrapcdn.com/bootstrap/3.2.0/css/bootstrap.min.css%22/%3E%0A%20%20%20%20%3Clink%20rel%3D%22stylesheet%22%20href%3D%22https%3A//maxcdn.bootstrapcdn.com/bootstrap/3.2.0/css/bootstrap-theme.min.css%22/%3E%0A%20%20%20%20%3Clink%20rel%3D%22stylesheet%22%20href%3D%22https%3A//maxcdn.bootstrapcdn.com/font-awesome/4.6.3/css/font-awesome.min.css%22/%3E%0A%20%20%20%20%3Clink%20rel%3D%22stylesheet%22%20href%3D%22https%3A//cdnjs.cloudflare.com/ajax/libs/Leaflet.awesome-markers/2.0.2/leaflet.awesome-markers.css%22/%3E%0A%20%20%20%20%3Clink%20rel%3D%22stylesheet%22%20href%3D%22https%3A//cdn.jsdelivr.net/gh/python-visualization/folium/folium/templates/leaflet.awesome.rotate.min.css%22/%3E%0A%20%20%20%20%0A%20%20%20%20%20%20%20%20%20%20%20%20%3Cmeta%20name%3D%22viewport%22%20content%3D%22width%3Ddevice-width%2C%0A%20%20%20%20%20%20%20%20%20%20%20%20%20%20%20%20initial-scale%3D1.0%2C%20maximum-scale%3D1.0%2C%20user-scalable%3Dno%22%20/%3E%0A%20%20%20%20%20%20%20%20%20%20%20%20%3Cstyle%3E%0A%20%20%20%20%20%20%20%20%20%20%20%20%20%20%20%20%23map_621934182d83404986d58bebbb844fc2%20%7B%0A%20%20%20%20%20%20%20%20%20%20%20%20%20%20%20%20%20%20%20%20position%3A%20relative%3B%0A%20%20%20%20%20%20%20%20%20%20%20%20%20%20%20%20%20%20%20%20width%3A%20100.0%25%3B%0A%20%20%20%20%20%20%20%20%20%20%20%20%20%20%20%20%20%20%20%20height%3A%20500.0px%3B%0A%20%20%20%20%20%20%20%20%20%20%20%20%20%20%20%20%20%20%20%20left%3A%200.0%25%3B%0A%20%20%20%20%20%20%20%20%20%20%20%20%20%20%20%20%20%20%20%20top%3A%200.0%25%3B%0A%20%20%20%20%20%20%20%20%20%20%20%20%20%20%20%20%7D%0A%20%20%20%20%20%20%20%20%20%20%20%20%3C/style%3E%0A%20%20%20%20%20%20%20%20%0A%20%20%20%20%3Cscript%20src%3D%22https%3A//cdnjs.cloudflare.com/ajax/libs/leaflet.fullscreen/1.4.2/Control.FullScreen.min.js%22%3E%3C/script%3E%0A%20%20%20%20%3Clink%20rel%3D%22stylesheet%22%20href%3D%22https%3A//cdnjs.cloudflare.com/ajax/libs/leaflet.fullscreen/1.4.2/Control.FullScreen.min.css%22/%3E%0A%3C/head%3E%0A%3Cbody%3E%20%20%20%20%0A%20%20%20%20%0A%20%20%20%20%20%20%20%20%20%20%20%20%3Cdiv%20class%3D%22folium-map%22%20id%3D%22map_621934182d83404986d58bebbb844fc2%22%20%3E%3C/div%3E%0A%20%20%20%20%20%20%20%20%0A%3C/body%3E%0A%3Cscript%3E%20%20%20%20%0A%20%20%20%20%0A%20%20%20%20%20%20%20%20%20%20%20%20var%20map_621934182d83404986d58bebbb844fc2%20%3D%20L.map%28%0A%20%20%20%20%20%20%20%20%20%20%20%20%20%20%20%20%22map_621934182d83404986d58bebbb844fc2%22%2C%0A%20%20%20%20%20%20%20%20%20%20%20%20%20%20%20%20%7B%0A%20%20%20%20%20%20%20%20%20%20%20%20%20%20%20%20%20%20%20%20center%3A%20%5B52.3%2C%20-67.5%5D%2C%0A%20%20%20%20%20%20%20%20%20%20%20%20%20%20%20%20%20%20%20%20crs%3A%20L.CRS.EPSG3857%2C%0A%20%20%20%20%20%20%20%20%20%20%20%20%20%20%20%20%20%20%20%20zoom%3A%208%2C%0A%20%20%20%20%20%20%20%20%20%20%20%20%20%20%20%20%20%20%20%20zoomControl%3A%20true%2C%0A%20%20%20%20%20%20%20%20%20%20%20%20%20%20%20%20%20%20%20%20preferCanvas%3A%20false%2C%0A%20%20%20%20%20%20%20%20%20%20%20%20%20%20%20%20%7D%0A%20%20%20%20%20%20%20%20%20%20%20%20%29%3B%0A%0A%20%20%20%20%20%20%20%20%20%20%20%20%0A%0A%20%20%20%20%20%20%20%20%0A%20%20%20%20%0A%20%20%20%20%20%20%20%20%20%20%20%20var%20tile_layer_76a3a58a3e614fde99608b35072def65%20%3D%20L.tileLayer%28%0A%20%20%20%20%20%20%20%20%20%20%20%20%20%20%20%20%22https%3A//%7Bs%7D.tile.openstreetmap.org/%7Bz%7D/%7Bx%7D/%7By%7D.png%22%2C%0A%20%20%20%20%20%20%20%20%20%20%20%20%20%20%20%20%7B%22attribution%22%3A%20%22Data%20by%20%5Cu0026copy%3B%20%5Cu003ca%20href%3D%5C%22http%3A//openstreetmap.org%5C%22%5Cu003eOpenStreetMap%5Cu003c/a%5Cu003e%2C%20under%20%5Cu003ca%20href%3D%5C%22http%3A//www.openstreetmap.org/copyright%5C%22%5Cu003eODbL%5Cu003c/a%5Cu003e.%22%2C%20%22detectRetina%22%3A%20false%2C%20%22maxNativeZoom%22%3A%2018%2C%20%22maxZoom%22%3A%2018%2C%20%22minZoom%22%3A%200%2C%20%22noWrap%22%3A%20false%2C%20%22opacity%22%3A%201%2C%20%22subdomains%22%3A%20%22abc%22%2C%20%22tms%22%3A%20false%7D%0A%20%20%20%20%20%20%20%20%20%20%20%20%29.addTo%28map_621934182d83404986d58bebbb844fc2%29%3B%0A%20%20%20%20%20%20%20%20%0A%20%20%20%20%0A%20%20%20%20%20%20%20%20%20%20%20%20var%20tile_layer_7f8fd98f3fb443798af48d8e3b8bd265%20%3D%20L.tileLayer%28%0A%20%20%20%20%20%20%20%20%20%20%20%20%20%20%20%20%22https%3A//earthengine.googleapis.com/v1alpha/projects/earthengine-legacy/maps/86d8e1ca5bf197243d28855bd3b97395-ace64883826efdd6b3b5e4f87e7598c5/tiles/%7Bz%7D/%7Bx%7D/%7By%7D%22%2C%0A%20%20%20%20%20%20%20%20%20%20%20%20%20%20%20%20%7B%22attribution%22%3A%20%22Google%20Earth%20Engine%22%2C%20%22detectRetina%22%3A%20false%2C%20%22maxNativeZoom%22%3A%2018%2C%20%22maxZoom%22%3A%2018%2C%20%22minZoom%22%3A%200%2C%20%22noWrap%22%3A%20false%2C%20%22opacity%22%3A%201%2C%20%22subdomains%22%3A%20%22abc%22%2C%20%22tms%22%3A%20false%7D%0A%20%20%20%20%20%20%20%20%20%20%20%20%29.addTo%28map_621934182d83404986d58bebbb844fc2%29%3B%0A%20%20%20%20%20%20%20%20%0A%20%20%20%20%0A%20%20%20%20%20%20%20%20%20%20%20%20var%20layer_control_88c9155950fc43f58e260a16f825c8dc%20%3D%20%7B%0A%20%20%20%20%20%20%20%20%20%20%20%20%20%20%20%20base_layers%20%3A%20%7B%0A%20%20%20%20%20%20%20%20%20%20%20%20%20%20%20%20%20%20%20%20%22openstreetmap%22%20%3A%20tile_layer_76a3a58a3e614fde99608b35072def65%2C%0A%20%20%20%20%20%20%20%20%20%20%20%20%20%20%20%20%7D%2C%0A%20%20%20%20%20%20%20%20%20%20%20%20%20%20%20%20overlays%20%3A%20%20%7B%0A%20%20%20%20%20%20%20%20%20%20%20%20%20%20%20%20%20%20%20%20%22Image%22%20%3A%20tile_layer_7f8fd98f3fb443798af48d8e3b8bd265%2C%0A%20%20%20%20%20%20%20%20%20%20%20%20%20%20%20%20%7D%2C%0A%20%20%20%20%20%20%20%20%20%20%20%20%7D%3B%0A%20%20%20%20%20%20%20%20%20%20%20%20L.control.layers%28%0A%20%20%20%20%20%20%20%20%20%20%20%20%20%20%20%20layer_control_88c9155950fc43f58e260a16f825c8dc.base_layers%2C%0A%20%20%20%20%20%20%20%20%20%20%20%20%20%20%20%20layer_control_88c9155950fc43f58e260a16f825c8dc.overlays%2C%0A%20%20%20%20%20%20%20%20%20%20%20%20%20%20%20%20%7B%22autoZIndex%22%3A%20true%2C%20%22collapsed%22%3A%20true%2C%20%22position%22%3A%20%22topright%22%7D%0A%20%20%20%20%20%20%20%20%20%20%20%20%29.addTo%28map_621934182d83404986d58bebbb844fc2%29%3B%0A%20%20%20%20%20%20%20%20%0A%20%20%20%20%0A%20%20%20%20%20%20%20%20%20%20%20%20L.control.fullscreen%28%0A%20%20%20%20%20%20%20%20%20%20%20%20%20%20%20%20%7B%22forceSeparateButton%22%3A%20false%2C%20%22position%22%3A%20%22topleft%22%2C%20%22title%22%3A%20%22Full%20Screen%22%2C%20%22titleCancel%22%3A%20%22Exit%20Full%20Screen%22%7D%0A%20%20%20%20%20%20%20%20%20%20%20%20%29.addTo%28map_621934182d83404986d58bebbb844fc2%29%3B%0A%20%20%20%20%20%20%20%20%0A%3C/script%3E onload=\"this.contentDocument.open();this.contentDocument.write(    decodeURIComponent(this.getAttribute('data-html')));this.contentDocument.close();\" allowfullscreen webkitallowfullscreen mozallowfullscreen></iframe></div></div>"
      ],
      "text/plain": [
       "<folium.folium.Map at 0x1f6867fc820>"
      ]
     },
     "metadata": {},
     "output_type": "display_data"
    }
   ],
   "source": [
    "# filter collection and add ancillary bands\n",
    "\n",
    "input_collection = ee.ImageCollection(testImage) \\\n",
    "                     .map(lambda image: ib.addDate(image)) \\\n",
    "                     .map(lambda image: image.clip(mapBounds)) \\\n",
    "                     .map(lambda image: ib.s2MaskClear(image)) \\\n",
    "                     .map(lambda image: ib.s2MaskLand(image)) \\\n",
    "                     .map(lambda image: ib.addS2Geometry(colOptions, image))\n",
    "\n",
    "# get partition used to select network\n",
    "partition = (COLLECTION_OPTIONS[colName][\"partition\"]).filterBounds(mapBounds).mosaic().clip(mapBounds).rename('partition')\n",
    "\n",
    "# pre process input imagery and flag invalid inputs\n",
    "scaled_input_collection = input_collection.map(lambda image: ib.scaleBands(netOptions[\"inputBands\"],netOptions[\"inputScaling\"],image)) \\\n",
    "                                          .map(lambda image: ib.invalidInput(COLLECTION_OPTIONS[colName][\"sl2pDomain\"],netOptions[\"inputBands\"],image))\n",
    "\n",
    "# apply networks to produce mapped parameters\n",
    "estimateSL2P = scaled_input_collection.map(lambda image: wn.wrapperNNets(SL2P, partition, netOptions, COLLECTION_OPTIONS[colName], \"estimate\", image, outputName))\n",
    "uncertaintySL2P = scaled_input_collection.map(lambda image: wn.wrapperNNets(errorsSL2P, partition, netOptions, COLLECTION_OPTIONS[colName], \"error\", image, outputName))\n",
    "\n",
    "# scale and offset mapped parameter bands\n",
    "estimateSL2P = estimateSL2P.map(lambda image: image.addBands(image.select(\"estimate\"+outputName).multiply(ee.Image.constant(outputScale)).add(ee.Image.constant(outputOffset)), overwrite=True))\n",
    "uncertaintySL2P = uncertaintySL2P.map(lambda image: image.addBands(image.select(\"error\"+outputName).multiply(ee.Image.constant(outputScale)).add(ee.Image.constant(outputOffset)), overwrite=True))\n",
    "\n",
    "# produce final export collection\n",
    "export_collection = input_collection.combine(estimateSL2P).combine(uncertaintySL2P)\n",
    "    \n",
    "image_output_names = ([name+\"_\"+siteSelect+\"_\"+outputName for name in export_collection.toList(export_collection.size()).map(lambda image: ee.Image(image).id()).getInfo()])\n",
    "ee_func.displayImage(export_collection.mosaic().select('estimate'+outputName),0+outputOffset,10*outputScale+outputOffset, mapBounds)"
   ]
  },
  {
   "cell_type": "code",
   "execution_count": 9,
   "metadata": {
    "tags": []
   },
   "outputs": [],
   "source": [
    "# # export tasks to google drive\n",
    "# export_task = ee_func.export_collection_to_drive(collection=export_collection,\n",
    "#                                           num_images=1,\n",
    "#                                           image_names=image_output_names,\n",
    "#                                           scale=20,\n",
    "#                                           data_type=exportDataType,\n",
    "#                                           max_pixels=1e13)\n",
    "\n",
    "#export tasks to gee asset\n",
    "export_task = ee_func.export_collection_to_gee(collection = export_collection,\n",
    "                                          num_images = 1,\n",
    "                                          image_names = image_output_names,\n",
    "                                          asset_folder='users/ganghong/ALR',\n",
    "                                          scale = 10,\n",
    "                                          data_type = exportDataType,\n",
    "                                          max_pixels = 1e13)"
   ]
  },
  {
   "cell_type": "markdown",
   "metadata": {},
   "source": [
    "### SL2P10 (for comparison)"
   ]
  },
  {
   "cell_type": "code",
   "execution_count": 10,
   "metadata": {
    "tags": []
   },
   "outputs": [],
   "source": [
    "# parse the networks\n",
    "colName = 'COPERNICUS/S2_SR_10m'\n",
    "colOptions = COLLECTION_OPTIONS[colName]\n",
    "netOptions = VIS_OPTIONS[outputName][colName]\n",
    "numNets = ee.Number(ee.Feature((COLLECTION_OPTIONS[colName][\"Network_Ind\"]).first()).propertyNames().remove('Feature Index').remove('system:index').remove('lon').size())\n",
    "SL2P = ee.List.sequence(1,ee.Number(COLLECTION_OPTIONS[colName][\"numVariables\"]),1).map(lambda netNum: wn.makeNetVars(COLLECTION_OPTIONS[colName][\"Collection_SL2P\"],numNets,netNum));\n",
    "errorsSL2P = ee.List.sequence(1,ee.Number(COLLECTION_OPTIONS[colName][\"numVariables\"]),1).map(lambda netNum: wn.makeNetVars(COLLECTION_OPTIONS[colName][\"Collection_SL2Perrors\"],numNets,netNum));"
   ]
  },
  {
   "cell_type": "code",
   "execution_count": 11,
   "metadata": {
    "tags": []
   },
   "outputs": [
    {
     "data": {
      "text/html": [
       "<div style=\"width:100%;\"><div style=\"position:relative;width:100%;height:0;padding-bottom:60%;\"><span style=\"color:#565656\">Make this Notebook Trusted to load map: File -> Trust Notebook</span><iframe src=\"about:blank\" style=\"position:absolute;width:100%;height:100%;left:0;top:0;border:none !important;\" data-html=%3C%21DOCTYPE%20html%3E%0A%3Chead%3E%20%20%20%20%0A%20%20%20%20%3Cmeta%20http-equiv%3D%22content-type%22%20content%3D%22text/html%3B%20charset%3DUTF-8%22%20/%3E%0A%20%20%20%20%0A%20%20%20%20%20%20%20%20%3Cscript%3E%0A%20%20%20%20%20%20%20%20%20%20%20%20L_NO_TOUCH%20%3D%20false%3B%0A%20%20%20%20%20%20%20%20%20%20%20%20L_DISABLE_3D%20%3D%20false%3B%0A%20%20%20%20%20%20%20%20%3C/script%3E%0A%20%20%20%20%0A%20%20%20%20%3Cstyle%3Ehtml%2C%20body%20%7Bwidth%3A%20100%25%3Bheight%3A%20100%25%3Bmargin%3A%200%3Bpadding%3A%200%3B%7D%3C/style%3E%0A%20%20%20%20%3Cstyle%3E%23map%20%7Bposition%3Aabsolute%3Btop%3A0%3Bbottom%3A0%3Bright%3A0%3Bleft%3A0%3B%7D%3C/style%3E%0A%20%20%20%20%3Cscript%20src%3D%22https%3A//cdn.jsdelivr.net/npm/leaflet%401.6.0/dist/leaflet.js%22%3E%3C/script%3E%0A%20%20%20%20%3Cscript%20src%3D%22https%3A//code.jquery.com/jquery-1.12.4.min.js%22%3E%3C/script%3E%0A%20%20%20%20%3Cscript%20src%3D%22https%3A//maxcdn.bootstrapcdn.com/bootstrap/3.2.0/js/bootstrap.min.js%22%3E%3C/script%3E%0A%20%20%20%20%3Cscript%20src%3D%22https%3A//cdnjs.cloudflare.com/ajax/libs/Leaflet.awesome-markers/2.0.2/leaflet.awesome-markers.js%22%3E%3C/script%3E%0A%20%20%20%20%3Clink%20rel%3D%22stylesheet%22%20href%3D%22https%3A//cdn.jsdelivr.net/npm/leaflet%401.6.0/dist/leaflet.css%22/%3E%0A%20%20%20%20%3Clink%20rel%3D%22stylesheet%22%20href%3D%22https%3A//maxcdn.bootstrapcdn.com/bootstrap/3.2.0/css/bootstrap.min.css%22/%3E%0A%20%20%20%20%3Clink%20rel%3D%22stylesheet%22%20href%3D%22https%3A//maxcdn.bootstrapcdn.com/bootstrap/3.2.0/css/bootstrap-theme.min.css%22/%3E%0A%20%20%20%20%3Clink%20rel%3D%22stylesheet%22%20href%3D%22https%3A//maxcdn.bootstrapcdn.com/font-awesome/4.6.3/css/font-awesome.min.css%22/%3E%0A%20%20%20%20%3Clink%20rel%3D%22stylesheet%22%20href%3D%22https%3A//cdnjs.cloudflare.com/ajax/libs/Leaflet.awesome-markers/2.0.2/leaflet.awesome-markers.css%22/%3E%0A%20%20%20%20%3Clink%20rel%3D%22stylesheet%22%20href%3D%22https%3A//cdn.jsdelivr.net/gh/python-visualization/folium/folium/templates/leaflet.awesome.rotate.min.css%22/%3E%0A%20%20%20%20%0A%20%20%20%20%20%20%20%20%20%20%20%20%3Cmeta%20name%3D%22viewport%22%20content%3D%22width%3Ddevice-width%2C%0A%20%20%20%20%20%20%20%20%20%20%20%20%20%20%20%20initial-scale%3D1.0%2C%20maximum-scale%3D1.0%2C%20user-scalable%3Dno%22%20/%3E%0A%20%20%20%20%20%20%20%20%20%20%20%20%3Cstyle%3E%0A%20%20%20%20%20%20%20%20%20%20%20%20%20%20%20%20%23map_86e91d957ada47458b26e2fdd570a4fc%20%7B%0A%20%20%20%20%20%20%20%20%20%20%20%20%20%20%20%20%20%20%20%20position%3A%20relative%3B%0A%20%20%20%20%20%20%20%20%20%20%20%20%20%20%20%20%20%20%20%20width%3A%20100.0%25%3B%0A%20%20%20%20%20%20%20%20%20%20%20%20%20%20%20%20%20%20%20%20height%3A%20500.0px%3B%0A%20%20%20%20%20%20%20%20%20%20%20%20%20%20%20%20%20%20%20%20left%3A%200.0%25%3B%0A%20%20%20%20%20%20%20%20%20%20%20%20%20%20%20%20%20%20%20%20top%3A%200.0%25%3B%0A%20%20%20%20%20%20%20%20%20%20%20%20%20%20%20%20%7D%0A%20%20%20%20%20%20%20%20%20%20%20%20%3C/style%3E%0A%20%20%20%20%20%20%20%20%0A%20%20%20%20%3Cscript%20src%3D%22https%3A//cdnjs.cloudflare.com/ajax/libs/leaflet.fullscreen/1.4.2/Control.FullScreen.min.js%22%3E%3C/script%3E%0A%20%20%20%20%3Clink%20rel%3D%22stylesheet%22%20href%3D%22https%3A//cdnjs.cloudflare.com/ajax/libs/leaflet.fullscreen/1.4.2/Control.FullScreen.min.css%22/%3E%0A%3C/head%3E%0A%3Cbody%3E%20%20%20%20%0A%20%20%20%20%0A%20%20%20%20%20%20%20%20%20%20%20%20%3Cdiv%20class%3D%22folium-map%22%20id%3D%22map_86e91d957ada47458b26e2fdd570a4fc%22%20%3E%3C/div%3E%0A%20%20%20%20%20%20%20%20%0A%3C/body%3E%0A%3Cscript%3E%20%20%20%20%0A%20%20%20%20%0A%20%20%20%20%20%20%20%20%20%20%20%20var%20map_86e91d957ada47458b26e2fdd570a4fc%20%3D%20L.map%28%0A%20%20%20%20%20%20%20%20%20%20%20%20%20%20%20%20%22map_86e91d957ada47458b26e2fdd570a4fc%22%2C%0A%20%20%20%20%20%20%20%20%20%20%20%20%20%20%20%20%7B%0A%20%20%20%20%20%20%20%20%20%20%20%20%20%20%20%20%20%20%20%20center%3A%20%5B52.3%2C%20-67.5%5D%2C%0A%20%20%20%20%20%20%20%20%20%20%20%20%20%20%20%20%20%20%20%20crs%3A%20L.CRS.EPSG3857%2C%0A%20%20%20%20%20%20%20%20%20%20%20%20%20%20%20%20%20%20%20%20zoom%3A%208%2C%0A%20%20%20%20%20%20%20%20%20%20%20%20%20%20%20%20%20%20%20%20zoomControl%3A%20true%2C%0A%20%20%20%20%20%20%20%20%20%20%20%20%20%20%20%20%20%20%20%20preferCanvas%3A%20false%2C%0A%20%20%20%20%20%20%20%20%20%20%20%20%20%20%20%20%7D%0A%20%20%20%20%20%20%20%20%20%20%20%20%29%3B%0A%0A%20%20%20%20%20%20%20%20%20%20%20%20%0A%0A%20%20%20%20%20%20%20%20%0A%20%20%20%20%0A%20%20%20%20%20%20%20%20%20%20%20%20var%20tile_layer_b13466689be148ffbfe75648f8f14587%20%3D%20L.tileLayer%28%0A%20%20%20%20%20%20%20%20%20%20%20%20%20%20%20%20%22https%3A//%7Bs%7D.tile.openstreetmap.org/%7Bz%7D/%7Bx%7D/%7By%7D.png%22%2C%0A%20%20%20%20%20%20%20%20%20%20%20%20%20%20%20%20%7B%22attribution%22%3A%20%22Data%20by%20%5Cu0026copy%3B%20%5Cu003ca%20href%3D%5C%22http%3A//openstreetmap.org%5C%22%5Cu003eOpenStreetMap%5Cu003c/a%5Cu003e%2C%20under%20%5Cu003ca%20href%3D%5C%22http%3A//www.openstreetmap.org/copyright%5C%22%5Cu003eODbL%5Cu003c/a%5Cu003e.%22%2C%20%22detectRetina%22%3A%20false%2C%20%22maxNativeZoom%22%3A%2018%2C%20%22maxZoom%22%3A%2018%2C%20%22minZoom%22%3A%200%2C%20%22noWrap%22%3A%20false%2C%20%22opacity%22%3A%201%2C%20%22subdomains%22%3A%20%22abc%22%2C%20%22tms%22%3A%20false%7D%0A%20%20%20%20%20%20%20%20%20%20%20%20%29.addTo%28map_86e91d957ada47458b26e2fdd570a4fc%29%3B%0A%20%20%20%20%20%20%20%20%0A%20%20%20%20%0A%20%20%20%20%20%20%20%20%20%20%20%20var%20tile_layer_e9e47661f165405a8d2d3787390e81ae%20%3D%20L.tileLayer%28%0A%20%20%20%20%20%20%20%20%20%20%20%20%20%20%20%20%22https%3A//earthengine.googleapis.com/v1alpha/projects/earthengine-legacy/maps/9794d5646dfa00e33a1dd8a82504afba-26879fa1b962e831822de674273edfbd/tiles/%7Bz%7D/%7Bx%7D/%7By%7D%22%2C%0A%20%20%20%20%20%20%20%20%20%20%20%20%20%20%20%20%7B%22attribution%22%3A%20%22Google%20Earth%20Engine%22%2C%20%22detectRetina%22%3A%20false%2C%20%22maxNativeZoom%22%3A%2018%2C%20%22maxZoom%22%3A%2018%2C%20%22minZoom%22%3A%200%2C%20%22noWrap%22%3A%20false%2C%20%22opacity%22%3A%201%2C%20%22subdomains%22%3A%20%22abc%22%2C%20%22tms%22%3A%20false%7D%0A%20%20%20%20%20%20%20%20%20%20%20%20%29.addTo%28map_86e91d957ada47458b26e2fdd570a4fc%29%3B%0A%20%20%20%20%20%20%20%20%0A%20%20%20%20%0A%20%20%20%20%20%20%20%20%20%20%20%20var%20layer_control_7f8b1bf679f24cb5a4c0fe050563c4b8%20%3D%20%7B%0A%20%20%20%20%20%20%20%20%20%20%20%20%20%20%20%20base_layers%20%3A%20%7B%0A%20%20%20%20%20%20%20%20%20%20%20%20%20%20%20%20%20%20%20%20%22openstreetmap%22%20%3A%20tile_layer_b13466689be148ffbfe75648f8f14587%2C%0A%20%20%20%20%20%20%20%20%20%20%20%20%20%20%20%20%7D%2C%0A%20%20%20%20%20%20%20%20%20%20%20%20%20%20%20%20overlays%20%3A%20%20%7B%0A%20%20%20%20%20%20%20%20%20%20%20%20%20%20%20%20%20%20%20%20%22Image%22%20%3A%20tile_layer_e9e47661f165405a8d2d3787390e81ae%2C%0A%20%20%20%20%20%20%20%20%20%20%20%20%20%20%20%20%7D%2C%0A%20%20%20%20%20%20%20%20%20%20%20%20%7D%3B%0A%20%20%20%20%20%20%20%20%20%20%20%20L.control.layers%28%0A%20%20%20%20%20%20%20%20%20%20%20%20%20%20%20%20layer_control_7f8b1bf679f24cb5a4c0fe050563c4b8.base_layers%2C%0A%20%20%20%20%20%20%20%20%20%20%20%20%20%20%20%20layer_control_7f8b1bf679f24cb5a4c0fe050563c4b8.overlays%2C%0A%20%20%20%20%20%20%20%20%20%20%20%20%20%20%20%20%7B%22autoZIndex%22%3A%20true%2C%20%22collapsed%22%3A%20true%2C%20%22position%22%3A%20%22topright%22%7D%0A%20%20%20%20%20%20%20%20%20%20%20%20%29.addTo%28map_86e91d957ada47458b26e2fdd570a4fc%29%3B%0A%20%20%20%20%20%20%20%20%0A%20%20%20%20%0A%20%20%20%20%20%20%20%20%20%20%20%20L.control.fullscreen%28%0A%20%20%20%20%20%20%20%20%20%20%20%20%20%20%20%20%7B%22forceSeparateButton%22%3A%20false%2C%20%22position%22%3A%20%22topleft%22%2C%20%22title%22%3A%20%22Full%20Screen%22%2C%20%22titleCancel%22%3A%20%22Exit%20Full%20Screen%22%7D%0A%20%20%20%20%20%20%20%20%20%20%20%20%29.addTo%28map_86e91d957ada47458b26e2fdd570a4fc%29%3B%0A%20%20%20%20%20%20%20%20%0A%3C/script%3E onload=\"this.contentDocument.open();this.contentDocument.write(    decodeURIComponent(this.getAttribute('data-html')));this.contentDocument.close();\" allowfullscreen webkitallowfullscreen mozallowfullscreen></iframe></div></div>"
      ],
      "text/plain": [
       "<folium.folium.Map at 0x1f685f978b0>"
      ]
     },
     "metadata": {},
     "output_type": "display_data"
    }
   ],
   "source": [
    "# performs same procedure as above, using SL2P10 network\n",
    "# applies algorithm to 10 m bands ; generates a 10 m map\n",
    "\n",
    "# filter collection and add ancillary bands\n",
    "input_collection_10m = ee.ImageCollection(testImage) \\\n",
    "                     .map(lambda image: ib.addDate(image)) \\\n",
    "                     .map(lambda image: image.clip(mapBounds)) \\\n",
    "                     .map(lambda image: ib.s2MaskClear(image)) \\\n",
    "                     .map(lambda image: ib.s2MaskLand(image)) \\\n",
    "                     .map(lambda image: ib.addS2Geometry(colOptions, image))\n",
    "\n",
    "# get partition used to select network\n",
    "partition = (COLLECTION_OPTIONS[colName][\"partition\"]).filterBounds(mapBounds).mosaic().clip(mapBounds).rename('partition')\n",
    "\n",
    "# pre process input imagery and flag invalid inputs\n",
    "scaled_input_collection_10m = input_collection_10m.map(lambda image: ib.s2MaskLand(image)) \\\n",
    "                                                  .map(lambda image: ib.scaleBands(netOptions[\"inputBands\"],netOptions[\"inputScaling\"],image)) \\\n",
    "                                                  .map(lambda image: ib.invalidInput(COLLECTION_OPTIONS[colName][\"sl2pDomain\"],netOptions[\"inputBands\"],image))\n",
    "\n",
    "# apply networks to produce mapped parameters\n",
    "estimateSL2P_10m = scaled_input_collection_10m.map(lambda image: wn.wrapperNNets(SL2P, partition, netOptions, COLLECTION_OPTIONS[colName], \"estimate\", image, outputName))\n",
    "uncertaintySL2P_10m = scaled_input_collection_10m.map(lambda image: wn.wrapperNNets(errorsSL2P, partition, netOptions, COLLECTION_OPTIONS[colName], \"error\", image, outputName))\n",
    "\n",
    "# scale and offset mapped parameter bands\n",
    "estimateSL2P_10m = estimateSL2P_10m.map(lambda image: image.addBands(image.select(\"estimate\"+outputName) \\\n",
    "                                                             .multiply(ee.Image.constant(outputScale)) \\\n",
    "                                                             .add(ee.Image.constant(outputOffset)), overwrite=True))\n",
    "uncertaintySL2P_10m = uncertaintySL2P_10m.map(lambda image: image.addBands(image.select(\"error\"+outputName) \\\n",
    "                                                                   .multiply(ee.Image.constant(outputScale)) \\\n",
    "                                                                   .add(ee.Image.constant(outputOffset)), overwrite=True))\n",
    "\n",
    "\n",
    "# produce final export collection\n",
    "export_collection_10m = input_collection_10m.combine(estimateSL2P_10m).combine(uncertaintySL2P_10m)\n",
    "\n",
    "image_output_names_10m = ([name+\"_\"+siteSelect+\"_\"+outputName+\"_10m\" for name in export_collection_10m.toList(export_collection_10m.size()).map(lambda image: ee.Image(image).id()).getInfo()])\n",
    "ee_func.displayImage(export_collection_10m.mosaic().select('estimate'+outputName),0+outputOffset,10*outputScale+outputOffset, mapBounds)"
   ]
  },
  {
   "cell_type": "code",
   "execution_count": 12,
   "metadata": {
    "tags": []
   },
   "outputs": [],
   "source": [
    "# export tasks to google drive\n",
    "# export_task_10m = ee_func.export_collection_to_drive(collection = export_collection_10m,\n",
    "#                                           num_images = 1,\n",
    "#                                           image_names = image_output_names_10m,\n",
    "#                                           scale = 20,\n",
    "#                                           data_type = exportDataType,\n",
    "#                                           max_pixels = 1e13)\n",
    "\n",
    "export_task = ee_func.export_collection_to_gee(collection = export_collection_10m,\n",
    "                                          num_images = 1,\n",
    "                                          image_names = image_output_names_10m,\n",
    "                                          asset_folder='users/ganghong/ALR',\n",
    "                                          scale = 10,\n",
    "                                          data_type = exportDataType,\n",
    "                                          max_pixels = 1e13)"
   ]
  },
  {
   "cell_type": "markdown",
   "metadata": {
    "tags": []
   },
   "source": [
    "# 2 – Active Learning Regularization (LARS Feature Selection)\n",
    "\n",
    "a few notes:\n",
    "1. the responseBand from the above step doesn't have a geometry associated with it (only happens after being uploaded to GEE) so the image will have to be defined from existing GEE asset for the remaining steps even though the same image was created as inputImage (should be identical except for geometry)"
   ]
  },
  {
   "cell_type": "code",
   "execution_count": 13,
   "metadata": {},
   "outputs": [],
   "source": [
    "# order of bands from SL2P output:\n",
    "# 00-11: 'B1', 'B2', 'B3', 'B4', 'B5', 'B6', 'B7', 'B8', 'B8A', 'B9', 'B11', 'B12', \n",
    "# 12-19: 'AOT', 'WVP', 'SCL', 'TCI_R', 'TCI_G', 'TCI_B', 'MSK_CLDPRB', 'MSK_SNWPRB', \n",
    "# 20-26: 'QA10', 'QA20', 'QA60', 'date', 'cosVZA', 'cosSZA', 'cosRAA', \n",
    "# 27-32: 'estimateLAI', 'partition', 'networkID', 'errorLAI', 'partition_1', 'networkID_1'\n",
    "\n",
    "# define 10m band input image ; name bands of inputImage and scale response band\n",
    "# inputImage = ee.Image('users/kateharvey/'+siteSelect+'_'+outputName).select(1,2,3,7,22,23,27,28,29,30,31,32)\n",
    "inputImage = ee.Image('users/ganghong/ALR/'+image_output_names_10m[0]).select(1,2,3,7,22,23,27,28,29,30,31,32)\n",
    "inputImage_bands = ee.List(['B2', 'B3', 'B4', 'B8', 'QA60', 'date', 'estimate'+outputName, 'partition', 'networkID', 'error'+outputName, 'partition_1', 'networkID_1'])\n",
    "inputImage = inputImage.rename(inputImage_bands)"
   ]
  },
  {
   "cell_type": "code",
   "execution_count": 14,
   "metadata": {
    "tags": []
   },
   "outputs": [],
   "source": [
    "# Only include VIs that use B2, B3, B4, B8 to create a 10 m product\n",
    "input_VI_definition = ee.List([# \"RAW_B2  = b('B2')\",\n",
    "                             # \"RAW_B3  = b('B3')\",\n",
    "                             # \"RAW_B4  = b('B4')\",\n",
    "                             # \"RAW_B8  = b('B8')\",\n",
    "                               \"GI      = b('B3')/b('B4')\",\n",
    "                             # \"RVI3    = b('B4')/b('B6')\",\n",
    "                             # \"SR3     = b('B5')/b('B4')\",\n",
    "                             # \"GM1     = b('B6')/b('B3')\",\n",
    "                             # \"GM2     = b('B6')/b('B5')\",\n",
    "                             # \"SR2     = b('B7')/b('B3')\",\n",
    "                             # \"PSSR    = b('B7')/b('B4')\",\n",
    "                               \"SGI     = b('B8')/b('B4')\",\n",
    "                             # \"MSI     = b('B11')/b('B7')\",\n",
    "                             # \"II      = b('B11')/b('B12')\",\n",
    "                               \"GVI     = (b('B8')/b('B3'))-1\",\n",
    "                             # \"PSRI    = (b('B4')-b('B3'))/b('B6')\",\n",
    "                               \"NDVI3   = ((b('B8')-b('B4'))/(b('B8')))+b('B4')\",\n",
    "                             # \"SR5     = 1/b('B5')\",\n",
    "                             # \"SR6     = b('B4')/(b('B3')*b('B5'))\",\n",
    "                             # \"SR7     = b('B8')/(b('B3')*b('B5'))\",\n",
    "                             # \"IPVI    = b('B7')/(b('B7')+b('B4'))\",\n",
    "                             # \"ARI     = (1/b('B3'))-(1/b('B5'))\",\n",
    "                             # \"ARI2    = b('B7')*((1/b('B3'))-(1/b('B5')))\",\n",
    "                               \"NDVI    = (b('B8')-b('B4'))/(b('B8')+b('B4'))\",\n",
    "                               \"GNDVI   = (b('B8')-b('B3'))/(b('B8')+b('B3'))\",\n",
    "                             # \"NDWI    = (b('B8')-b('B11'))/(b('B8')+b('B11'))\",\n",
    "                             # \"NDREVI  = (b('B8')-b('B5'))/(b('B8')+b('B5'))\",\n",
    "                               \"NDGI    = (b('B3')-b('B4'))/(b('B3')+b('B4'))\",\n",
    "                             # \"NDI1    = (b('B7')-b('B5'))/(b('B7')-b('B4'))\",\n",
    "                             # \"NDI2    = (b('B8')-b('B5'))/(b('B8')-b('B4'))\",\n",
    "                             # \"RENDVI  = (b('B6')-b('B5'))/(b('B6')+b('B5'))\",\n",
    "                             # \"OSAVI   = (1.16*(b('B7')-b('B4')))/(b('B7')+b('B4')+0.61)\",\n",
    "                             # \"NMDI    = (b('B8')-(b('B11')-b('B12')))/(b('B8')+(b('B11')-b('B12')))\",\n",
    "                             # \"HI      = ((b('B3')-b('B5'))/(b('B3')+b('B5')))-0.5*b('B5')\",\n",
    "                             # \"GVSP    = (-0.283*b('B3') - 0.66*b('B4') + 0.577*b('B6') + 0.388*b('B8'))/(0.433*b('B3') - 0.632*b('B4') + 0.586*b('B6') + 0.264*b('B8A'))\",\n",
    "                             # \"MCARI   = ((b('B5')-b('B4'))-0.2*(b('B5')-b('B3')))*(b('B5')/b('B4'))\",\n",
    "                             # \"TCARI   = 3*((b('B5')-b('B4'))-0.2*(b('B5')-b('B3'))*(b('B5')/b('B4')))\",\n",
    "                               \"EVI     = 2.5*((b('B8')-b('B4'))/(b('B8')+6*b('B4')-7.5*b('B3')+1))\",\n",
    "                               \"EVI2    = 2.5*((b('B8')-b('B4'))/(b('B8')+2.4*b('B4')+1))\",\n",
    "                               \"RDVI    = (b('B8')-b('B4'))/((b('B8')+b('B4'))**0.5)\",\n",
    "                               \"MSR     = ((b('B8')/b('B4'))-1)/((b('B8')/b('B4'))**0.5+1)\",\n",
    "                             # \"MSAVI   = 0.5*(2*b('B7')+1-((2*b('B7')+1)**2-8*(b('B7')-b('B4')))**0.5)\",\n",
    "                               \"MSAVI2  = 0.5*(2*b('B8')+1-((2*b('B8')+1)**2-8*(b('B8')-b('B4')))**0.5)\",\n",
    "                             # \"MCARI2  = (1.5*(2.5*(b('B7')-b('B4'))-1.3*(b('B7')-b('B3'))))/((((2*b('B7')+1)**2)-(6*b('B7')-5*(b('B4')**0.5))-0.5)**0.5)\",\n",
    "                             # \"MTVI2   = (1.5*(1.2*(b('B7')-b('B3'))-2.5*(b('B4')-b('B3'))))/(((2*b('B7')+1)**2-(6*b('B7')-5*b('B4'))-0.5)**0.5)\",\n",
    "                             # \"MSR2    = ((b('B7')/b('B4'))-1)/(((b('B7')/b('B4'))+1)**0.5)\",\n",
    "                               \"NLI     = ((b('B8')**2)-b('B4'))/((b('B8')**2)+b('B4'))\"])\n",
    "\n",
    "# names of bands to pass to ALR method (excluding metadata and other non-spectral bands)\n",
    "input_bandNames = ['B2', 'B3', 'B4', 'B8', 'GI', 'SGI', 'GVI', 'NDVI3', 'NDVI', 'GNDVI', 'NDGI', 'EVI', 'EVI2', 'RDVI', 'MSR', 'MSAVI2', 'NLI']"
   ]
  },
  {
   "cell_type": "code",
   "execution_count": 15,
   "metadata": {
    "tags": []
   },
   "outputs": [],
   "source": [
    "# format image and generate list of selected features\n",
    "inputImage = alr.format_image(inputImage, inputImage_bands, responseBand, input_VI_definition)"
   ]
  },
  {
   "cell_type": "code",
   "execution_count": 16,
   "metadata": {
    "tags": []
   },
   "outputs": [],
   "source": [
    "# prepares the image to be ingested by the LARS algorithm\n",
    "# returns an image with the response band centred to a mean 0, and the other bands in the image standardized\n",
    "# to a mean 0 and standard deviation 1\n",
    "scaledImage = alr.scale_image(inputImage, responseBand)"
   ]
  },
  {
   "cell_type": "code",
   "execution_count": 17,
   "metadata": {},
   "outputs": [
    {
     "name": "stdout",
     "output_type": "stream",
     "text": [
      "selected features:  ['RDVI', 'B8', 'NLI', 'GI', 'B2']\n"
     ]
    }
   ],
   "source": [
    "# apply ALR to the image and obtain the features selected for the model\n",
    "# parameters: ee_LARS(inputImage, bandNames, responseBand, numFeatures, numSamples)\n",
    "select_features = alr.ee_LARS(scaledImage, input_bandNames, responseBand, 5, 10000)"
   ]
  },
  {
   "cell_type": "markdown",
   "metadata": {
    "tags": []
   },
   "source": [
    "### Export VI Image"
   ]
  },
  {
   "cell_type": "code",
   "execution_count": 18,
   "metadata": {
    "tags": []
   },
   "outputs": [],
   "source": [
    "# export formatted image to google drive (with added VI bands)\n",
    "# this will be used in the next section to train the regression tree\n",
    "\n",
    "# before export, scale VI bands up by factor of 1000 to preserve precision (EE only takes in integer portion)\n",
    "# print (inputImage.getInfo())\n",
    "# inputImage = inputImage.addBands(inputImage.select('GI', 'SGI', 'GVI', 'NDVI3', 'NDVI', 'GNDVI', 'NDGI', 'EVI', 'EVI2', 'RDVI', 'MSR', 'MSAVI2', 'NLI').multiply(1000), overwrite=True)\n",
    "export = ee.ImageCollection(inputImage)\n",
    "# print (export.getInfo())\n",
    "\n",
    "# export_task = ee_func.export_collection_to_drive(collection=export,\n",
    "#                                                  num_images=1,\n",
    "#                                                  image_names=siteSelect+'_'+outputName+'_vi_image',\n",
    "#                                                  # gdrive_folder = exportFolder,\n",
    "#                                                  scale=20,\n",
    "#                                                  data_type=exportDataType,\n",
    "#                                                  max_pixels=1e13)\n",
    "\n",
    "export_task = ee_func.export_collection_to_gee(collection=export,\n",
    "                                                 num_images=1,\n",
    "                                                 image_names=[siteSelect+'_'+outputName+'_VI'],\n",
    "                                                 # gdrive_folder = exportFolder,\n",
    "                                                 asset_folder='users/ganghong/ALR',\n",
    "                                                 scale=10,\n",
    "                                                 data_type=exportDataType,\n",
    "                                                 max_pixels=1e13)"
   ]
  },
  {
   "cell_type": "markdown",
   "metadata": {
    "tags": []
   },
   "source": [
    "Note: This will create a .TIFF record in the user's google drive account that must be uploaded as an Earth Engine asset before proceeding to the next step."
   ]
  },
  {
   "cell_type": "markdown",
   "metadata": {
    "tags": []
   },
   "source": [
    "---\n",
    "# 2a – Regression Tree (Random Forest and CART)"
   ]
  },
  {
   "cell_type": "markdown",
   "metadata": {
    "tags": []
   },
   "source": [
    "### Train and Apply Regression Tree to Image"
   ]
  },
  {
   "cell_type": "code",
   "execution_count": 19,
   "metadata": {},
   "outputs": [],
   "source": [
    "# DEFINE IMAGE & FORMAT BANDS\n",
    "# unclassified = ee.Image('users/kateharvey/'+siteSelect+'_'+outputName+'_VI')\n",
    "unclassified = ee.Image('users/ganghong/ALR/'+siteSelect+'_'+outputName+'_VI')\n",
    "\n",
    "bands = ee.List([responseBand, 'GI', 'SGI', 'GVI', 'NDVI3', 'NDVI', 'GNDVI', 'NDGI',\n",
    "                 'EVI', 'EVI2', 'RDVI', 'MSR', 'MSAVI2', 'NLI', 'B2', 'B3', 'B4', 'B8',\n",
    "                 'QA60', 'date', 'partition', 'networkID', 'error'+outputName, 'partition_1', 'networkID_1'])\n",
    "unclassified = unclassified.rename(bands)\n",
    "\n",
    "# prediction bands (equivalent to select_features, with responseBand)\n",
    "bands = select_features\n",
    "input_bands = select_features.add(responseBand)"
   ]
  },
  {
   "cell_type": "code",
   "execution_count": 20,
   "metadata": {},
   "outputs": [],
   "source": [
    "# GET TRAINING DATASET\n",
    "# Feature Vector (table) used to train regression model (select only prediction bands)\n",
    "training_data = ee.FeatureCollection(unclassified.sample(numPixels=1000, seed=1).select(input_bands))"
   ]
  },
  {
   "cell_type": "code",
   "execution_count": 21,
   "metadata": {},
   "outputs": [],
   "source": [
    "# CREATE CLASSIFIERS\n",
    "\n",
    "# implement regression tree with Random Forest algorithm\n",
    "# optional parameters for smileRandomForest(): numberOfTrees, variablesPerSplit, minLeafPopulation, bagFraction, maxNodes, seed\n",
    "rf_classifier = ee.Classifier.smileRandomForest(100).setOutputMode('REGRESSION').train(features=training_data,\n",
    "                                                                                       classProperty=responseBand,\n",
    "                                                                                       inputProperties=input_bands)\n",
    "\n",
    "# implement regression tree with CART (Classification and Regression Tree) algorithm\n",
    "# optional parameters for smileCart(): maxNodes, minLeafPopulation\n",
    "cart_classifier = ee.Classifier.smileCart().setOutputMode('REGRESSION').train(features=training_data,\n",
    "                                                                              classProperty=responseBand,\n",
    "                                                                              inputProperties=input_bands)"
   ]
  },
  {
   "cell_type": "code",
   "execution_count": 22,
   "metadata": {},
   "outputs": [],
   "source": [
    "# CLASSIFY IMAGE\n",
    "rf_classified = unclassified.select(bands).classify(rf_classifier, 'rf_'+responseBand)\n",
    "cart_classified = unclassified.select(bands).classify(cart_classifier, 'cart_'+responseBand)"
   ]
  },
  {
   "cell_type": "code",
   "execution_count": 23,
   "metadata": {},
   "outputs": [],
   "source": [
    "# CHECK RESULTS (CROSS-VALIDATION)\n",
    "joined_image = unclassified.select(responseBand).addBands(rf_classified.select('rf_'+responseBand))\\\n",
    "                                                .addBands(cart_classified.select('cart_'+responseBand))\n",
    "\n",
    "# using same random seed as training_data, get 2000 samples and discard the first 1000, leaving 1000 different samples for cross-validation\n",
    "# this sampling method ensures no overlap between training and testing datasets\n",
    "joined_samples = ee.FeatureCollection(joined_image.sample(numPixels=2000, seed=1).toList(2000, 1000))"
   ]
  },
  {
   "cell_type": "markdown",
   "metadata": {
    "tags": []
   },
   "source": [
    "### Export Feature Collection (for scatter plot comparison in next section)"
   ]
  },
  {
   "cell_type": "code",
   "execution_count": 24,
   "metadata": {},
   "outputs": [],
   "source": [
    "export_csv = ee.batch.Export.table.toDrive(collection=joined_samples,\n",
    "                                           description=siteSelect+'_'+outputName+'_regression_tree',\n",
    "                                           fileFormat='CSV')\n",
    "\n",
    "# Start the export task\n",
    "export_csv.start()"
   ]
  },
  {
   "cell_type": "code",
   "execution_count": 25,
   "metadata": {
    "tags": []
   },
   "outputs": [
    {
     "name": "stdout",
     "output_type": "stream",
     "text": [
      "READY\n",
      "RUNNING\n",
      "COMPLETED\n"
     ]
    }
   ],
   "source": [
    "# Wait loop to see if the data has finished exporting by checking with the server-side\n",
    "prev_task_status = ee.data.getTaskStatus(export_csv.id)[0][\"state\"]\n",
    "print(prev_task_status)\n",
    "while export_csv.active():\n",
    "    task_status = ee.data.getTaskStatus(export_csv.id)[0][\"state\"]\n",
    "    if(task_status != prev_task_status):\n",
    "        print(task_status)\n",
    "    prev_task_status = task_status\n",
    "    time.sleep(5)\n",
    "print(ee.data.getTaskStatus(export_csv.id)[0][\"state\"])"
   ]
  },
  {
   "cell_type": "markdown",
   "metadata": {
    "tags": []
   },
   "source": [
    "### Visualize and Compare Predictions:"
   ]
  },
  {
   "cell_type": "code",
   "execution_count": 26,
   "metadata": {},
   "outputs": [],
   "source": [
    "# Read the CSV file into dataframe\n",
    "data = pd.read_csv('./gdrive/'+siteSelect+'_'+outputName+'_regression_tree.csv')\n",
    "\n",
    "# remove rows that have a value of 0 for the responseBand\n",
    "data = data[data[responseBand] != 0]\n",
    "\n",
    "\n",
    "# Get column data (for plots [0,1] and [1,1])\n",
    "rf = data['rf_'+responseBand]/1000    # divide by 1000 to get properly scaled values for the variable\n",
    "cart = data['cart_'+responseBand]/1000\n",
    "actual = data[responseBand]/1000\n",
    "\n",
    "# Obtain point density to display as a scatterplot (KDE)\n",
    "xy_rf = np.vstack([actual, rf])\n",
    "z_rf = scipy.stats.gaussian_kde(xy_rf)(xy_rf)\n",
    "\n",
    "xy_cart = np.vstack([actual, cart])\n",
    "z_cart = scipy.stats.gaussian_kde(xy_cart)(xy_cart)\n",
    "\n",
    "\n",
    "# Sort by responseBand in ascending order (for plots [0,0] and [1,0] below)\n",
    "data_sorted = data.sort_values(responseBand, axis=0).reset_index(drop=True)\n",
    "rf_sorted = data_sorted['rf_'+responseBand]/1000\n",
    "cart_sorted = data_sorted['cart_'+responseBand]/1000\n",
    "actual_sorted = data_sorted[responseBand]/1000\n",
    "index_sorted = data_sorted.index\n",
    "\n",
    "# Obtain point density for sorted values\n",
    "xy_rf_sorted = np.vstack([actual_sorted, rf_sorted])\n",
    "z_rf_sorted = scipy.stats.gaussian_kde(xy_rf_sorted)(xy_rf_sorted)\n",
    "\n",
    "xy_cart_sorted = np.vstack([actual_sorted, cart_sorted])\n",
    "z_cart_sorted = scipy.stats.gaussian_kde(xy_cart_sorted)(xy_cart_sorted)"
   ]
  },
  {
   "cell_type": "code",
   "execution_count": 27,
   "metadata": {
    "tags": []
   },
   "outputs": [
    {
     "data": {
      "image/png": "[encoded data removed]",
      "text/plain": [
       "<Figure size 864x864 with 6 Axes>"
      ]
     },
     "metadata": {
      "needs_background": "light"
     },
     "output_type": "display_data"
    }
   ],
   "source": [
    "# PLOT & COMPARE PREDICTIONS FROM BOTH REGRESSION TREES\n",
    "fig, ax = plt.subplots(2, 2, figsize=(12,12))\n",
    "xy = np.linspace(0, outputMax, 100)\n",
    "\n",
    "# ax[0,0]\n",
    "fig1 = ax[0,0].scatter(index_sorted, rf_sorted, c=z_rf_sorted, label='random forest')\n",
    "ax[0,0].scatter(index_sorted, actual_sorted, c='r', s=1, label='sl2p estimate')\n",
    "rf_rmse_sorted = skl.metrics.mean_squared_error(actual_sorted, rf_sorted, squared=False)\n",
    "rf_r2_sorted = skl.metrics.r2_score(actual_sorted, rf_sorted)\n",
    "\n",
    "ax[0,0].title.set_text('RMSE: {rmse:.5f}          R2: {r2:.5f}'.format(rmse=rf_rmse_sorted, r2=rf_r2_sorted))\n",
    "ax[0,0].set_xlabel('Index (1000 samples)')\n",
    "ax[0,0].set_ylabel('Random Forest Prediction')\n",
    "ax[0,0].legend()\n",
    "\n",
    "\n",
    "# ax[0,1]\n",
    "ax[0,1].plot(xy, xy, c='r')\n",
    "fig2 = ax[0,1].scatter(rf, actual, c=z_rf)\n",
    "rf_rmse = skl.metrics.mean_squared_error(actual, rf, squared=False)\n",
    "rf_r2 = skl.metrics.r2_score(actual, rf)\n",
    "\n",
    "ax[0,1].title.set_text('RMSE: {rmse:.5f}         R2: {r2:.5f}'.format(rmse=rf_rmse, r2=rf_r2))\n",
    "ax[0,1].set_xlabel('SL2P Prediction')\n",
    "ax[0,1].set_ylabel('Random Forest Prediction')\n",
    "\n",
    "fig.subplots_adjust(right=0.9)\n",
    "cbar_ax1 = fig.add_axes([0.92, 0.55, 0.02, 0.3])\n",
    "fig.colorbar(fig2, cax=cbar_ax1)\n",
    "\n",
    "\n",
    "# ax[1,0]\n",
    "fig3 = ax[1,0].scatter(index_sorted, cart_sorted, c=z_cart_sorted, label='cart')\n",
    "ax[1,0].scatter(index_sorted, actual_sorted, c='r', s=1, label='sl2p estimate')\n",
    "cart_rmse_sorted = skl.metrics.mean_squared_error(actual_sorted, cart_sorted, squared=False)\n",
    "cart_r2_sorted = skl.metrics.r2_score(actual_sorted, cart_sorted)\n",
    "\n",
    "ax[1,0].title.set_text('RMSE: {rmse:.5f}          R2: {r2:.5f}'.format(rmse=cart_rmse_sorted, r2=cart_r2_sorted))\n",
    "ax[1,0].set_xlabel('Index (1000 samples)')\n",
    "ax[1,0].set_ylabel('CART Prediction')\n",
    "ax[1,0].legend()\n",
    "\n",
    "\n",
    "# ax[1,1]\n",
    "ax[1,1].plot(xy, xy, c='r')\n",
    "fig4 = ax[1,1].scatter(cart, actual, c=z_cart)\n",
    "cart_rmse = skl.metrics.mean_squared_error(actual, cart, squared=False)\n",
    "cart_r2 = skl.metrics.r2_score(actual, cart)\n",
    "ax[1,1].title.set_text('RMSE: {rmse:.5f}          R2: {r2:.5f}'.format(rmse=cart_rmse, r2=cart_r2))\n",
    "ax[1,1].set_xlabel('SL2P Prediction')\n",
    "ax[1,1].set_ylabel('CART Prediction')\n",
    "\n",
    "fig.subplots_adjust(right=0.9)\n",
    "cbar_ax3 = fig.add_axes([0.92, 0.15, 0.02, 0.3])\n",
    "fig.colorbar(fig4, cax=cbar_ax3)\n",
    "\n",
    "# save plot as .png\n",
    "fig.savefig('./plots/trees/'+siteSelect+'_'+outputName+'_rf_cart_comparison.png')"
   ]
  },
  {
   "cell_type": "markdown",
   "metadata": {},
   "source": [
    "### Export Random Forest/CART imagery to drive"
   ]
  },
  {
   "cell_type": "code",
   "execution_count": 28,
   "metadata": {
    "tags": []
   },
   "outputs": [
    {
     "data": {
      "text/html": [
       "<div style=\"width:100%;\"><div style=\"position:relative;width:100%;height:0;padding-bottom:60%;\"><span style=\"color:#565656\">Make this Notebook Trusted to load map: File -> Trust Notebook</span><iframe src=\"about:blank\" style=\"position:absolute;width:100%;height:100%;left:0;top:0;border:none !important;\" data-html=%3C%21DOCTYPE%20html%3E%0A%3Chead%3E%20%20%20%20%0A%20%20%20%20%3Cmeta%20http-equiv%3D%22content-type%22%20content%3D%22text/html%3B%20charset%3DUTF-8%22%20/%3E%0A%20%20%20%20%0A%20%20%20%20%20%20%20%20%3Cscript%3E%0A%20%20%20%20%20%20%20%20%20%20%20%20L_NO_TOUCH%20%3D%20false%3B%0A%20%20%20%20%20%20%20%20%20%20%20%20L_DISABLE_3D%20%3D%20false%3B%0A%20%20%20%20%20%20%20%20%3C/script%3E%0A%20%20%20%20%0A%20%20%20%20%3Cstyle%3Ehtml%2C%20body%20%7Bwidth%3A%20100%25%3Bheight%3A%20100%25%3Bmargin%3A%200%3Bpadding%3A%200%3B%7D%3C/style%3E%0A%20%20%20%20%3Cstyle%3E%23map%20%7Bposition%3Aabsolute%3Btop%3A0%3Bbottom%3A0%3Bright%3A0%3Bleft%3A0%3B%7D%3C/style%3E%0A%20%20%20%20%3Cscript%20src%3D%22https%3A//cdn.jsdelivr.net/npm/leaflet%401.6.0/dist/leaflet.js%22%3E%3C/script%3E%0A%20%20%20%20%3Cscript%20src%3D%22https%3A//code.jquery.com/jquery-1.12.4.min.js%22%3E%3C/script%3E%0A%20%20%20%20%3Cscript%20src%3D%22https%3A//maxcdn.bootstrapcdn.com/bootstrap/3.2.0/js/bootstrap.min.js%22%3E%3C/script%3E%0A%20%20%20%20%3Cscript%20src%3D%22https%3A//cdnjs.cloudflare.com/ajax/libs/Leaflet.awesome-markers/2.0.2/leaflet.awesome-markers.js%22%3E%3C/script%3E%0A%20%20%20%20%3Clink%20rel%3D%22stylesheet%22%20href%3D%22https%3A//cdn.jsdelivr.net/npm/leaflet%401.6.0/dist/leaflet.css%22/%3E%0A%20%20%20%20%3Clink%20rel%3D%22stylesheet%22%20href%3D%22https%3A//maxcdn.bootstrapcdn.com/bootstrap/3.2.0/css/bootstrap.min.css%22/%3E%0A%20%20%20%20%3Clink%20rel%3D%22stylesheet%22%20href%3D%22https%3A//maxcdn.bootstrapcdn.com/bootstrap/3.2.0/css/bootstrap-theme.min.css%22/%3E%0A%20%20%20%20%3Clink%20rel%3D%22stylesheet%22%20href%3D%22https%3A//maxcdn.bootstrapcdn.com/font-awesome/4.6.3/css/font-awesome.min.css%22/%3E%0A%20%20%20%20%3Clink%20rel%3D%22stylesheet%22%20href%3D%22https%3A//cdnjs.cloudflare.com/ajax/libs/Leaflet.awesome-markers/2.0.2/leaflet.awesome-markers.css%22/%3E%0A%20%20%20%20%3Clink%20rel%3D%22stylesheet%22%20href%3D%22https%3A//cdn.jsdelivr.net/gh/python-visualization/folium/folium/templates/leaflet.awesome.rotate.min.css%22/%3E%0A%20%20%20%20%0A%20%20%20%20%20%20%20%20%20%20%20%20%3Cmeta%20name%3D%22viewport%22%20content%3D%22width%3Ddevice-width%2C%0A%20%20%20%20%20%20%20%20%20%20%20%20%20%20%20%20initial-scale%3D1.0%2C%20maximum-scale%3D1.0%2C%20user-scalable%3Dno%22%20/%3E%0A%20%20%20%20%20%20%20%20%20%20%20%20%3Cstyle%3E%0A%20%20%20%20%20%20%20%20%20%20%20%20%20%20%20%20%23map_c54025ab704a414c9e753bb846908cb9%20%7B%0A%20%20%20%20%20%20%20%20%20%20%20%20%20%20%20%20%20%20%20%20position%3A%20relative%3B%0A%20%20%20%20%20%20%20%20%20%20%20%20%20%20%20%20%20%20%20%20width%3A%20100.0%25%3B%0A%20%20%20%20%20%20%20%20%20%20%20%20%20%20%20%20%20%20%20%20height%3A%20500.0px%3B%0A%20%20%20%20%20%20%20%20%20%20%20%20%20%20%20%20%20%20%20%20left%3A%200.0%25%3B%0A%20%20%20%20%20%20%20%20%20%20%20%20%20%20%20%20%20%20%20%20top%3A%200.0%25%3B%0A%20%20%20%20%20%20%20%20%20%20%20%20%20%20%20%20%7D%0A%20%20%20%20%20%20%20%20%20%20%20%20%3C/style%3E%0A%20%20%20%20%20%20%20%20%0A%20%20%20%20%3Cscript%20src%3D%22https%3A//cdnjs.cloudflare.com/ajax/libs/leaflet.fullscreen/1.4.2/Control.FullScreen.min.js%22%3E%3C/script%3E%0A%20%20%20%20%3Clink%20rel%3D%22stylesheet%22%20href%3D%22https%3A//cdnjs.cloudflare.com/ajax/libs/leaflet.fullscreen/1.4.2/Control.FullScreen.min.css%22/%3E%0A%3C/head%3E%0A%3Cbody%3E%20%20%20%20%0A%20%20%20%20%0A%20%20%20%20%20%20%20%20%20%20%20%20%3Cdiv%20class%3D%22folium-map%22%20id%3D%22map_c54025ab704a414c9e753bb846908cb9%22%20%3E%3C/div%3E%0A%20%20%20%20%20%20%20%20%0A%3C/body%3E%0A%3Cscript%3E%20%20%20%20%0A%20%20%20%20%0A%20%20%20%20%20%20%20%20%20%20%20%20var%20map_c54025ab704a414c9e753bb846908cb9%20%3D%20L.map%28%0A%20%20%20%20%20%20%20%20%20%20%20%20%20%20%20%20%22map_c54025ab704a414c9e753bb846908cb9%22%2C%0A%20%20%20%20%20%20%20%20%20%20%20%20%20%20%20%20%7B%0A%20%20%20%20%20%20%20%20%20%20%20%20%20%20%20%20%20%20%20%20center%3A%20%5B52.3%2C%20-67.5%5D%2C%0A%20%20%20%20%20%20%20%20%20%20%20%20%20%20%20%20%20%20%20%20crs%3A%20L.CRS.EPSG3857%2C%0A%20%20%20%20%20%20%20%20%20%20%20%20%20%20%20%20%20%20%20%20zoom%3A%208%2C%0A%20%20%20%20%20%20%20%20%20%20%20%20%20%20%20%20%20%20%20%20zoomControl%3A%20true%2C%0A%20%20%20%20%20%20%20%20%20%20%20%20%20%20%20%20%20%20%20%20preferCanvas%3A%20false%2C%0A%20%20%20%20%20%20%20%20%20%20%20%20%20%20%20%20%7D%0A%20%20%20%20%20%20%20%20%20%20%20%20%29%3B%0A%0A%20%20%20%20%20%20%20%20%20%20%20%20%0A%0A%20%20%20%20%20%20%20%20%0A%20%20%20%20%0A%20%20%20%20%20%20%20%20%20%20%20%20var%20tile_layer_9814455a5a5e469fb4c860af3e034588%20%3D%20L.tileLayer%28%0A%20%20%20%20%20%20%20%20%20%20%20%20%20%20%20%20%22https%3A//%7Bs%7D.tile.openstreetmap.org/%7Bz%7D/%7Bx%7D/%7By%7D.png%22%2C%0A%20%20%20%20%20%20%20%20%20%20%20%20%20%20%20%20%7B%22attribution%22%3A%20%22Data%20by%20%5Cu0026copy%3B%20%5Cu003ca%20href%3D%5C%22http%3A//openstreetmap.org%5C%22%5Cu003eOpenStreetMap%5Cu003c/a%5Cu003e%2C%20under%20%5Cu003ca%20href%3D%5C%22http%3A//www.openstreetmap.org/copyright%5C%22%5Cu003eODbL%5Cu003c/a%5Cu003e.%22%2C%20%22detectRetina%22%3A%20false%2C%20%22maxNativeZoom%22%3A%2018%2C%20%22maxZoom%22%3A%2018%2C%20%22minZoom%22%3A%200%2C%20%22noWrap%22%3A%20false%2C%20%22opacity%22%3A%201%2C%20%22subdomains%22%3A%20%22abc%22%2C%20%22tms%22%3A%20false%7D%0A%20%20%20%20%20%20%20%20%20%20%20%20%29.addTo%28map_c54025ab704a414c9e753bb846908cb9%29%3B%0A%20%20%20%20%20%20%20%20%0A%20%20%20%20%0A%20%20%20%20%20%20%20%20%20%20%20%20var%20tile_layer_b3684ba4045449a9a1a067ec622edbdf%20%3D%20L.tileLayer%28%0A%20%20%20%20%20%20%20%20%20%20%20%20%20%20%20%20%22https%3A//earthengine.googleapis.com/v1alpha/projects/earthengine-legacy/maps/b0e2700c9f6ef4488e8979a9b84c99a3-550933588f07749a01b7b9cda4b7e4ec/tiles/%7Bz%7D/%7Bx%7D/%7By%7D%22%2C%0A%20%20%20%20%20%20%20%20%20%20%20%20%20%20%20%20%7B%22attribution%22%3A%20%22Google%20Earth%20Engine%22%2C%20%22detectRetina%22%3A%20false%2C%20%22maxNativeZoom%22%3A%2018%2C%20%22maxZoom%22%3A%2018%2C%20%22minZoom%22%3A%200%2C%20%22noWrap%22%3A%20false%2C%20%22opacity%22%3A%201%2C%20%22subdomains%22%3A%20%22abc%22%2C%20%22tms%22%3A%20false%7D%0A%20%20%20%20%20%20%20%20%20%20%20%20%29.addTo%28map_c54025ab704a414c9e753bb846908cb9%29%3B%0A%20%20%20%20%20%20%20%20%0A%20%20%20%20%0A%20%20%20%20%20%20%20%20%20%20%20%20var%20layer_control_1699b87a7bf74f18af867a4f58d2c8d7%20%3D%20%7B%0A%20%20%20%20%20%20%20%20%20%20%20%20%20%20%20%20base_layers%20%3A%20%7B%0A%20%20%20%20%20%20%20%20%20%20%20%20%20%20%20%20%20%20%20%20%22openstreetmap%22%20%3A%20tile_layer_9814455a5a5e469fb4c860af3e034588%2C%0A%20%20%20%20%20%20%20%20%20%20%20%20%20%20%20%20%7D%2C%0A%20%20%20%20%20%20%20%20%20%20%20%20%20%20%20%20overlays%20%3A%20%20%7B%0A%20%20%20%20%20%20%20%20%20%20%20%20%20%20%20%20%20%20%20%20%22Image%22%20%3A%20tile_layer_b3684ba4045449a9a1a067ec622edbdf%2C%0A%20%20%20%20%20%20%20%20%20%20%20%20%20%20%20%20%7D%2C%0A%20%20%20%20%20%20%20%20%20%20%20%20%7D%3B%0A%20%20%20%20%20%20%20%20%20%20%20%20L.control.layers%28%0A%20%20%20%20%20%20%20%20%20%20%20%20%20%20%20%20layer_control_1699b87a7bf74f18af867a4f58d2c8d7.base_layers%2C%0A%20%20%20%20%20%20%20%20%20%20%20%20%20%20%20%20layer_control_1699b87a7bf74f18af867a4f58d2c8d7.overlays%2C%0A%20%20%20%20%20%20%20%20%20%20%20%20%20%20%20%20%7B%22autoZIndex%22%3A%20true%2C%20%22collapsed%22%3A%20true%2C%20%22position%22%3A%20%22topright%22%7D%0A%20%20%20%20%20%20%20%20%20%20%20%20%29.addTo%28map_c54025ab704a414c9e753bb846908cb9%29%3B%0A%20%20%20%20%20%20%20%20%0A%20%20%20%20%0A%20%20%20%20%20%20%20%20%20%20%20%20L.control.fullscreen%28%0A%20%20%20%20%20%20%20%20%20%20%20%20%20%20%20%20%7B%22forceSeparateButton%22%3A%20false%2C%20%22position%22%3A%20%22topleft%22%2C%20%22title%22%3A%20%22Full%20Screen%22%2C%20%22titleCancel%22%3A%20%22Exit%20Full%20Screen%22%7D%0A%20%20%20%20%20%20%20%20%20%20%20%20%29.addTo%28map_c54025ab704a414c9e753bb846908cb9%29%3B%0A%20%20%20%20%20%20%20%20%0A%3C/script%3E onload=\"this.contentDocument.open();this.contentDocument.write(    decodeURIComponent(this.getAttribute('data-html')));this.contentDocument.close();\" allowfullscreen webkitallowfullscreen mozallowfullscreen></iframe></div></div>"
      ],
      "text/plain": [
       "<folium.folium.Map at 0x1f686871610>"
      ]
     },
     "metadata": {},
     "output_type": "display_data"
    }
   ],
   "source": [
    "# Display map:\n",
    "# m = folium.Map(location=mapCenter, zoom_start=12, height=400)\n",
    "\n",
    "vis_params = {\n",
    "    'min': 0,\n",
    "    'max': outputScale*outputMax}\n",
    "\n",
    "rf_map = ee.Image(ee_func.displayImage(rf_classified, vis_params['min'], vis_params['max'], mapBounds)).clip(mapBounds)\n",
    "# ee_func.displayImage(cart_classified, vis_params['min'], vis_params['max'], mapBounds)\n",
    "# sl2p_layer = m.add_ee_layer(unclassified, vis_params, 'Image')"
   ]
  },
  {
   "cell_type": "code",
   "execution_count": 24,
   "metadata": {},
   "outputs": [],
   "source": [
    "# Export tasks:\n",
    "# export_task = ee_func.export_collection_to_drive(collection=rf_map,\n",
    "#                                                  num_images=1,\n",
    "#                                                  image_names=siteSelect+'_'+outputName+'_rf_map',\n",
    "#                                                  scale=20,\n",
    "#                                                  data_type=exportDataType,\n",
    "#                                                  max_pixels=1e13)"
   ]
  },
  {
   "cell_type": "code",
   "execution_count": 30,
   "metadata": {},
   "outputs": [],
   "source": [
    "# Export directly to EE:\n",
    "export_task = ee_func.export_collection_to_gee(collection=rf_classified,\n",
    "                                                 num_images=1,\n",
    "                                                 image_names=[siteSelect+'_'+outputName+'_rf_10m'],\n",
    "                                                 asset_folder='users/ganghong/ALR',\n",
    "                                                 scale=10,\n",
    "                                                 data_type=exportDataType,\n",
    "                                                 max_pixels=1e13)"
   ]
  },
  {
   "cell_type": "markdown",
   "metadata": {
    "tags": []
   },
   "source": [
    "---\n",
    "# 2b – NNET (Tensorflow)"
   ]
  },
  {
   "cell_type": "markdown",
   "metadata": {
    "tags": []
   },
   "source": [
    "### Exports"
   ]
  },
  {
   "cell_type": "code",
   "execution_count": 31,
   "metadata": {},
   "outputs": [],
   "source": [
    "# scale image responseBand for export (multiplied by 1000 for previous steps)\n",
    "inputImage = inputImage.addBands(inputImage.select(responseBand).divide(1000), overwrite=True)\n",
    "# inputImage.sample(numPixels=100).getInfo()"
   ]
  },
  {
   "cell_type": "code",
   "execution_count": 32,
   "metadata": {},
   "outputs": [],
   "source": [
    "# Create the export task on the server side from Earth Engine. Remember that the data will be exported to the google drive of the google\n",
    "# account you used when you initiated the Earth Engine API authentication flow, so ensure that, that accounts drive is synced to the \n",
    "# gdrive folder in the same folder as this script\n",
    "trimmedCollection = alr.trim_data(image=inputImage.updateMask(inputImage.select(responseBand).gt(0)),\n",
    "                                  selected_features=select_features,\n",
    "                                  response_band=responseBand,\n",
    "                                  num_samples=10000,\n",
    "                                  num_partitions=10)\n",
    "\n",
    "exportData = ee.batch.Export.table.toDrive(collection=trimmedCollection,\n",
    "                                           description=siteSelect+'_'+outputName+'_10m',\n",
    "                                           fileFormat=\"CSV\")\n",
    "\n",
    "# Start the export data task\n",
    "exportData.start()"
   ]
  },
  {
   "cell_type": "code",
   "execution_count": 33,
   "metadata": {},
   "outputs": [
    {
     "name": "stdout",
     "output_type": "stream",
     "text": [
      "READY\n",
      "RUNNING\n",
      "COMPLETED\n"
     ]
    }
   ],
   "source": [
    "# Wait loop to see if the data has finished exporting by checking with the server-side\n",
    "prev_task_status = ee.data.getTaskStatus(exportData.id)[0][\"state\"]\n",
    "print(prev_task_status)\n",
    "while exportData.active():\n",
    "    task_status = ee.data.getTaskStatus(exportData.id)[0][\"state\"]\n",
    "    if(task_status != prev_task_status):\n",
    "        print(task_status)\n",
    "    prev_task_status = task_status\n",
    "    time.sleep(5)\n",
    "print(ee.data.getTaskStatus(exportData.id)[0][\"state\"])"
   ]
  },
  {
   "cell_type": "markdown",
   "metadata": {},
   "source": [
    "Note: This will create a .csv in the user's google drive folder that must be put into the 'gdrive' folder inside this directory so it can be used in the next section."
   ]
  },
  {
   "cell_type": "markdown",
   "metadata": {
    "tags": []
   },
   "source": [
    "### Read data and make nets"
   ]
  },
  {
   "cell_type": "code",
   "execution_count": 34,
   "metadata": {},
   "outputs": [],
   "source": [
    "# Read the CSV file into dataframes\n",
    "trimmed_data = pd.read_csv('./gdrive/'+siteSelect+'_'+outputName+'_10m.csv')\n",
    "X = trimmed_data.drop(labels=[responseBand, 'system:index', '.geo'], axis=1)\n",
    "y = trimmed_data[responseBand]\n",
    "\n",
    "# Preprocess the input features by standardizing them to a mean of 0 and a standard deviation of 1 for the neural network\n",
    "X = pd.DataFrame(skl.preprocessing.scale(X))"
   ]
  },
  {
   "cell_type": "code",
   "execution_count": 35,
   "metadata": {},
   "outputs": [
    {
     "name": "stdout",
     "output_type": "stream",
     "text": [
      "Epoch 1/100\n",
      "191/191 [==============================] - 1s 2ms/step - loss: 0.0687 - mse: 0.0687 - mae: 0.1794\n",
      "Epoch 2/100\n",
      "191/191 [==============================] - 0s 1ms/step - loss: 0.0015 - mse: 0.0015 - mae: 0.0282\n",
      "Epoch 3/100\n",
      "191/191 [==============================] - 0s 1ms/step - loss: 7.6406e-04 - mse: 7.6406e-04 - mae: 0.0193\n",
      "Epoch 4/100\n",
      "191/191 [==============================] - 0s 1ms/step - loss: 5.8546e-04 - mse: 5.8546e-04 - mae: 0.0165\n",
      "Epoch 5/100\n",
      "191/191 [==============================] - 0s 1ms/step - loss: 4.9366e-04 - mse: 4.9366e-04 - mae: 0.0150\n",
      "Epoch 6/100\n",
      "191/191 [==============================] - 0s 1ms/step - loss: 4.2118e-04 - mse: 4.2118e-04 - mae: 0.0137\n",
      "Epoch 7/100\n",
      "191/191 [==============================] - 0s 2ms/step - loss: 3.4319e-04 - mse: 3.4319e-04 - mae: 0.0122\n",
      "Epoch 8/100\n",
      "191/191 [==============================] - 0s 2ms/step - loss: 2.7027e-04 - mse: 2.7027e-04 - mae: 0.0108\n",
      "Epoch 9/100\n",
      "191/191 [==============================] - 0s 2ms/step - loss: 2.2163e-04 - mse: 2.2163e-04 - mae: 0.0099\n",
      "Epoch 10/100\n",
      "191/191 [==============================] - 0s 1ms/step - loss: 1.8711e-04 - mse: 1.8711e-04 - mae: 0.0091\n",
      "Epoch 11/100\n",
      "191/191 [==============================] - 0s 1ms/step - loss: 1.5800e-04 - mse: 1.5800e-04 - mae: 0.0085\n",
      "Epoch 12/100\n",
      "191/191 [==============================] - 0s 1ms/step - loss: 1.4336e-04 - mse: 1.4336e-04 - mae: 0.0081\n",
      "Epoch 13/100\n",
      "191/191 [==============================] - 0s 1ms/step - loss: 1.3364e-04 - mse: 1.3364e-04 - mae: 0.0077\n",
      "Epoch 14/100\n",
      "191/191 [==============================] - 0s 1ms/step - loss: 1.2692e-04 - mse: 1.2692e-04 - mae: 0.0076\n",
      "Epoch 15/100\n",
      "191/191 [==============================] - 0s 1ms/step - loss: 1.1911e-04 - mse: 1.1911e-04 - mae: 0.0074\n",
      "Epoch 16/100\n",
      "191/191 [==============================] - 0s 1ms/step - loss: 1.1567e-04 - mse: 1.1567e-04 - mae: 0.0074\n",
      "Epoch 17/100\n",
      "191/191 [==============================] - 0s 1ms/step - loss: 1.1019e-04 - mse: 1.1019e-04 - mae: 0.0072\n",
      "Epoch 18/100\n",
      "191/191 [==============================] - 0s 1ms/step - loss: 1.0810e-04 - mse: 1.0810e-04 - mae: 0.0072\n",
      "Epoch 19/100\n",
      "191/191 [==============================] - 0s 1ms/step - loss: 1.0273e-04 - mse: 1.0273e-04 - mae: 0.0070\n",
      "Epoch 20/100\n",
      "191/191 [==============================] - 0s 1ms/step - loss: 1.0273e-04 - mse: 1.0273e-04 - mae: 0.0070\n",
      "Epoch 21/100\n",
      "191/191 [==============================] - 0s 1ms/step - loss: 9.4696e-05 - mse: 9.4696e-05 - mae: 0.0068\n",
      "Epoch 22/100\n",
      "191/191 [==============================] - 0s 1ms/step - loss: 9.5650e-05 - mse: 9.5650e-05 - mae: 0.0067\n",
      "Epoch 23/100\n",
      "191/191 [==============================] - 0s 1ms/step - loss: 9.1622e-05 - mse: 9.1622e-05 - mae: 0.0067\n",
      "Epoch 24/100\n",
      "191/191 [==============================] - 0s 1ms/step - loss: 8.7741e-05 - mse: 8.7741e-05 - mae: 0.0064\n",
      "Epoch 25/100\n",
      "191/191 [==============================] - 0s 1ms/step - loss: 8.7050e-05 - mse: 8.7050e-05 - mae: 0.0064\n",
      "Epoch 26/100\n",
      "191/191 [==============================] - 0s 1ms/step - loss: 7.9519e-05 - mse: 7.9519e-05 - mae: 0.0062\n",
      "Epoch 27/100\n",
      "191/191 [==============================] - 0s 1ms/step - loss: 8.2074e-05 - mse: 8.2074e-05 - mae: 0.0061\n",
      "Epoch 28/100\n",
      "191/191 [==============================] - 0s 1ms/step - loss: 7.4776e-05 - mse: 7.4776e-05 - mae: 0.0060\n",
      "Epoch 29/100\n",
      "191/191 [==============================] - 0s 1ms/step - loss: 7.3998e-05 - mse: 7.3998e-05 - mae: 0.0060\n",
      "Epoch 30/100\n",
      "191/191 [==============================] - 0s 1ms/step - loss: 6.8704e-05 - mse: 6.8704e-05 - mae: 0.0058\n",
      "Epoch 31/100\n",
      "191/191 [==============================] - 0s 1ms/step - loss: 6.6711e-05 - mse: 6.6711e-05 - mae: 0.0056\n",
      "Epoch 32/100\n",
      "191/191 [==============================] - 0s 1ms/step - loss: 6.8920e-05 - mse: 6.8920e-05 - mae: 0.0056\n",
      "Epoch 33/100\n",
      "191/191 [==============================] - 0s 2ms/step - loss: 6.6897e-05 - mse: 6.6897e-05 - mae: 0.0055\n",
      "Epoch 34/100\n",
      "191/191 [==============================] - 0s 1ms/step - loss: 6.0826e-05 - mse: 6.0826e-05 - mae: 0.0054\n",
      "Epoch 35/100\n",
      "191/191 [==============================] - 0s 1ms/step - loss: 5.8242e-05 - mse: 5.8242e-05 - mae: 0.0053\n",
      "Epoch 36/100\n",
      "191/191 [==============================] - 0s 1ms/step - loss: 5.7005e-05 - mse: 5.7005e-05 - mae: 0.0052\n",
      "Epoch 37/100\n",
      "191/191 [==============================] - 0s 1ms/step - loss: 5.3273e-05 - mse: 5.3273e-05 - mae: 0.0050\n",
      "Epoch 38/100\n",
      "191/191 [==============================] - 0s 1ms/step - loss: 5.3693e-05 - mse: 5.3693e-05 - mae: 0.0051\n",
      "Epoch 39/100\n",
      "191/191 [==============================] - 0s 1ms/step - loss: 5.3169e-05 - mse: 5.3169e-05 - mae: 0.0049\n",
      "Epoch 40/100\n",
      "191/191 [==============================] - 0s 1ms/step - loss: 4.8026e-05 - mse: 4.8026e-05 - mae: 0.0048\n",
      "Epoch 41/100\n",
      "191/191 [==============================] - 0s 1ms/step - loss: 4.4331e-05 - mse: 4.4331e-05 - mae: 0.0046\n",
      "Epoch 42/100\n",
      "191/191 [==============================] - 0s 1ms/step - loss: 4.5721e-05 - mse: 4.5721e-05 - mae: 0.0046\n",
      "Epoch 43/100\n",
      "191/191 [==============================] - 0s 1ms/step - loss: 4.2623e-05 - mse: 4.2623e-05 - mae: 0.0045\n",
      "Epoch 44/100\n",
      "191/191 [==============================] - 0s 1ms/step - loss: 5.1973e-05 - mse: 5.1973e-05 - mae: 0.0047\n",
      "Epoch 45/100\n",
      "191/191 [==============================] - 0s 1ms/step - loss: 3.9826e-05 - mse: 3.9826e-05 - mae: 0.0043\n",
      "Epoch 46/100\n",
      "191/191 [==============================] - 0s 1ms/step - loss: 3.8801e-05 - mse: 3.8801e-05 - mae: 0.0042\n",
      "Epoch 47/100\n",
      "191/191 [==============================] - 0s 1ms/step - loss: 4.1860e-05 - mse: 4.1860e-05 - mae: 0.0043\n",
      "Epoch 48/100\n",
      "191/191 [==============================] - 0s 1ms/step - loss: 4.0604e-05 - mse: 4.0604e-05 - mae: 0.0043\n",
      "Epoch 49/100\n",
      "191/191 [==============================] - 0s 1ms/step - loss: 3.6302e-05 - mse: 3.6302e-05 - mae: 0.0041\n",
      "Epoch 50/100\n",
      "191/191 [==============================] - 0s 1ms/step - loss: 3.5952e-05 - mse: 3.5952e-05 - mae: 0.0040\n",
      "Epoch 51/100\n",
      "191/191 [==============================] - 0s 1ms/step - loss: 3.2072e-05 - mse: 3.2072e-05 - mae: 0.0039\n",
      "Epoch 52/100\n",
      "191/191 [==============================] - 0s 1ms/step - loss: 3.1048e-05 - mse: 3.1048e-05 - mae: 0.0037\n",
      "Epoch 53/100\n",
      "191/191 [==============================] - 0s 1ms/step - loss: 3.0062e-05 - mse: 3.0062e-05 - mae: 0.0037\n",
      "Epoch 54/100\n",
      "191/191 [==============================] - 0s 1ms/step - loss: 2.9214e-05 - mse: 2.9214e-05 - mae: 0.0036\n",
      "Epoch 55/100\n",
      "191/191 [==============================] - 0s 1ms/step - loss: 2.9170e-05 - mse: 2.9170e-05 - mae: 0.0037\n",
      "Epoch 56/100\n",
      "191/191 [==============================] - 0s 1ms/step - loss: 2.7675e-05 - mse: 2.7675e-05 - mae: 0.0036\n",
      "Epoch 57/100\n",
      "191/191 [==============================] - 0s 2ms/step - loss: 2.9223e-05 - mse: 2.9223e-05 - mae: 0.0036\n",
      "Epoch 58/100\n",
      "191/191 [==============================] - 0s 1ms/step - loss: 2.7171e-05 - mse: 2.7171e-05 - mae: 0.0035\n",
      "Epoch 59/100\n",
      "191/191 [==============================] - 0s 1ms/step - loss: 2.2808e-05 - mse: 2.2808e-05 - mae: 0.0033\n",
      "Epoch 60/100\n",
      "191/191 [==============================] - 0s 1ms/step - loss: 2.3666e-05 - mse: 2.3666e-05 - mae: 0.0033\n",
      "Epoch 61/100\n",
      "191/191 [==============================] - 0s 2ms/step - loss: 2.6038e-05 - mse: 2.6038e-05 - mae: 0.0034\n",
      "Epoch 62/100\n",
      "191/191 [==============================] - 0s 1ms/step - loss: 2.6649e-05 - mse: 2.6649e-05 - mae: 0.0033\n",
      "Epoch 63/100\n",
      "191/191 [==============================] - 0s 1ms/step - loss: 2.2380e-05 - mse: 2.2380e-05 - mae: 0.0031\n",
      "Epoch 64/100\n",
      "191/191 [==============================] - ETA: 0s - loss: 1.8920e-05 - mse: 1.8920e-05 - mae: 0.003 - 0s 1ms/step - loss: 1.8450e-05 - mse: 1.8450e-05 - mae: 0.0030\n",
      "Epoch 65/100\n",
      "191/191 [==============================] - 0s 2ms/step - loss: 2.3998e-05 - mse: 2.3998e-05 - mae: 0.0032\n",
      "Epoch 66/100\n",
      "191/191 [==============================] - 0s 1ms/step - loss: 1.8106e-05 - mse: 1.8106e-05 - mae: 0.0029\n",
      "Epoch 67/100\n",
      "191/191 [==============================] - 0s 1ms/step - loss: 1.9417e-05 - mse: 1.9417e-05 - mae: 0.0030\n",
      "Epoch 68/100\n",
      "191/191 [==============================] - 0s 1ms/step - loss: 1.9146e-05 - mse: 1.9146e-05 - mae: 0.0029\n",
      "Epoch 69/100\n",
      "191/191 [==============================] - 0s 1ms/step - loss: 1.6714e-05 - mse: 1.6714e-05 - mae: 0.0028\n",
      "Epoch 70/100\n",
      "191/191 [==============================] - 0s 1ms/step - loss: 1.6598e-05 - mse: 1.6598e-05 - mae: 0.0028\n",
      "Epoch 71/100\n",
      "191/191 [==============================] - 0s 1ms/step - loss: 1.6414e-05 - mse: 1.6414e-05 - mae: 0.0028\n",
      "Epoch 72/100\n",
      "191/191 [==============================] - 0s 1ms/step - loss: 1.9969e-05 - mse: 1.9969e-05 - mae: 0.0029\n",
      "Epoch 73/100\n",
      "191/191 [==============================] - 0s 1ms/step - loss: 2.2883e-05 - mse: 2.2883e-05 - mae: 0.0030\n",
      "Epoch 74/100\n",
      "191/191 [==============================] - 0s 1ms/step - loss: 1.3181e-05 - mse: 1.3181e-05 - mae: 0.0025\n",
      "Epoch 75/100\n",
      "191/191 [==============================] - 0s 2ms/step - loss: 1.5948e-05 - mse: 1.5948e-05 - mae: 0.0026\n",
      "Epoch 76/100\n",
      "191/191 [==============================] - 0s 1ms/step - loss: 1.4080e-05 - mse: 1.4080e-05 - mae: 0.0026\n",
      "Epoch 77/100\n",
      "191/191 [==============================] - 0s 1ms/step - loss: 1.4325e-05 - mse: 1.4325e-05 - mae: 0.0025\n",
      "Epoch 78/100\n",
      "191/191 [==============================] - 0s 1ms/step - loss: 1.2691e-05 - mse: 1.2691e-05 - mae: 0.0025\n",
      "Epoch 79/100\n",
      "191/191 [==============================] - 0s 1ms/step - loss: 1.5967e-05 - mse: 1.5967e-05 - mae: 0.0026\n",
      "Epoch 80/100\n",
      "191/191 [==============================] - 0s 1ms/step - loss: 1.1815e-05 - mse: 1.1815e-05 - mae: 0.0024\n",
      "Epoch 81/100\n",
      "191/191 [==============================] - 0s 1ms/step - loss: 1.3069e-05 - mse: 1.3069e-05 - mae: 0.0024\n",
      "Epoch 82/100\n",
      "191/191 [==============================] - 0s 1ms/step - loss: 1.1326e-05 - mse: 1.1326e-05 - mae: 0.0023\n",
      "Epoch 83/100\n",
      "191/191 [==============================] - 0s 1ms/step - loss: 1.2959e-05 - mse: 1.2959e-05 - mae: 0.0024\n",
      "Epoch 84/100\n",
      "191/191 [==============================] - ETA: 0s - loss: 1.4867e-05 - mse: 1.4867e-05 - mae: 0.002 - 0s 1ms/step - loss: 1.4251e-05 - mse: 1.4251e-05 - mae: 0.0024\n",
      "Epoch 85/100\n",
      "191/191 [==============================] - 0s 2ms/step - loss: 1.3050e-05 - mse: 1.3050e-05 - mae: 0.0024\n",
      "Epoch 86/100\n",
      "191/191 [==============================] - 0s 1ms/step - loss: 1.1630e-05 - mse: 1.1630e-05 - mae: 0.0023\n",
      "Epoch 87/100\n",
      "191/191 [==============================] - 0s 1ms/step - loss: 1.0369e-05 - mse: 1.0369e-05 - mae: 0.0022\n",
      "Epoch 88/100\n",
      "191/191 [==============================] - 0s 1ms/step - loss: 1.3706e-05 - mse: 1.3706e-05 - mae: 0.0024\n",
      "Epoch 89/100\n",
      "191/191 [==============================] - 0s 1ms/step - loss: 1.0708e-05 - mse: 1.0708e-05 - mae: 0.0022\n",
      "Epoch 90/100\n",
      "191/191 [==============================] - 0s 1ms/step - loss: 1.1443e-05 - mse: 1.1443e-05 - mae: 0.0022\n",
      "Epoch 91/100\n",
      "191/191 [==============================] - 0s 2ms/step - loss: 1.1022e-05 - mse: 1.1022e-05 - mae: 0.0022\n",
      "Epoch 92/100\n",
      "191/191 [==============================] - 0s 1ms/step - loss: 1.0601e-05 - mse: 1.0601e-05 - mae: 0.0022\n",
      "Epoch 93/100\n",
      "191/191 [==============================] - 0s 1ms/step - loss: 8.9875e-06 - mse: 8.9875e-06 - mae: 0.0020\n",
      "Epoch 94/100\n",
      "191/191 [==============================] - 0s 2ms/step - loss: 1.0233e-05 - mse: 1.0233e-05 - mae: 0.0022\n",
      "Epoch 95/100\n",
      "191/191 [==============================] - 0s 1ms/step - loss: 1.1068e-05 - mse: 1.1068e-05 - mae: 0.0021\n",
      "Epoch 96/100\n",
      "191/191 [==============================] - 0s 1ms/step - loss: 9.3844e-06 - mse: 9.3844e-06 - mae: 0.0021\n",
      "Epoch 97/100\n",
      "191/191 [==============================] - 0s 1ms/step - loss: 9.4433e-06 - mse: 9.4433e-06 - mae: 0.0021\n",
      "Epoch 98/100\n",
      "191/191 [==============================] - 0s 1ms/step - loss: 9.7944e-06 - mse: 9.7944e-06 - mae: 0.0021\n",
      "Epoch 99/100\n",
      "191/191 [==============================] - 0s 1ms/step - loss: 1.2342e-05 - mse: 1.2342e-05 - mae: 0.0021\n",
      "Epoch 100/100\n",
      "191/191 [==============================] - 0s 1ms/step - loss: 7.6390e-06 - mse: 7.6390e-06 - mae: 0.0019\n"
     ]
    }
   ],
   "source": [
    "# Use Keras to create a sequential model neural network which only has simple dense layers of the specified number of nodes\n",
    "model = alr.make_nets(X, y)"
   ]
  },
  {
   "cell_type": "code",
   "execution_count": 36,
   "metadata": {},
   "outputs": [],
   "source": [
    "# Predict our input data to evaluate the performance (for now)\n",
    "predictions = pd.Series(model.predict(X.to_numpy()).flatten())"
   ]
  },
  {
   "cell_type": "code",
   "execution_count": 37,
   "metadata": {},
   "outputs": [],
   "source": [
    "# Prepare data to display as a scatterplot\n",
    "xy_tf = np.vstack([y, predictions])\n",
    "z_tf = scipy.stats.gaussian_kde(xy_tf)(xy_tf)\n",
    "\n",
    "idx_tf = z_tf.argsort()\n",
    "x_tf = y[idx_tf]\n",
    "y_tf = predictions[idx_tf]\n",
    "z_tf = z_tf[idx_tf]\n",
    "\n",
    "rmse_tf = skl.metrics.mean_squared_error(x_tf, y_tf, squared=False)"
   ]
  },
  {
   "cell_type": "code",
   "execution_count": 38,
   "metadata": {},
   "outputs": [
    {
     "data": {
      "image/png": "[encoded data removed]",
      "text/plain": [
       "<Figure size 864x720 with 2 Axes>"
      ]
     },
     "metadata": {
      "needs_background": "light"
     },
     "output_type": "display_data"
    }
   ],
   "source": [
    "a_tf = np.linspace(0, outputMax, 1000)\n",
    "fig, ax = plt.subplots(1, 1, figsize=(12,10))\n",
    "\n",
    "fig1 = ax.scatter(x_tf, y_tf, c=z_tf)\n",
    "ax.plot(a_tf, a_tf, c='r')\n",
    "ax.set_xlabel('SL2P {}'.format(responseBand))\n",
    "ax.set_ylabel('ALR predicted {}'.format(outputName))\n",
    "plt.colorbar(mappable=fig1, ax=ax)\n",
    "\n",
    "ax.title.set_text('LASSO LARS {} PREDICTION - RMSE = {}'.format(responseBand, rmse_tf))\n",
    "\n",
    "# save plot as .png\n",
    "fig.savefig('./plots/lars/'+siteSelect+'_'+outputName+'_lars.png')"
   ]
  },
  {
   "cell_type": "code",
   "execution_count": 39,
   "metadata": {},
   "outputs": [
    {
     "data": {
      "text/plain": [
       "[array([[ 0.11545126,  0.6785925 , -0.3300622 ,  0.46825668, -0.5134087 ],\n",
       "        [-0.00108779, -0.2684889 , -0.38383758,  0.52323234,  0.32812446],\n",
       "        [ 0.23884194, -0.17656943,  0.33806738,  0.409755  , -0.439442  ],\n",
       "        [-0.17666568,  0.15103106,  0.2734626 ,  0.1319635 , -0.59180826],\n",
       "        [ 0.70763516,  0.45414954,  0.24888551,  0.06585811, -0.75208586]],\n",
       "       dtype=float32),\n",
       " array([ 0.02448252, -0.06624283, -0.04771373, -0.07793381, -0.06774423],\n",
       "       dtype=float32),\n",
       " array([[ 0.7315161 ,  0.01075307, -0.02955065, -0.28765842],\n",
       "        [ 0.5182478 , -0.53323597,  0.60705495,  0.41785952],\n",
       "        [ 0.4929854 , -0.58364433,  0.7425842 ,  0.7280648 ],\n",
       "        [ 0.09410563, -0.3460937 ,  0.39777663,  0.281722  ],\n",
       "        [ 0.68133384, -0.55735403,  0.6866708 ,  0.52807575]],\n",
       "       dtype=float32),\n",
       " array([-0.1285299 ,  0.17499858, -0.08118907,  0.03450423], dtype=float32),\n",
       " array([[-0.46710566, -0.5314602 ,  0.360213  ],\n",
       "        [-0.3100312 ,  0.7450936 , -0.9369494 ],\n",
       "        [ 0.6302169 , -0.31759262,  0.0987172 ],\n",
       "        [-0.19140637, -0.53129387, -0.5184131 ]], dtype=float32),\n",
       " array([-0.00048357,  0.19595689,  0.05145203], dtype=float32),\n",
       " array([[-0.40803358,  1.1089928 ],\n",
       "        [ 0.28316706, -0.5663001 ],\n",
       "        [ 0.07939274, -0.54096335]], dtype=float32),\n",
       " array([ 0.0757246 , -0.03561849], dtype=float32),\n",
       " array([[ 0.83414894],\n",
       "        [-1.4529858 ]], dtype=float32),\n",
       " array([0.10028433], dtype=float32)]"
      ]
     },
     "execution_count": 39,
     "metadata": {},
     "output_type": "execute_result"
    }
   ],
   "source": [
    "model.get_weights()"
   ]
  },
  {
   "cell_type": "code",
   "execution_count": 40,
   "metadata": {},
   "outputs": [],
   "source": [
    "elu = np.vectorize(alr.elu)\n",
    "softplus = np.vectorize(alr.softplus)\n",
    "softsign = np.vectorize(alr.softsign)\n",
    "relu = np.vectorize(alr.relu)\n",
    "tanh = np.vectorize(alr.tanh)\n",
    "sigmoid = np.vectorize(alr.sigmoid)"
   ]
  },
  {
   "cell_type": "code",
   "execution_count": 41,
   "metadata": {},
   "outputs": [
    {
     "name": "stdout",
     "output_type": "stream",
     "text": [
      "0.5639862\n",
      "0.563986163820133\n"
     ]
    }
   ],
   "source": [
    "row = 4802\n",
    "inputs = X.iloc[row, :].to_numpy()\n",
    "print(model.predict(inputs.reshape((-1,5)))[0][0])\n",
    "print(alr.apply_nnet(inputs, model)[0])"
   ]
  },
  {
   "cell_type": "code",
   "execution_count": 42,
   "metadata": {},
   "outputs": [],
   "source": [
    "# Writing the neural network to a CSV file to be uploaded to the server side on Google Earth Engine\n",
    "export_data = alr.export_nnet(model, X)\n",
    "with open(siteSelect+'_'+outputName+'_nnet.csv', 'w', newline='') as csvfile:\n",
    "    nnet_writer = csv.writer(csvfile)\n",
    "    for layerdata in export_data:\n",
    "        nnet_writer.writerow(layerdata)"
   ]
  },
  {
   "cell_type": "code",
   "execution_count": null,
   "metadata": {},
   "outputs": [],
   "source": []
  }
 ],
 "metadata": {
  "kernelspec": {
   "display_name": "Python 3 (ipykernel)",
   "language": "python",
   "name": "python3"
  },
  "language_info": {
   "codemirror_mode": {
    "name": "ipython",
    "version": 3
   },
   "file_extension": ".py",
   "mimetype": "text/x-python",
   "name": "python",
   "nbconvert_exporter": "python",
   "pygments_lexer": "ipython3",
   "version": "3.9.7"
  }
 },
 "nbformat": 4,
 "nbformat_minor": 4
}
