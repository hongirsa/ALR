{
 "cells": [
  {
   "cell_type": "markdown",
   "metadata": {
    "tags": []
   },
   "source": [
    "---\n",
    "# 3 Regression Trees (LEAFToolbox - SL2P + ALR)\n",
    "\n",
    "This notebook contains code blocks to generate predictions based on three different treatment methods, which are as follows:\n",
    "1. SL2P10 – using only the output from SL2P10_10m\n",
    "2. LARS + Regression Tree – using feature selection (LARS) and smileCART (GEE function)\n",
    "3. LARS + Neural Network – as implemented by Hemit in ALR_client_side\n",
    "---"
   ]
  },
  {
   "cell_type": "code",
   "execution_count": 1,
   "metadata": {},
   "outputs": [],
   "source": [
    "import ee\n",
    "service_account = '171083136856-compute@developer.gserviceaccount.com'\n",
    "credentials = ee.ServiceAccountCredentials(service_account, 'privatekey.json')\n",
    "ee.Initialize(credentials)"
   ]
  },
  {
   "cell_type": "code",
   "execution_count": 3,
   "metadata": {},
   "outputs": [],
   "source": [
    "# import ee\n",
    "import time\n",
    "import math\n",
    "import csv\n",
    "import json\n",
    "import os\n",
    "import numpy as np\n",
    "import pandas as pd\n",
    "import folium  \n",
    "from folium import plugins\n",
    "import matplotlib.pyplot as plt\n",
    "import scipy ; from scipy import stats\n",
    "import scipy.io as sio\n",
    "import sklearn as skl ; from sklearn import linear_model ; from sklearn import preprocessing\n",
    "import tensorflow as tf\n",
    "import pickle\n",
    "from collections import OrderedDict\n",
    "from PIL import Image\n",
    "\n",
    "# import custom modules (files must be in same directory as this notebook)\n",
    "import feature_collections as fc\n",
    "import image_bands as ib\n",
    "import wrapper_nets as wn\n",
    "import ee_functions as ee_func\n",
    "import ALR_functions as alr"
   ]
  },
  {
   "cell_type": "code",
   "execution_count": 4,
   "metadata": {},
   "outputs": [
    {
     "name": "stdout",
     "output_type": "stream",
     "text": [
      "2.7.0\n",
      "Num GPUs Available:  1\n"
     ]
    },
    {
     "name": "stderr",
     "output_type": "stream",
     "text": [
      "2022-02-22 12:35:58.743799: I tensorflow/stream_executor/cuda/cuda_gpu_executor.cc:939] successful NUMA node read from SysFS had negative value (-1), but there must be at least one NUMA node, so returning NUMA node zero\n",
      "2022-02-22 12:35:58.836445: I tensorflow/stream_executor/cuda/cuda_gpu_executor.cc:939] successful NUMA node read from SysFS had negative value (-1), but there must be at least one NUMA node, so returning NUMA node zero\n",
      "2022-02-22 12:35:58.836969: I tensorflow/stream_executor/cuda/cuda_gpu_executor.cc:939] successful NUMA node read from SysFS had negative value (-1), but there must be at least one NUMA node, so returning NUMA node zero\n"
     ]
    }
   ],
   "source": [
    "print(tf.__version__)\n",
    "print(\"Num GPUs Available: \", len(tf.config.experimental.list_physical_devices('GPU')))"
   ]
  },
  {
   "cell_type": "code",
   "execution_count": 5,
   "metadata": {},
   "outputs": [
    {
     "data": {
      "text/html": [
       "<p>To authorize access needed by Earth Engine, open the following\n",
       "        URL in a web browser and follow the instructions:</p>\n",
       "        <p><a href=https://accounts.google.com/o/oauth2/auth?client_id=517222506229-vsmmajv00ul0bs7p89v5m89qs8eb9359.apps.googleusercontent.com&scope=https%3A%2F%2Fwww.googleapis.com%2Fauth%2Fearthengine+https%3A%2F%2Fwww.googleapis.com%2Fauth%2Fdevstorage.full_control&redirect_uri=urn%3Aietf%3Awg%3Aoauth%3A2.0%3Aoob&response_type=code&code_challenge=Aruz1uigT8hRLLC6Jx-xX8WbGUhrEUpQXYtKuH0FxQI&code_challenge_method=S256>https://accounts.google.com/o/oauth2/auth?client_id=517222506229-vsmmajv00ul0bs7p89v5m89qs8eb9359.apps.googleusercontent.com&scope=https%3A%2F%2Fwww.googleapis.com%2Fauth%2Fearthengine+https%3A%2F%2Fwww.googleapis.com%2Fauth%2Fdevstorage.full_control&redirect_uri=urn%3Aietf%3Awg%3Aoauth%3A2.0%3Aoob&response_type=code&code_challenge=Aruz1uigT8hRLLC6Jx-xX8WbGUhrEUpQXYtKuH0FxQI&code_challenge_method=S256</a></p>\n",
       "        <p>The authorization workflow will generate a code, which you\n",
       "        should paste in the box below</p>\n",
       "        "
      ],
      "text/plain": [
       "<IPython.core.display.HTML object>"
      ]
     },
     "metadata": {},
     "output_type": "display_data"
    },
    {
     "name": "stdin",
     "output_type": "stream",
     "text": [
      "Enter verification code:  4/1AX4XfWjMDmldxhuPN4B8EHzmj3_zWc4pdDk8c4C_wKwZ3RCCjte30fGoqko\n"
     ]
    },
    {
     "name": "stdout",
     "output_type": "stream",
     "text": [
      "\n",
      "Successfully saved authorization token.\n"
     ]
    }
   ],
   "source": [
    "### for accessing earth engine asset\n",
    "ee.Initialize()\n",
    "ee.Authenticate()"
   ]
  },
  {
   "cell_type": "markdown",
   "metadata": {
    "tags": []
   },
   "source": [
    "---\n",
    "# Prelim: Define dictionaries"
   ]
  },
  {
   "cell_type": "code",
   "execution_count": 70,
   "metadata": {},
   "outputs": [],
   "source": [
    "# -----------------------\n",
    "# SELECT INPUT PARAMETERS\n",
    "# -----------------------\n",
    "\n",
    "# variable name\n",
    "# one of: 'fAPAR', 'fCOVER', 'LAI'\n",
    "#outputName = 'LAI'\n",
    "outputName = 'LAI'\n",
    "\n",
    "# site selection\n",
    "# one of: 'Geraldton', 'FoxCreek', 'Kouchibouguac', 'Ottawa',\n",
    "#         'Wabush', 'QueenCharlotte', 'Attawapiskat', 'Eastmain', 'Charlottetown', 'RedBay', 'EaglePlain', 'Kitchener'\n",
    "siteSelect = 'Kouchibouguac'\n",
    "# siteSelect = 'Kitchener'\n",
    "# siteSelect = 'Wabush'\n",
    "# siteSelect = 'Geraldton'\n",
    "# siteSelect = 'Attawapiskat'\n",
    "# siteSelect = 'Charlottetown'\n",
    "assetfolder='users/ganghong/ALR'\n",
    "cloud_folder = 'projects/ccmeo-ag-000008/assets/ALR'"
   ]
  },
  {
   "cell_type": "code",
   "execution_count": 71,
   "metadata": {
    "tags": []
   },
   "outputs": [],
   "source": [
    "# -----------------------------------------------------\n",
    "# set parameters based on user-defined parameters above\n",
    "# -----------------------------------------------------\n",
    "outputParams = {\n",
    "    'fAPAR': {\n",
    "        'outputScale': 1000,\n",
    "        'outputOffset': 0,\n",
    "        'outputMax': 1\n",
    "    },\n",
    "    'fCOVER': {\n",
    "        'outputScale': 1000,\n",
    "        'outputOffset': 0,\n",
    "        'outputMax': 1\n",
    "    },\n",
    "    'LAI': {\n",
    "        'outputScale': 1000,\n",
    "        'outputOffset': 0,\n",
    "        'outputMax': 8\n",
    "    }\n",
    "}\n",
    "\n",
    "outputScale = outputParams[outputName]['outputScale']\n",
    "outputOffset = outputParams[outputName]['outputOffset']\n",
    "outputMax = outputParams[outputName]['outputMax']\n",
    "responseBand = 'estimate'+outputName"
   ]
  },
  {
   "cell_type": "code",
   "execution_count": 72,
   "metadata": {
    "tags": []
   },
   "outputs": [],
   "source": [
    "siteParams = {\n",
    "    # Geraldton, ON\n",
    "    'Geraldton': {\n",
    "        'testImage': ee.Image('COPERNICUS/S2_SR/20200811T164849_20200811T165525_T16UEA'),\n",
    "        'mapBounds': ee.Geometry.Polygon( \\\n",
    "                        [[[-86, 49.5], \\\n",
    "                          [-86, 50], \\\n",
    "                          [-85.5, 50], \\\n",
    "                          [-85.5, 49.5]]]),\n",
    "        'mapCenter': [-85.75, 49.75]\n",
    "    },\n",
    "    # Fox Creek, AB\n",
    "    'FoxCreek': {\n",
    "        'testImage': ee.Image('COPERNICUS/S2_SR/20210825T185919_20210825T190431_T11UNA'),\n",
    "        'mapBounds': ee.Geometry.Polygon( \\\n",
    "                        [[[-117, 54], \\\n",
    "                          [-117, 55], \\\n",
    "                          [-115, 55], \\\n",
    "                          [-115, 54]]]),\n",
    "        'mapCenter': [-116.8, 54.4]\n",
    "    },\n",
    "    # Kouchibouguac, NB\n",
    "    'Kouchibouguac': {\n",
    "        'testImage': ee.Image('COPERNICUS/S2_SR/20200905T151701_20200905T151829_T20TLS'),\n",
    "        'mapBounds': ee.Geometry.Polygon( \\\n",
    "                        [[[-65, 46], \\\n",
    "                          [-65, 47], \\\n",
    "                          [-64, 47], \\\n",
    "                          [-64, 46]]]),\n",
    "        'mapCenter': [-64.5, 46.5]\n",
    "    },\n",
    "    # Ottawa, ON\n",
    "    'Ottawa': {\n",
    "        'testImage': ee.Image('COPERNICUS/S2_SR/20200801T155911_20200801T160644_T18TVQ'),\n",
    "        'mapBounds': ee.Geometry.Polygon( \\\n",
    "                        [[[-75, 45], \\\n",
    "                          [-75, 46], \\\n",
    "                          [-74, 46], \\\n",
    "                          [-74, 45]]]),\n",
    "        'mapCenter': [-74.5, 45.5]\n",
    "    },\n",
    "    # Wabush, NL\n",
    "    'Wabush': {\n",
    "        'testImage': ee.Image('COPERNICUS/S2_SR/20200815T153911_20200815T154107_T19UFU'),\n",
    "        'mapBounds': ee.Geometry.Polygon( \\\n",
    "                        [[[-67.5, 52.3], \\\n",
    "                          [-67.5, 53.2], \\\n",
    "                          [-66.3, 53.2], \\\n",
    "                          [-66.3, 52.3]]]),\n",
    "        'mapCenter': [-67, 52.8]\n",
    "    },\n",
    "    # Queen Charlotte Island, BC\n",
    "    'QueenCharlotte': {\n",
    "        'testImage': ee.Image('COPERNICUS/S2_SR/20200909T194951_20200909T195633_T08UPE'),\n",
    "        'mapBounds': ee.Geometry.Polygon( \\\n",
    "                        [[[-133, 53.2], \\\n",
    "                          [-133, 54], \\\n",
    "                          [-132, 54], \\\n",
    "                          [-132, 53.2]]]),\n",
    "        'mapCenter': [-132.4, 53.6]\n",
    "    },\n",
    "    # Attawapiskat, ON\n",
    "    'Attawapiskat': {\n",
    "        'testImage': ee.Image('COPERNICUS/S2_SR/20200815T162839_20200815T163731_T17ULU'),\n",
    "        'mapBounds': ee.Geometry.Polygon( \\\n",
    "                        [[[-83, 52.3], \\\n",
    "                          [-83, 53.2], \\\n",
    "                          [-82.4, 53.2], \\\n",
    "                          [-82.4, 52.3]]]),\n",
    "        'mapCenter': [-82.7, 52.7]\n",
    "    },\n",
    "    # Eastmain, QC\n",
    "    'Eastmain': {\n",
    "        'testImage': ee.Image('COPERNICUS/S2_SR/20200723T161829_20200723T162656_T17UPT'),\n",
    "        'mapBounds': ee.Geometry.Polygon( \\\n",
    "                        [[[-79.5, 51.4], \\\n",
    "                          [-79.5, 52.3], \\\n",
    "                          [-78, 52.3], \\\n",
    "                          [-78, 51.4]]]),\n",
    "        'mapCenter': [-78.7, 51.8]\n",
    "    },\n",
    "    # Charlottetown, PEI\n",
    "    'Charlottetown': {\n",
    "        'testImage': ee.Image('COPERNICUS/S2_SR/20200622T151659_20200622T151653_T20TMS'),\n",
    "        'mapBounds': ee.Geometry.Polygon( \\\n",
    "                        [[[-63.3, 46.1], \\\n",
    "                          [-63.3, 46.5], \\\n",
    "                          [-62.9, 46.5], \\\n",
    "                          [-62.9, 46.1]]]),\n",
    "        'mapCenter': [-63.1, 46.3]\n",
    "    },\n",
    "    # Red Bay, NL\n",
    "    'RedBay': {\n",
    "        'testImage': ee.Image('COPERNICUS/S2_SR/20200716T145729_20200716T145730_T21UWT'),\n",
    "        'mapBounds': ee.Geometry.Polygon( \\\n",
    "                        [[[-56.6, 51.6], \\\n",
    "                          [-56.6, 52.3], \\\n",
    "                          [-55.6, 52.3], \\\n",
    "                          [-56.6, 51.6]]]),\n",
    "        'mapCenter': [-56, 52]\n",
    "    },\n",
    "    # Eagle Plain, YT\n",
    "    'EaglePlain': {\n",
    "        'testImage': ee.Image('COPERNICUS/S2_SR/20200731T204019_20200731T204021_T08WMU'),\n",
    "        'mapBounds': ee.Geometry.Polygon( \\\n",
    "                        [[[-137, 65.75], \\\n",
    "                          [-137, 66.5], \\\n",
    "                          [-135, 66.5], \\\n",
    "                          [-135, 65.75]]]),\n",
    "        'mapCenter': [-136.3, 66.5]\n",
    "    },\n",
    "    # Kitchener, ON\n",
    "    'Kitchener': {\n",
    "        'testImage': ee.Image('COPERNICUS/S2_SR/20200615T160911_20200615T161838_T17TNJ'),\n",
    "        'mapBounds': ee.Geometry.Polygon( \\\n",
    "                        [[[-81, 43.3], \\\n",
    "                          [-81, 44], \\\n",
    "                          [-79.8, 44], \\\n",
    "                          [-79.8, 43.3]]]),\n",
    "        'mapCenter': [-80.5, 43.7]\n",
    "    }\n",
    "}\n",
    "\n",
    "mapBounds = siteParams[siteSelect]['mapBounds']\n",
    "mapCenter = siteParams[siteSelect]['mapCenter']\n",
    "testImage = siteParams[siteSelect]['testImage']\n",
    "\n",
    "# other filters\n",
    "maxCloudcover = 10\n",
    "\n",
    "# export parameters\n",
    "exportFolder = siteSelect+'_'+outputName\n",
    "exportDataType = 'int'\n",
    "exportScale = 20"
   ]
  },
  {
   "cell_type": "code",
   "execution_count": 73,
   "metadata": {
    "tags": []
   },
   "outputs": [],
   "source": [
    "COLLECTION_OPTIONS = {\n",
    "    # Sentinel 2 using 20 m bands:\n",
    "    'COPERNICUS/S2_SR': {\n",
    "      \"name\": 'COPERNICUS/S2_SR',\n",
    "      \"description\": 'Sentinel 2A',\n",
    "      \"Cloudcover\": 'CLOUDY_PIXEL_PERCENTAGE',\n",
    "      \"Watercover\": 'WATER_PERCENTAGE',\n",
    "      \"sza\": 'MEAN_SOLAR_ZENITH_ANGLE',\n",
    "      \"vza\": 'MEAN_INCIDENCE_ZENITH_ANGLE_B8A',\n",
    "      \"saa\": 'MEAN_SOLAR_AZIMUTH_ANGLE', \n",
    "      \"vaa\": 'MEAN_INCIDENCE_AZIMUTH_ANGLE_B8A',\n",
    "      \"VIS_OPTIONS\": 'VIS_OPTIONS',\n",
    "      \"Collection_SL2P\": ee.FeatureCollection(fc.s2_createFeatureCollection_estimates()),\n",
    "      \"Collection_SL2Perrors\": ee.FeatureCollection(fc.s2_createFeatureCollection_errors()),  \n",
    "      \"sl2pDomain\": ee.FeatureCollection(fc.s2_createFeatureCollection_domains()),\n",
    "      \"Network_Ind\": ee.FeatureCollection(fc.s2_createFeatureCollection_Network_Ind()),\n",
    "      \"partition\": ee.ImageCollection(fc.s2_createImageCollection_partition()),\n",
    "      \"legend\": ee.FeatureCollection(fc.s2_createFeatureCollection_legend()),\n",
    "      \"numVariables\": 7\n",
    "    },\n",
    "    # Sentinel 2 using 10 m bands:\n",
    "    'COPERNICUS/S2_SR_10m': {\n",
    "      \"name\": 'COPERNICUS/S2_SR',\n",
    "      \"description\": 'Sentinel 2A',\n",
    "      \"Cloudcover\": 'CLOUDY_PIXEL_PERCENTAGE',\n",
    "      \"Watercover\": 'WATER_PERCENTAGE',\n",
    "      \"sza\": 'MEAN_SOLAR_ZENITH_ANGLE',\n",
    "      \"vza\": 'MEAN_INCIDENCE_ZENITH_ANGLE_B8A',\n",
    "      \"saa\": 'MEAN_SOLAR_AZIMUTH_ANGLE', \n",
    "      \"vaa\": 'MEAN_INCIDENCE_AZIMUTH_ANGLE_B8A',\n",
    "      \"VIS_OPTIONS\": 'VIS_OPTIONS',\n",
    "      \"Collection_SL2P\": ee.FeatureCollection(fc.s2_10m_createFeatureCollection_estimates()),\n",
    "      \"Collection_SL2Perrors\": ee.FeatureCollection(fc.s2_10m_createFeatureCollection_errors()),  \n",
    "      \"sl2pDomain\": ee.FeatureCollection(fc.s2_10m_createFeatureCollection_domains()),\n",
    "      \"Network_Ind\": ee.FeatureCollection(fc.s2_createFeatureCollection_Network_Ind()),\n",
    "      \"partition\": ee.ImageCollection(fc.s2_createImageCollection_partition()),\n",
    "      \"legend\": ee.FeatureCollection(fc.s2_createFeatureCollection_legend()),\n",
    "      \"numVariables\": 7\n",
    "    }\n",
    "}\n",
    "\n",
    "VIS_OPTIONS = {\n",
    "    'fAPAR': {\n",
    "        \"COPERNICUS/S2_SR\": {\n",
    "            \"Name\": 'fAPAR',\n",
    "            \"errorName\": 'errorfAPAR',\n",
    "            \"maskName\": 'maskfAPAR',\n",
    "            \"description\": 'Fraction of absorbed photosynthetically active radiation',\n",
    "            \"variable\": 2,\n",
    "            \"inputBands\":      ['cosVZA', 'cosSZA', 'cosRAA', 'B3', 'B4', 'B5', 'B6', 'B7', 'B8A', 'B11', 'B12'],\n",
    "            \"inputScaling\":    [0.0001, 0.0001, 0.0001, 0.0001, 0.0001, 0.0001, 0.0001, 0.0001, 0.0001, 0.0001, 0.0001],\n",
    "            \"outmin\": (ee.Image(ee.Array([[0]]))),\n",
    "            \"outmax\": (ee.Image(ee.Array([[1]])))\n",
    "        },\n",
    "        \"COPERNICUS/S2_SR_10m\": {\n",
    "            \"Name\": 'fAPAR',\n",
    "            \"errorName\": 'errorfAPAR',\n",
    "            \"maskName\": 'maskfAPAR',\n",
    "            \"description\": 'Fraction of absorbed photosynthetically active radiation',\n",
    "            \"variable\": 2,\n",
    "            \"inputBands\":      ['cosVZA', 'cosSZA', 'cosRAA', 'B2', 'B3', 'B4', 'B8'],\n",
    "            \"inputScaling\":    [0.0001, 0.0001, 0.0001, 0.0001, 0.0001, 0.0001, 0.0001],\n",
    "            \"outmin\": (ee.Image(ee.Array([[0]]))),\n",
    "            \"outmax\": (ee.Image(ee.Array([[1]])))\n",
    "        }\n",
    "    },\n",
    "    'fCOVER': {\n",
    "        \"COPERNICUS/S2_SR\": {\n",
    "            \"Name\": 'fCOVER',\n",
    "            \"errorName\": 'errorfCOVER',\n",
    "            \"maskName\": 'maskfCOVER',\n",
    "            \"description\": 'Fraction of canopy cover',\n",
    "            \"variable\": 3,\n",
    "            \"inputBands\":      ['cosVZA', 'cosSZA', 'cosRAA', 'B3', 'B4', 'B5', 'B6', 'B7', 'B8A', 'B11', 'B12'],\n",
    "            \"inputScaling\":    [0.0001, 0.0001, 0.0001, 0.0001, 0.0001, 0.0001, 0.0001, 0.0001, 0.0001, 0.0001, 0.0001],\n",
    "            \"outmin\": (ee.Image(ee.Array([[0]]))),\n",
    "            \"outmax\": (ee.Image(ee.Array([[1]]))) \n",
    "        },\n",
    "        \"COPERNICUS/S2_SR_10m\": {\n",
    "            \"Name\": 'fCOVER',\n",
    "            \"errorName\": 'errorfCOVER',\n",
    "            \"maskName\": 'maskfCOVER',\n",
    "            \"description\": 'Fraction of canopy cover',\n",
    "            \"variable\": 3,\n",
    "            \"inputBands\":      ['cosVZA', 'cosSZA', 'cosRAA', 'B2', 'B3', 'B4', 'B8'],\n",
    "            \"inputScaling\":    [0.0001, 0.0001, 0.0001, 0.0001, 0.0001, 0.0001, 0.0001],\n",
    "            \"outmin\": (ee.Image(ee.Array([[0]]))),\n",
    "            \"outmax\": (ee.Image(ee.Array([[1]]))) \n",
    "        }\n",
    "    },\n",
    "    'LAI': {\n",
    "        \"COPERNICUS/S2_SR\": {\n",
    "            \"Name\": 'LAI',\n",
    "            \"errorName\": 'errorLAI',\n",
    "            \"maskName\": 'maskLAI',\n",
    "            \"description\": 'Leaf area index',\n",
    "            \"variable\": 1,\n",
    "            \"inputBands\":      ['cosVZA', 'cosSZA', 'cosRAA', 'B3', 'B4', 'B5', 'B6', 'B7', 'B8A', 'B11', 'B12'],\n",
    "            \"inputScaling\":    [0.0001, 0.0001, 0.0001, 0.0001, 0.0001, 0.0001, 0.0001, 0.0001, 0.0001, 0.0001, 0.0001],\n",
    "            \"outmin\": (ee.Image(ee.Array([[0]]))),\n",
    "            \"outmax\": (ee.Image(ee.Array([[1]])))\n",
    "        },\n",
    "        \"COPERNICUS/S2_SR_10m\": {\n",
    "            \"Name\": 'LAI',\n",
    "            \"errorName\": 'errorLAI',\n",
    "            \"maskName\": 'maskLAI',\n",
    "            \"description\": 'Leaf area index',\n",
    "            \"variable\": 1,\n",
    "            \"inputBands\":      ['cosVZA', 'cosSZA', 'cosRAA', 'B2', 'B3', 'B4', 'B8'],\n",
    "            \"inputScaling\":    [0.0001, 0.0001, 0.0001, 0.0001, 0.0001, 0.0001, 0.0001],\n",
    "            \"outmin\": (ee.Image(ee.Array([[0]]))),\n",
    "            \"outmax\": (ee.Image(ee.Array([[1]])))\n",
    "        }\n",
    "    }\n",
    "}"
   ]
  },
  {
   "cell_type": "markdown",
   "metadata": {
    "tags": []
   },
   "source": [
    "---\n",
    "# 1 – SL2P/SL2P10"
   ]
  },
  {
   "cell_type": "markdown",
   "metadata": {
    "tags": []
   },
   "source": [
    "### SL2P Original (create image and export to EE)"
   ]
  },
  {
   "cell_type": "code",
   "execution_count": 74,
   "metadata": {
    "tags": []
   },
   "outputs": [],
   "source": [
    "# parse the networks\n",
    "colName = 'COPERNICUS/S2_SR'\n",
    "colOptions = COLLECTION_OPTIONS[colName]\n",
    "netOptions = VIS_OPTIONS[outputName][colName]\n",
    "numNets = ee.Number(ee.Feature((COLLECTION_OPTIONS[colName][\"Network_Ind\"]).first()).propertyNames().remove('Feature Index').remove('system:index').remove('lon').size())\n",
    "SL2P = ee.List.sequence(1,ee.Number(COLLECTION_OPTIONS[colName][\"numVariables\"]),1).map(lambda netNum: wn.makeNetVars(COLLECTION_OPTIONS[colName][\"Collection_SL2P\"],numNets,netNum));\n",
    "errorsSL2P = ee.List.sequence(1,ee.Number(COLLECTION_OPTIONS[colName][\"numVariables\"]),1).map(lambda netNum: wn.makeNetVars(COLLECTION_OPTIONS[colName][\"Collection_SL2Perrors\"],numNets,netNum));"
   ]
  },
  {
   "cell_type": "code",
   "execution_count": 75,
   "metadata": {
    "tags": []
   },
   "outputs": [
    {
     "data": {
      "text/html": [
       "<div style=\"width:100%;\"><div style=\"position:relative;width:100%;height:0;padding-bottom:60%;\"><span style=\"color:#565656\">Make this Notebook Trusted to load map: File -> Trust Notebook</span><iframe src=\"about:blank\" style=\"position:absolute;width:100%;height:100%;left:0;top:0;border:none !important;\" data-html=%3C%21DOCTYPE%20html%3E%0A%3Chead%3E%20%20%20%20%0A%20%20%20%20%3Cmeta%20http-equiv%3D%22content-type%22%20content%3D%22text/html%3B%20charset%3DUTF-8%22%20/%3E%0A%20%20%20%20%0A%20%20%20%20%20%20%20%20%3Cscript%3E%0A%20%20%20%20%20%20%20%20%20%20%20%20L_NO_TOUCH%20%3D%20false%3B%0A%20%20%20%20%20%20%20%20%20%20%20%20L_DISABLE_3D%20%3D%20false%3B%0A%20%20%20%20%20%20%20%20%3C/script%3E%0A%20%20%20%20%0A%20%20%20%20%3Cstyle%3Ehtml%2C%20body%20%7Bwidth%3A%20100%25%3Bheight%3A%20100%25%3Bmargin%3A%200%3Bpadding%3A%200%3B%7D%3C/style%3E%0A%20%20%20%20%3Cstyle%3E%23map%20%7Bposition%3Aabsolute%3Btop%3A0%3Bbottom%3A0%3Bright%3A0%3Bleft%3A0%3B%7D%3C/style%3E%0A%20%20%20%20%3Cscript%20src%3D%22https%3A//cdn.jsdelivr.net/npm/leaflet%401.6.0/dist/leaflet.js%22%3E%3C/script%3E%0A%20%20%20%20%3Cscript%20src%3D%22https%3A//code.jquery.com/jquery-1.12.4.min.js%22%3E%3C/script%3E%0A%20%20%20%20%3Cscript%20src%3D%22https%3A//maxcdn.bootstrapcdn.com/bootstrap/3.2.0/js/bootstrap.min.js%22%3E%3C/script%3E%0A%20%20%20%20%3Cscript%20src%3D%22https%3A//cdnjs.cloudflare.com/ajax/libs/Leaflet.awesome-markers/2.0.2/leaflet.awesome-markers.js%22%3E%3C/script%3E%0A%20%20%20%20%3Clink%20rel%3D%22stylesheet%22%20href%3D%22https%3A//cdn.jsdelivr.net/npm/leaflet%401.6.0/dist/leaflet.css%22/%3E%0A%20%20%20%20%3Clink%20rel%3D%22stylesheet%22%20href%3D%22https%3A//maxcdn.bootstrapcdn.com/bootstrap/3.2.0/css/bootstrap.min.css%22/%3E%0A%20%20%20%20%3Clink%20rel%3D%22stylesheet%22%20href%3D%22https%3A//maxcdn.bootstrapcdn.com/bootstrap/3.2.0/css/bootstrap-theme.min.css%22/%3E%0A%20%20%20%20%3Clink%20rel%3D%22stylesheet%22%20href%3D%22https%3A//maxcdn.bootstrapcdn.com/font-awesome/4.6.3/css/font-awesome.min.css%22/%3E%0A%20%20%20%20%3Clink%20rel%3D%22stylesheet%22%20href%3D%22https%3A//cdnjs.cloudflare.com/ajax/libs/Leaflet.awesome-markers/2.0.2/leaflet.awesome-markers.css%22/%3E%0A%20%20%20%20%3Clink%20rel%3D%22stylesheet%22%20href%3D%22https%3A//cdn.jsdelivr.net/gh/python-visualization/folium/folium/templates/leaflet.awesome.rotate.min.css%22/%3E%0A%20%20%20%20%0A%20%20%20%20%20%20%20%20%20%20%20%20%3Cmeta%20name%3D%22viewport%22%20content%3D%22width%3Ddevice-width%2C%0A%20%20%20%20%20%20%20%20%20%20%20%20%20%20%20%20initial-scale%3D1.0%2C%20maximum-scale%3D1.0%2C%20user-scalable%3Dno%22%20/%3E%0A%20%20%20%20%20%20%20%20%20%20%20%20%3Cstyle%3E%0A%20%20%20%20%20%20%20%20%20%20%20%20%20%20%20%20%23map_54e8d439438343abb1ec50b644dfec04%20%7B%0A%20%20%20%20%20%20%20%20%20%20%20%20%20%20%20%20%20%20%20%20position%3A%20relative%3B%0A%20%20%20%20%20%20%20%20%20%20%20%20%20%20%20%20%20%20%20%20width%3A%20100.0%25%3B%0A%20%20%20%20%20%20%20%20%20%20%20%20%20%20%20%20%20%20%20%20height%3A%20700.0px%3B%0A%20%20%20%20%20%20%20%20%20%20%20%20%20%20%20%20%20%20%20%20left%3A%200.0%25%3B%0A%20%20%20%20%20%20%20%20%20%20%20%20%20%20%20%20%20%20%20%20top%3A%200.0%25%3B%0A%20%20%20%20%20%20%20%20%20%20%20%20%20%20%20%20%7D%0A%20%20%20%20%20%20%20%20%20%20%20%20%3C/style%3E%0A%20%20%20%20%20%20%20%20%0A%20%20%20%20%3Cscript%20src%3D%22https%3A//cdnjs.cloudflare.com/ajax/libs/leaflet.fullscreen/1.4.2/Control.FullScreen.min.js%22%3E%3C/script%3E%0A%20%20%20%20%3Clink%20rel%3D%22stylesheet%22%20href%3D%22https%3A//cdnjs.cloudflare.com/ajax/libs/leaflet.fullscreen/1.4.2/Control.FullScreen.min.css%22/%3E%0A%3C/head%3E%0A%3Cbody%3E%20%20%20%20%0A%20%20%20%20%0A%20%20%20%20%20%20%20%20%20%20%20%20%3Cdiv%20class%3D%22folium-map%22%20id%3D%22map_54e8d439438343abb1ec50b644dfec04%22%20%3E%3C/div%3E%0A%20%20%20%20%20%20%20%20%0A%3C/body%3E%0A%3Cscript%3E%20%20%20%20%0A%20%20%20%20%0A%20%20%20%20%20%20%20%20%20%20%20%20var%20map_54e8d439438343abb1ec50b644dfec04%20%3D%20L.map%28%0A%20%20%20%20%20%20%20%20%20%20%20%20%20%20%20%20%22map_54e8d439438343abb1ec50b644dfec04%22%2C%0A%20%20%20%20%20%20%20%20%20%20%20%20%20%20%20%20%7B%0A%20%20%20%20%20%20%20%20%20%20%20%20%20%20%20%20%20%20%20%20center%3A%20%5B46.0%2C%20-65.0%5D%2C%0A%20%20%20%20%20%20%20%20%20%20%20%20%20%20%20%20%20%20%20%20crs%3A%20L.CRS.EPSG3857%2C%0A%20%20%20%20%20%20%20%20%20%20%20%20%20%20%20%20%20%20%20%20zoom%3A%208%2C%0A%20%20%20%20%20%20%20%20%20%20%20%20%20%20%20%20%20%20%20%20zoomControl%3A%20true%2C%0A%20%20%20%20%20%20%20%20%20%20%20%20%20%20%20%20%20%20%20%20preferCanvas%3A%20false%2C%0A%20%20%20%20%20%20%20%20%20%20%20%20%20%20%20%20%7D%0A%20%20%20%20%20%20%20%20%20%20%20%20%29%3B%0A%0A%20%20%20%20%20%20%20%20%20%20%20%20%0A%0A%20%20%20%20%20%20%20%20%0A%20%20%20%20%0A%20%20%20%20%20%20%20%20%20%20%20%20var%20tile_layer_13c6faac68f14a9ba5ea0b77213329d1%20%3D%20L.tileLayer%28%0A%20%20%20%20%20%20%20%20%20%20%20%20%20%20%20%20%22https%3A//%7Bs%7D.tile.openstreetmap.org/%7Bz%7D/%7Bx%7D/%7By%7D.png%22%2C%0A%20%20%20%20%20%20%20%20%20%20%20%20%20%20%20%20%7B%22attribution%22%3A%20%22Data%20by%20%5Cu0026copy%3B%20%5Cu003ca%20href%3D%5C%22http%3A//openstreetmap.org%5C%22%5Cu003eOpenStreetMap%5Cu003c/a%5Cu003e%2C%20under%20%5Cu003ca%20href%3D%5C%22http%3A//www.openstreetmap.org/copyright%5C%22%5Cu003eODbL%5Cu003c/a%5Cu003e.%22%2C%20%22detectRetina%22%3A%20false%2C%20%22maxNativeZoom%22%3A%2018%2C%20%22maxZoom%22%3A%2018%2C%20%22minZoom%22%3A%200%2C%20%22noWrap%22%3A%20false%2C%20%22opacity%22%3A%201%2C%20%22subdomains%22%3A%20%22abc%22%2C%20%22tms%22%3A%20false%7D%0A%20%20%20%20%20%20%20%20%20%20%20%20%29.addTo%28map_54e8d439438343abb1ec50b644dfec04%29%3B%0A%20%20%20%20%20%20%20%20%0A%20%20%20%20%0A%20%20%20%20%20%20%20%20%20%20%20%20var%20tile_layer_0784826e7e2942d595bd223bd74050a9%20%3D%20L.tileLayer%28%0A%20%20%20%20%20%20%20%20%20%20%20%20%20%20%20%20%22https%3A//earthengine.googleapis.com/v1alpha/projects/earthengine-legacy/maps/48e3f25c45657d1c6a96e9dc6afa8261-08a006a2f4f6384e75a745d67686ce5e/tiles/%7Bz%7D/%7Bx%7D/%7By%7D%22%2C%0A%20%20%20%20%20%20%20%20%20%20%20%20%20%20%20%20%7B%22attribution%22%3A%20%22Google%20Earth%20Engine%22%2C%20%22detectRetina%22%3A%20false%2C%20%22maxNativeZoom%22%3A%2018%2C%20%22maxZoom%22%3A%2018%2C%20%22minZoom%22%3A%200%2C%20%22noWrap%22%3A%20false%2C%20%22opacity%22%3A%201%2C%20%22subdomains%22%3A%20%22abc%22%2C%20%22tms%22%3A%20false%7D%0A%20%20%20%20%20%20%20%20%20%20%20%20%29.addTo%28map_54e8d439438343abb1ec50b644dfec04%29%3B%0A%20%20%20%20%20%20%20%20%0A%20%20%20%20%0A%20%20%20%20%20%20%20%20%20%20%20%20var%20layer_control_5f1b5196faee4ded900a4892136b75cf%20%3D%20%7B%0A%20%20%20%20%20%20%20%20%20%20%20%20%20%20%20%20base_layers%20%3A%20%7B%0A%20%20%20%20%20%20%20%20%20%20%20%20%20%20%20%20%20%20%20%20%22openstreetmap%22%20%3A%20tile_layer_13c6faac68f14a9ba5ea0b77213329d1%2C%0A%20%20%20%20%20%20%20%20%20%20%20%20%20%20%20%20%7D%2C%0A%20%20%20%20%20%20%20%20%20%20%20%20%20%20%20%20overlays%20%3A%20%20%7B%0A%20%20%20%20%20%20%20%20%20%20%20%20%20%20%20%20%20%20%20%20%22Image%22%20%3A%20tile_layer_0784826e7e2942d595bd223bd74050a9%2C%0A%20%20%20%20%20%20%20%20%20%20%20%20%20%20%20%20%7D%2C%0A%20%20%20%20%20%20%20%20%20%20%20%20%7D%3B%0A%20%20%20%20%20%20%20%20%20%20%20%20L.control.layers%28%0A%20%20%20%20%20%20%20%20%20%20%20%20%20%20%20%20layer_control_5f1b5196faee4ded900a4892136b75cf.base_layers%2C%0A%20%20%20%20%20%20%20%20%20%20%20%20%20%20%20%20layer_control_5f1b5196faee4ded900a4892136b75cf.overlays%2C%0A%20%20%20%20%20%20%20%20%20%20%20%20%20%20%20%20%7B%22autoZIndex%22%3A%20true%2C%20%22collapsed%22%3A%20true%2C%20%22position%22%3A%20%22topright%22%7D%0A%20%20%20%20%20%20%20%20%20%20%20%20%29.addTo%28map_54e8d439438343abb1ec50b644dfec04%29%3B%0A%20%20%20%20%20%20%20%20%0A%20%20%20%20%0A%20%20%20%20%20%20%20%20%20%20%20%20L.control.fullscreen%28%0A%20%20%20%20%20%20%20%20%20%20%20%20%20%20%20%20%7B%22forceSeparateButton%22%3A%20false%2C%20%22position%22%3A%20%22topleft%22%2C%20%22title%22%3A%20%22Full%20Screen%22%2C%20%22titleCancel%22%3A%20%22Exit%20Full%20Screen%22%7D%0A%20%20%20%20%20%20%20%20%20%20%20%20%29.addTo%28map_54e8d439438343abb1ec50b644dfec04%29%3B%0A%20%20%20%20%20%20%20%20%0A%3C/script%3E onload=\"this.contentDocument.open();this.contentDocument.write(    decodeURIComponent(this.getAttribute('data-html')));this.contentDocument.close();\" allowfullscreen webkitallowfullscreen mozallowfullscreen></iframe></div></div>"
      ],
      "text/plain": [
       "<folium.folium.Map at 0x7f605bfbcd00>"
      ]
     },
     "metadata": {},
     "output_type": "display_data"
    }
   ],
   "source": [
    "# filter collection and add ancillary bands\n",
    "\n",
    "input_collection = ee.ImageCollection(testImage) \\\n",
    "                     .map(lambda image: ib.addDate(image)) \\\n",
    "                     .map(lambda image: image.clip(mapBounds)) \\\n",
    "                     .map(lambda image: ib.s2MaskClear(image)) \\\n",
    "                     .map(lambda image: ib.s2MaskLand(image)) \\\n",
    "                     .map(lambda image: ib.addS2Geometry(colOptions, image))\n",
    "\n",
    "# get partition used to select network\n",
    "partition = (COLLECTION_OPTIONS[colName][\"partition\"]).filterBounds(mapBounds).mosaic().clip(mapBounds).rename('partition')\n",
    "\n",
    "# pre process input imagery and flag invalid inputs\n",
    "scaled_input_collection = input_collection.map(lambda image: ib.scaleBands(netOptions[\"inputBands\"],netOptions[\"inputScaling\"],image)) \\\n",
    "                                          .map(lambda image: ib.invalidInput(COLLECTION_OPTIONS[colName][\"sl2pDomain\"],netOptions[\"inputBands\"],image))\n",
    "\n",
    "# apply networks to produce mapped parameters\n",
    "estimateSL2P = scaled_input_collection.map(lambda image: wn.wrapperNNets(SL2P, partition, netOptions, COLLECTION_OPTIONS[colName], \"estimate\", image, outputName))\n",
    "uncertaintySL2P = scaled_input_collection.map(lambda image: wn.wrapperNNets(errorsSL2P, partition, netOptions, COLLECTION_OPTIONS[colName], \"error\", image, outputName))\n",
    "\n",
    "# scale and offset mapped parameter bands\n",
    "estimateSL2P = estimateSL2P.map(lambda image: image.addBands(image.select(\"estimate\"+outputName).multiply(ee.Image.constant(outputScale)).add(ee.Image.constant(outputOffset)), overwrite=True))\n",
    "uncertaintySL2P = uncertaintySL2P.map(lambda image: image.addBands(image.select(\"error\"+outputName).multiply(ee.Image.constant(outputScale)).add(ee.Image.constant(outputOffset)), overwrite=True))\n",
    "\n",
    "# produce final export collection\n",
    "export_collection = input_collection.combine(estimateSL2P).combine(uncertaintySL2P)\n",
    "    \n",
    "image_output_names = ([name +\"_\"+siteSelect +\"_\"+outputName for name in export_collection.toList(export_collection.size()).map(lambda image: ee.Image(image).id()).getInfo()])\n",
    "ee_func.displayImage(export_collection.mosaic().select('estimate'+outputName),0+outputOffset,10*outputScale+outputOffset, mapBounds)"
   ]
  },
  {
   "cell_type": "code",
   "execution_count": 76,
   "metadata": {
    "tags": []
   },
   "outputs": [],
   "source": [
    "# export tasks to Earth Engine\n",
    "export_task = ee_func.export_collection_to_gee(collection=export_collection,\n",
    "                                               num_images=1,\n",
    "                                               # image_names=[siteSelect+'_'+outputName+'_SL2P'],\n",
    "                                               image_names = image_output_names,\n",
    "                                               scale=10,\n",
    "                                               # asset_folder='users/kateharvey/SL2P_images',\n",
    "                                               # asset_folder=assetfolder,\n",
    "                                               asset_folder=cloud_folder,\n",
    "                                               data_type=exportDataType,\n",
    "                                               max_pixels=1e13)"
   ]
  },
  {
   "cell_type": "code",
   "execution_count": 16,
   "metadata": {},
   "outputs": [],
   "source": [
    "# # // Export the image to Cloud Storage.\n",
    "# task = ee.batch.Export.image.toCloudStorage(\n",
    "#   image= export_collection.first(),\n",
    "#   description= 'imageToCloudExample',\n",
    "#   bucket= 'eealr',\n",
    "#   fileNamePrefix= 'Wabush_LAI',\n",
    "#   # crs: projection.crs,\n",
    "#   # crsTransform: projection.transform,\n",
    "#   region= mapBounds\n",
    "# );"
   ]
  },
  {
   "cell_type": "code",
   "execution_count": 17,
   "metadata": {},
   "outputs": [],
   "source": [
    "# task.start()"
   ]
  },
  {
   "cell_type": "markdown",
   "metadata": {
    "tags": []
   },
   "source": [
    "### SL2P10 (for comparison)"
   ]
  },
  {
   "cell_type": "code",
   "execution_count": 11,
   "metadata": {
    "tags": []
   },
   "outputs": [],
   "source": [
    "# parse the networks\n",
    "colName = 'COPERNICUS/S2_SR_10m'\n",
    "colOptions = COLLECTION_OPTIONS[colName]\n",
    "netOptions = VIS_OPTIONS[outputName][colName]\n",
    "numNets = ee.Number(ee.Feature((COLLECTION_OPTIONS[colName][\"Network_Ind\"]).first()).propertyNames().remove('Feature Index').remove('system:index').remove('lon').size())\n",
    "SL2P = ee.List.sequence(1,ee.Number(COLLECTION_OPTIONS[colName][\"numVariables\"]),1).map(lambda netNum: wn.makeNetVars(COLLECTION_OPTIONS[colName][\"Collection_SL2P\"],numNets,netNum));\n",
    "errorsSL2P = ee.List.sequence(1,ee.Number(COLLECTION_OPTIONS[colName][\"numVariables\"]),1).map(lambda netNum: wn.makeNetVars(COLLECTION_OPTIONS[colName][\"Collection_SL2Perrors\"],numNets,netNum));"
   ]
  },
  {
   "cell_type": "code",
   "execution_count": 12,
   "metadata": {
    "tags": []
   },
   "outputs": [
    {
     "data": {
      "text/html": [
       "<div style=\"width:100%;\"><div style=\"position:relative;width:100%;height:0;padding-bottom:60%;\"><span style=\"color:#565656\">Make this Notebook Trusted to load map: File -> Trust Notebook</span><iframe src=\"about:blank\" style=\"position:absolute;width:100%;height:100%;left:0;top:0;border:none !important;\" data-html=%3C%21DOCTYPE%20html%3E%0A%3Chead%3E%20%20%20%20%0A%20%20%20%20%3Cmeta%20http-equiv%3D%22content-type%22%20content%3D%22text/html%3B%20charset%3DUTF-8%22%20/%3E%0A%20%20%20%20%0A%20%20%20%20%20%20%20%20%3Cscript%3E%0A%20%20%20%20%20%20%20%20%20%20%20%20L_NO_TOUCH%20%3D%20false%3B%0A%20%20%20%20%20%20%20%20%20%20%20%20L_DISABLE_3D%20%3D%20false%3B%0A%20%20%20%20%20%20%20%20%3C/script%3E%0A%20%20%20%20%0A%20%20%20%20%3Cstyle%3Ehtml%2C%20body%20%7Bwidth%3A%20100%25%3Bheight%3A%20100%25%3Bmargin%3A%200%3Bpadding%3A%200%3B%7D%3C/style%3E%0A%20%20%20%20%3Cstyle%3E%23map%20%7Bposition%3Aabsolute%3Btop%3A0%3Bbottom%3A0%3Bright%3A0%3Bleft%3A0%3B%7D%3C/style%3E%0A%20%20%20%20%3Cscript%20src%3D%22https%3A//cdn.jsdelivr.net/npm/leaflet%401.6.0/dist/leaflet.js%22%3E%3C/script%3E%0A%20%20%20%20%3Cscript%20src%3D%22https%3A//code.jquery.com/jquery-1.12.4.min.js%22%3E%3C/script%3E%0A%20%20%20%20%3Cscript%20src%3D%22https%3A//maxcdn.bootstrapcdn.com/bootstrap/3.2.0/js/bootstrap.min.js%22%3E%3C/script%3E%0A%20%20%20%20%3Cscript%20src%3D%22https%3A//cdnjs.cloudflare.com/ajax/libs/Leaflet.awesome-markers/2.0.2/leaflet.awesome-markers.js%22%3E%3C/script%3E%0A%20%20%20%20%3Clink%20rel%3D%22stylesheet%22%20href%3D%22https%3A//cdn.jsdelivr.net/npm/leaflet%401.6.0/dist/leaflet.css%22/%3E%0A%20%20%20%20%3Clink%20rel%3D%22stylesheet%22%20href%3D%22https%3A//maxcdn.bootstrapcdn.com/bootstrap/3.2.0/css/bootstrap.min.css%22/%3E%0A%20%20%20%20%3Clink%20rel%3D%22stylesheet%22%20href%3D%22https%3A//maxcdn.bootstrapcdn.com/bootstrap/3.2.0/css/bootstrap-theme.min.css%22/%3E%0A%20%20%20%20%3Clink%20rel%3D%22stylesheet%22%20href%3D%22https%3A//maxcdn.bootstrapcdn.com/font-awesome/4.6.3/css/font-awesome.min.css%22/%3E%0A%20%20%20%20%3Clink%20rel%3D%22stylesheet%22%20href%3D%22https%3A//cdnjs.cloudflare.com/ajax/libs/Leaflet.awesome-markers/2.0.2/leaflet.awesome-markers.css%22/%3E%0A%20%20%20%20%3Clink%20rel%3D%22stylesheet%22%20href%3D%22https%3A//cdn.jsdelivr.net/gh/python-visualization/folium/folium/templates/leaflet.awesome.rotate.min.css%22/%3E%0A%20%20%20%20%0A%20%20%20%20%20%20%20%20%20%20%20%20%3Cmeta%20name%3D%22viewport%22%20content%3D%22width%3Ddevice-width%2C%0A%20%20%20%20%20%20%20%20%20%20%20%20%20%20%20%20initial-scale%3D1.0%2C%20maximum-scale%3D1.0%2C%20user-scalable%3Dno%22%20/%3E%0A%20%20%20%20%20%20%20%20%20%20%20%20%3Cstyle%3E%0A%20%20%20%20%20%20%20%20%20%20%20%20%20%20%20%20%23map_1f1167957a81441c8398c9c28dd0df84%20%7B%0A%20%20%20%20%20%20%20%20%20%20%20%20%20%20%20%20%20%20%20%20position%3A%20relative%3B%0A%20%20%20%20%20%20%20%20%20%20%20%20%20%20%20%20%20%20%20%20width%3A%20100.0%25%3B%0A%20%20%20%20%20%20%20%20%20%20%20%20%20%20%20%20%20%20%20%20height%3A%20700.0px%3B%0A%20%20%20%20%20%20%20%20%20%20%20%20%20%20%20%20%20%20%20%20left%3A%200.0%25%3B%0A%20%20%20%20%20%20%20%20%20%20%20%20%20%20%20%20%20%20%20%20top%3A%200.0%25%3B%0A%20%20%20%20%20%20%20%20%20%20%20%20%20%20%20%20%7D%0A%20%20%20%20%20%20%20%20%20%20%20%20%3C/style%3E%0A%20%20%20%20%20%20%20%20%0A%20%20%20%20%3Cscript%20src%3D%22https%3A//cdnjs.cloudflare.com/ajax/libs/leaflet.fullscreen/1.4.2/Control.FullScreen.min.js%22%3E%3C/script%3E%0A%20%20%20%20%3Clink%20rel%3D%22stylesheet%22%20href%3D%22https%3A//cdnjs.cloudflare.com/ajax/libs/leaflet.fullscreen/1.4.2/Control.FullScreen.min.css%22/%3E%0A%3C/head%3E%0A%3Cbody%3E%20%20%20%20%0A%20%20%20%20%0A%20%20%20%20%20%20%20%20%20%20%20%20%3Cdiv%20class%3D%22folium-map%22%20id%3D%22map_1f1167957a81441c8398c9c28dd0df84%22%20%3E%3C/div%3E%0A%20%20%20%20%20%20%20%20%0A%3C/body%3E%0A%3Cscript%3E%20%20%20%20%0A%20%20%20%20%0A%20%20%20%20%20%20%20%20%20%20%20%20var%20map_1f1167957a81441c8398c9c28dd0df84%20%3D%20L.map%28%0A%20%20%20%20%20%20%20%20%20%20%20%20%20%20%20%20%22map_1f1167957a81441c8398c9c28dd0df84%22%2C%0A%20%20%20%20%20%20%20%20%20%20%20%20%20%20%20%20%7B%0A%20%20%20%20%20%20%20%20%20%20%20%20%20%20%20%20%20%20%20%20center%3A%20%5B46.1%2C%20-63.3%5D%2C%0A%20%20%20%20%20%20%20%20%20%20%20%20%20%20%20%20%20%20%20%20crs%3A%20L.CRS.EPSG3857%2C%0A%20%20%20%20%20%20%20%20%20%20%20%20%20%20%20%20%20%20%20%20zoom%3A%208%2C%0A%20%20%20%20%20%20%20%20%20%20%20%20%20%20%20%20%20%20%20%20zoomControl%3A%20true%2C%0A%20%20%20%20%20%20%20%20%20%20%20%20%20%20%20%20%20%20%20%20preferCanvas%3A%20false%2C%0A%20%20%20%20%20%20%20%20%20%20%20%20%20%20%20%20%7D%0A%20%20%20%20%20%20%20%20%20%20%20%20%29%3B%0A%0A%20%20%20%20%20%20%20%20%20%20%20%20%0A%0A%20%20%20%20%20%20%20%20%0A%20%20%20%20%0A%20%20%20%20%20%20%20%20%20%20%20%20var%20tile_layer_ad1829f1e556406b9d0d311e9e33dfbc%20%3D%20L.tileLayer%28%0A%20%20%20%20%20%20%20%20%20%20%20%20%20%20%20%20%22https%3A//%7Bs%7D.tile.openstreetmap.org/%7Bz%7D/%7Bx%7D/%7By%7D.png%22%2C%0A%20%20%20%20%20%20%20%20%20%20%20%20%20%20%20%20%7B%22attribution%22%3A%20%22Data%20by%20%5Cu0026copy%3B%20%5Cu003ca%20href%3D%5C%22http%3A//openstreetmap.org%5C%22%5Cu003eOpenStreetMap%5Cu003c/a%5Cu003e%2C%20under%20%5Cu003ca%20href%3D%5C%22http%3A//www.openstreetmap.org/copyright%5C%22%5Cu003eODbL%5Cu003c/a%5Cu003e.%22%2C%20%22detectRetina%22%3A%20false%2C%20%22maxNativeZoom%22%3A%2018%2C%20%22maxZoom%22%3A%2018%2C%20%22minZoom%22%3A%200%2C%20%22noWrap%22%3A%20false%2C%20%22opacity%22%3A%201%2C%20%22subdomains%22%3A%20%22abc%22%2C%20%22tms%22%3A%20false%7D%0A%20%20%20%20%20%20%20%20%20%20%20%20%29.addTo%28map_1f1167957a81441c8398c9c28dd0df84%29%3B%0A%20%20%20%20%20%20%20%20%0A%20%20%20%20%0A%20%20%20%20%20%20%20%20%20%20%20%20var%20tile_layer_05d596d484c54a589c4f397819d90e8d%20%3D%20L.tileLayer%28%0A%20%20%20%20%20%20%20%20%20%20%20%20%20%20%20%20%22https%3A//earthengine.googleapis.com/v1alpha/projects/earthengine-legacy/maps/40f2d0a6b8a241b0640bbe0c3566e35a-cdb6a1b332a3bd3293b4ddb8002f06ae/tiles/%7Bz%7D/%7Bx%7D/%7By%7D%22%2C%0A%20%20%20%20%20%20%20%20%20%20%20%20%20%20%20%20%7B%22attribution%22%3A%20%22Google%20Earth%20Engine%22%2C%20%22detectRetina%22%3A%20false%2C%20%22maxNativeZoom%22%3A%2018%2C%20%22maxZoom%22%3A%2018%2C%20%22minZoom%22%3A%200%2C%20%22noWrap%22%3A%20false%2C%20%22opacity%22%3A%201%2C%20%22subdomains%22%3A%20%22abc%22%2C%20%22tms%22%3A%20false%7D%0A%20%20%20%20%20%20%20%20%20%20%20%20%29.addTo%28map_1f1167957a81441c8398c9c28dd0df84%29%3B%0A%20%20%20%20%20%20%20%20%0A%20%20%20%20%0A%20%20%20%20%20%20%20%20%20%20%20%20var%20layer_control_d36980acded54a4ca071e7a1c8a7b506%20%3D%20%7B%0A%20%20%20%20%20%20%20%20%20%20%20%20%20%20%20%20base_layers%20%3A%20%7B%0A%20%20%20%20%20%20%20%20%20%20%20%20%20%20%20%20%20%20%20%20%22openstreetmap%22%20%3A%20tile_layer_ad1829f1e556406b9d0d311e9e33dfbc%2C%0A%20%20%20%20%20%20%20%20%20%20%20%20%20%20%20%20%7D%2C%0A%20%20%20%20%20%20%20%20%20%20%20%20%20%20%20%20overlays%20%3A%20%20%7B%0A%20%20%20%20%20%20%20%20%20%20%20%20%20%20%20%20%20%20%20%20%22Image%22%20%3A%20tile_layer_05d596d484c54a589c4f397819d90e8d%2C%0A%20%20%20%20%20%20%20%20%20%20%20%20%20%20%20%20%7D%2C%0A%20%20%20%20%20%20%20%20%20%20%20%20%7D%3B%0A%20%20%20%20%20%20%20%20%20%20%20%20L.control.layers%28%0A%20%20%20%20%20%20%20%20%20%20%20%20%20%20%20%20layer_control_d36980acded54a4ca071e7a1c8a7b506.base_layers%2C%0A%20%20%20%20%20%20%20%20%20%20%20%20%20%20%20%20layer_control_d36980acded54a4ca071e7a1c8a7b506.overlays%2C%0A%20%20%20%20%20%20%20%20%20%20%20%20%20%20%20%20%7B%22autoZIndex%22%3A%20true%2C%20%22collapsed%22%3A%20true%2C%20%22position%22%3A%20%22topright%22%7D%0A%20%20%20%20%20%20%20%20%20%20%20%20%29.addTo%28map_1f1167957a81441c8398c9c28dd0df84%29%3B%0A%20%20%20%20%20%20%20%20%0A%20%20%20%20%0A%20%20%20%20%20%20%20%20%20%20%20%20L.control.fullscreen%28%0A%20%20%20%20%20%20%20%20%20%20%20%20%20%20%20%20%7B%22forceSeparateButton%22%3A%20false%2C%20%22position%22%3A%20%22topleft%22%2C%20%22title%22%3A%20%22Full%20Screen%22%2C%20%22titleCancel%22%3A%20%22Exit%20Full%20Screen%22%7D%0A%20%20%20%20%20%20%20%20%20%20%20%20%29.addTo%28map_1f1167957a81441c8398c9c28dd0df84%29%3B%0A%20%20%20%20%20%20%20%20%0A%3C/script%3E onload=\"this.contentDocument.open();this.contentDocument.write(    decodeURIComponent(this.getAttribute('data-html')));this.contentDocument.close();\" allowfullscreen webkitallowfullscreen mozallowfullscreen></iframe></div></div>"
      ],
      "text/plain": [
       "<folium.folium.Map at 0x7fb2c4fd10a0>"
      ]
     },
     "metadata": {},
     "output_type": "display_data"
    }
   ],
   "source": [
    "# performs same procedure as above, using SL2P10 network\n",
    "# applies algorithm to 10 m bands ; generates a 10 m map\n",
    "\n",
    "# filter collection and add ancillary bands\n",
    "input_collection_10m = ee.ImageCollection(testImage) \\\n",
    "                     .map(lambda image: ib.addDate(image)) \\\n",
    "                     .map(lambda image: image.clip(mapBounds)) \\\n",
    "                     .map(lambda image: ib.s2MaskClear(image)) \\\n",
    "                     .map(lambda image: ib.s2MaskLand(image)) \\\n",
    "                     .map(lambda image: ib.addS2Geometry(colOptions, image))\n",
    "\n",
    "# get partition used to select network\n",
    "partition = (COLLECTION_OPTIONS[colName][\"partition\"]).filterBounds(mapBounds).mosaic().clip(mapBounds).rename('partition')\n",
    "\n",
    "# pre process input imagery and flag invalid inputs\n",
    "scaled_input_collection_10m = input_collection_10m.map(lambda image: ib.s2MaskLand(image)) \\\n",
    "                                                  .map(lambda image: ib.scaleBands(netOptions[\"inputBands\"],netOptions[\"inputScaling\"],image)) \\\n",
    "                                                  .map(lambda image: ib.invalidInput(COLLECTION_OPTIONS[colName][\"sl2pDomain\"],netOptions[\"inputBands\"],image))\n",
    "\n",
    "# apply networks to produce mapped parameters\n",
    "estimateSL2P_10m = scaled_input_collection_10m.map(lambda image: wn.wrapperNNets(SL2P, partition, netOptions, COLLECTION_OPTIONS[colName], \"estimate\", image, outputName))\n",
    "uncertaintySL2P_10m = scaled_input_collection_10m.map(lambda image: wn.wrapperNNets(errorsSL2P, partition, netOptions, COLLECTION_OPTIONS[colName], \"error\", image, outputName))\n",
    "\n",
    "# scale and offset mapped parameter bands\n",
    "estimateSL2P_10m = estimateSL2P_10m.map(lambda image: image.addBands(image.select(\"estimate\"+outputName) \\\n",
    "                                                             .multiply(ee.Image.constant(outputScale)) \\\n",
    "                                                             .add(ee.Image.constant(outputOffset)), overwrite=True))\n",
    "uncertaintySL2P_10m = uncertaintySL2P_10m.map(lambda image: image.addBands(image.select(\"error\"+outputName) \\\n",
    "                                                                   .multiply(ee.Image.constant(outputScale)) \\\n",
    "                                                                   .add(ee.Image.constant(outputOffset)), overwrite=True))\n",
    "\n",
    "\n",
    "# produce final export collection\n",
    "export_collection_10m = input_collection_10m.combine(estimateSL2P_10m).combine(uncertaintySL2P_10m)\n",
    "\n",
    "image_output_names_10m = ([name+\"_\"+siteSelect+\"_\"+outputName+\"_10m\" for name in export_collection_10m.toList(export_collection_10m.size()).map(lambda image: ee.Image(image).id()).getInfo()])\n",
    "\n",
    "ee_func.displayImage(export_collection_10m.mosaic().select('estimate'+outputName),0+outputOffset,10*outputScale+outputOffset, mapBounds)"
   ]
  },
  {
   "cell_type": "code",
   "execution_count": null,
   "metadata": {},
   "outputs": [],
   "source": [
    "# export tasks to Earth Engine\n",
    "export_task_10m = ee_func.export_collection_to_gee(collection=export_collection_10m,\n",
    "                                                   num_images=1,\n",
    "                                                   # image_names=[siteSelect+'_'+outputName+'_SL2P10'],\n",
    "                                                   image_names = image_output_names_10m,\n",
    "                                                   scale=10,\n",
    "                                                   # asset_folder='users/kateharvey/SL2P10_images',\n",
    "                                                   # asset_folder=assetfolder,\n",
    "                                                   asset_folder=cloud_folder,\n",
    "                                                   data_type=exportDataType,\n",
    "                                                   max_pixels=1e13)"
   ]
  },
  {
   "cell_type": "markdown",
   "metadata": {
    "tags": []
   },
   "source": [
    "# 2 – Active Learning Regularization (LARS Feature Selection)\n",
    "\n",
    "Note: the responseBand from the above step doesn't have a geometry associated with it (only happens after being uploaded to GEE) so the image will have to be defined from existing GEE asset for the remaining steps even though the same image was created as inputImage (should be identical except for geometry)"
   ]
  },
  {
   "cell_type": "code",
   "execution_count": 77,
   "metadata": {
    "tags": []
   },
   "outputs": [],
   "source": [
    "# order of bands from SL2P output:\n",
    "# 00-11: 'B1', 'B2', 'B3', 'B4', 'B5', 'B6', 'B7', 'B8', 'B8A', 'B9', 'B11', 'B12', \n",
    "# 12-19: 'AOT', 'WVP', 'SCL', 'TCI_R', 'TCI_G', 'TCI_B', 'MSK_CLDPRB', 'MSK_SNWPRB', \n",
    "# 20-26: 'QA10', 'QA20', 'QA60', 'date', 'cosVZA', 'cosSZA', 'cosRAA', \n",
    "# 27-32: 'estimateLAI', 'partition', 'networkID', 'errorLAI', 'partition_1', 'networkID_1'\n",
    "\n",
    "# define 10m band input image ; name bands of inputImage and scale response band\n",
    "# inputImage = ee.Image('users/ganghong/ALR/'+siteSelect+'_'+outputName+'_SL2P').select(1,2,3,7,22,23,27,28,29,30,31,32)\n",
    "# inputImage = ee.Image(assetfolder+'/'+image_output_names[0]).select(1,2,3,7,22,23,27,28,29,30,31,32)\n",
    "inputImage = ee.Image(cloud_folder+'/'+image_output_names[0]).select(1,2,3,7,22,23,27,28,29,30,31,32)\n",
    "inputImage_bands = ee.List(['B2', 'B3', 'B4', 'B8', 'QA60', 'date', 'estimate'+outputName, 'partition', 'networkID', 'error'+outputName, 'partition_1', 'networkID_1'])\n",
    "inputImage = inputImage.rename(inputImage_bands)\n",
    "# print (inputImage.getInfo())"
   ]
  },
  {
   "cell_type": "code",
   "execution_count": 78,
   "metadata": {
    "tags": []
   },
   "outputs": [],
   "source": [
    "# Only include VIs that use B2, B3, B4, B8 to create a 10 m product\n",
    "input_VI_definition = ee.List([# \"RAW_B2  = b('B2')\",\n",
    "                             # \"RAW_B3  = b('B3')\",\n",
    "                             # \"RAW_B4  = b('B4')\",\n",
    "                             # \"RAW_B8  = b('B8')\",\n",
    "                               \"GI      = b('B3')/b('B4')\",\n",
    "                             # \"RVI3    = b('B4')/b('B6')\",\n",
    "                             # \"SR3     = b('B5')/b('B4')\",\n",
    "                             # \"GM1     = b('B6')/b('B3')\",\n",
    "                             # \"GM2     = b('B6')/b('B5')\",\n",
    "                             # \"SR2     = b('B7')/b('B3')\",\n",
    "                             # \"PSSR    = b('B7')/b('B4')\",\n",
    "                               \"SGI     = b('B8')/b('B4')\",\n",
    "                             # \"MSI     = b('B11')/b('B7')\",\n",
    "                             # \"II      = b('B11')/b('B12')\",\n",
    "                               \"GVI     = (b('B8')/b('B3'))-1\",\n",
    "                             # \"PSRI    = (b('B4')-b('B3'))/b('B6')\",\n",
    "                               \"NDVI3   = ((b('B8')-b('B4'))/(b('B8')))+b('B4')\",\n",
    "                             # \"SR5     = 1/b('B5')\",\n",
    "                             # \"SR6     = b('B4')/(b('B3')*b('B5'))\",\n",
    "                             # \"SR7     = b('B8')/(b('B3')*b('B5'))\",\n",
    "                             # \"IPVI    = b('B7')/(b('B7')+b('B4'))\",\n",
    "                             # \"ARI     = (1/b('B3'))-(1/b('B5'))\",\n",
    "                             # \"ARI2    = b('B7')*((1/b('B3'))-(1/b('B5')))\",\n",
    "                               \"NDVI    = (b('B8')-b('B4'))/(b('B8')+b('B4'))\",\n",
    "                               \"GNDVI   = (b('B8')-b('B3'))/(b('B8')+b('B3'))\",\n",
    "                             # \"NDWI    = (b('B8')-b('B11'))/(b('B8')+b('B11'))\",\n",
    "                             # \"NDREVI  = (b('B8')-b('B5'))/(b('B8')+b('B5'))\",\n",
    "                               \"NDGI    = (b('B3')-b('B4'))/(b('B3')+b('B4'))\",\n",
    "                             # \"NDI1    = (b('B7')-b('B5'))/(b('B7')-b('B4'))\",\n",
    "                             # \"NDI2    = (b('B8')-b('B5'))/(b('B8')-b('B4'))\",\n",
    "                             # \"RENDVI  = (b('B6')-b('B5'))/(b('B6')+b('B5'))\",\n",
    "                             # \"OSAVI   = (1.16*(b('B7')-b('B4')))/(b('B7')+b('B4')+0.61)\",\n",
    "                             # \"NMDI    = (b('B8')-(b('B11')-b('B12')))/(b('B8')+(b('B11')-b('B12')))\",\n",
    "                             # \"HI      = ((b('B3')-b('B5'))/(b('B3')+b('B5')))-0.5*b('B5')\",\n",
    "                             # \"GVSP    = (-0.283*b('B3') - 0.66*b('B4') + 0.577*b('B6') + 0.388*b('B8'))/(0.433*b('B3') - 0.632*b('B4') + 0.586*b('B6') + 0.264*b('B8A'))\",\n",
    "                             # \"MCARI   = ((b('B5')-b('B4'))-0.2*(b('B5')-b('B3')))*(b('B5')/b('B4'))\",\n",
    "                             # \"TCARI   = 3*((b('B5')-b('B4'))-0.2*(b('B5')-b('B3'))*(b('B5')/b('B4')))\",\n",
    "                               \"EVI     = 2.5*((b('B8')-b('B4'))/(b('B8')+6*b('B4')-7.5*b('B3')+1))\",\n",
    "                               \"EVI2    = 2.5*((b('B8')-b('B4'))/(b('B8')+2.4*b('B4')+1))\",\n",
    "                               \"RDVI    = (b('B8')-b('B4'))/((b('B8')+b('B4'))**0.5)\",\n",
    "                               \"MSR     = ((b('B8')/b('B4'))-1)/((b('B8')/b('B4'))**0.5+1)\",\n",
    "                             # \"MSAVI   = 0.5*(2*b('B7')+1-((2*b('B7')+1)**2-8*(b('B7')-b('B4')))**0.5)\",\n",
    "                               \"MSAVI2  = 0.5*(2*b('B8')+1-((2*b('B8')+1)**2-8*(b('B8')-b('B4')))**0.5)\",\n",
    "                             # \"MCARI2  = (1.5*(2.5*(b('B7')-b('B4'))-1.3*(b('B7')-b('B3'))))/((((2*b('B7')+1)**2)-(6*b('B7')-5*(b('B4')**0.5))-0.5)**0.5)\",\n",
    "                             # \"MTVI2   = (1.5*(1.2*(b('B7')-b('B3'))-2.5*(b('B4')-b('B3'))))/(((2*b('B7')+1)**2-(6*b('B7')-5*b('B4'))-0.5)**0.5)\",\n",
    "                             # \"MSR2    = ((b('B7')/b('B4'))-1)/(((b('B7')/b('B4'))+1)**0.5)\",\n",
    "                               \"NLI     = ((b('B8')**2)-b('B4'))/((b('B8')**2)+b('B4'))\"])\n",
    "\n",
    "# names of bands to pass to ALR method (excluding metadata and other non-spectral bands)\n",
    "input_bandNames = ['B2', 'B3', 'B4', 'B8', 'GI', 'SGI', 'GVI', 'NDVI3', 'NDVI', 'GNDVI', 'NDGI', 'EVI', 'EVI2', 'RDVI', 'MSR', 'MSAVI2', 'NLI']"
   ]
  },
  {
   "cell_type": "code",
   "execution_count": 79,
   "metadata": {
    "tags": []
   },
   "outputs": [],
   "source": [
    "# format image and generate list of selected features\n",
    "inputImage = alr.format_image(inputImage, inputImage_bands, responseBand, input_VI_definition)"
   ]
  },
  {
   "cell_type": "code",
   "execution_count": 80,
   "metadata": {
    "tags": []
   },
   "outputs": [],
   "source": [
    "# prepares the image to be ingested by the LARS algorithm\n",
    "# returns an image with the response band centred to a mean 0, and the other bands in the image standardized\n",
    "# to a mean 0 and standard deviation 1\n",
    "scaledImage = alr.scale_image(inputImage, responseBand)"
   ]
  },
  {
   "cell_type": "code",
   "execution_count": 81,
   "metadata": {},
   "outputs": [
    {
     "name": "stdout",
     "output_type": "stream",
     "text": [
      "selected features:  ['MSR', 'EVI2', 'RDVI', 'B4', 'NDGI']\n"
     ]
    }
   ],
   "source": [
    "# apply ALR to the image and obtain the features selected for the model\n",
    "# parameters: ee_LARS(inputImage, bandNames, responseBand, numFeatures, numSamples)\n",
    "select_features = alr.ee_LARS(scaledImage, input_bandNames, responseBand, 5, 50000)"
   ]
  },
  {
   "cell_type": "markdown",
   "metadata": {
    "tags": []
   },
   "source": [
    "### Export VI Image"
   ]
  },
  {
   "cell_type": "code",
   "execution_count": 82,
   "metadata": {
    "tags": []
   },
   "outputs": [],
   "source": [
    "# export formatted image to google drive (with added VI bands)\n",
    "# this will be used in the next section to train the regression tree\n",
    "export = ee.ImageCollection(inputImage)\n",
    "\n",
    "export_task = ee_func.export_collection_to_gee(collection=export,\n",
    "                                                 num_images=1,\n",
    "                                                 # image_names=[siteSelect+'_'+outputName+'_VI'],\n",
    "                                                 # asset_folder='users/kateharvey/vi_images',  # replace with EE destination folder                                                 \n",
    "                                                 image_names=[siteSelect+'_'+outputName+'_VI'],\n",
    "                                                 # asset_folder=assetfolder,  # replace with EE destination folder\n",
    "                                                 asset_folder=cloud_folder, \n",
    "                                                 scale=10,\n",
    "                                                 data_type=exportDataType,\n",
    "                                                 max_pixels=1e13)"
   ]
  },
  {
   "cell_type": "markdown",
   "metadata": {
    "tags": []
   },
   "source": [
    "---\n",
    "# 2a – Regression Tree (Random Forest and CART)"
   ]
  },
  {
   "cell_type": "markdown",
   "metadata": {
    "tags": []
   },
   "source": [
    "### Train and Apply Regression Tree to Image"
   ]
  },
  {
   "cell_type": "code",
   "execution_count": 83,
   "metadata": {},
   "outputs": [],
   "source": [
    "# DEFINE IMAGE & FORMAT BANDS\n",
    "# unclassified = ee.Image('users/kateharvey/vi_images/'+siteSelect+'_'+outputName+'_VI')\n",
    "# unclassified = ee.Image(assetfolder+'/'+siteSelect+'_'+outputName+'_VI')\n",
    "unclassified = ee.Image(cloud_folder+'/'+siteSelect+'_'+outputName+'_VI')\n",
    "bands = ee.List([responseBand, 'GI', 'SGI', 'GVI', 'NDVI3', 'NDVI', 'GNDVI', 'NDGI',\n",
    "                 'EVI', 'EVI2', 'RDVI', 'MSR', 'MSAVI2', 'NLI', 'B2', 'B3', 'B4', 'B8',\n",
    "                 'QA60', 'date', 'partition', 'networkID', 'error'+outputName, 'partition_1', 'networkID_1'])\n",
    "unclassified = unclassified.rename(bands)\n",
    "\n",
    "# prediction bands (equivalent to select_features, with responseBand)\n",
    "bands = select_features\n",
    "input_bands = select_features.add(responseBand)"
   ]
  },
  {
   "cell_type": "code",
   "execution_count": 84,
   "metadata": {},
   "outputs": [],
   "source": [
    "# GET TRAINING DATASET\n",
    "# Feature Vector (table) used to train regression model (select only prediction bands)\n",
    "training_data = ee.FeatureCollection(unclassified.sample(numPixels=1000, seed=1).select(input_bands))"
   ]
  },
  {
   "cell_type": "code",
   "execution_count": 85,
   "metadata": {},
   "outputs": [],
   "source": [
    "# CREATE CLASSIFIERS\n",
    "\n",
    "# implement regression tree with Random Forest algorithm\n",
    "# optional parameters for smileRandomForest(): variablesPerSplit, minLeafPopulation, bagFraction, maxNodes, seed\n",
    "rf_classifier = ee.Classifier.smileRandomForest(100).setOutputMode('REGRESSION').train(features=training_data,\n",
    "                                                                                       classProperty=responseBand,\n",
    "                                                                                       inputProperties=input_bands)\n",
    "\n",
    "# implement regression tree with CART (Classification and Regression Tree) algorithm\n",
    "# optional parameters for smileCart(): maxNodes, minLeafPopulation\n",
    "cart_classifier = ee.Classifier.smileCart().setOutputMode('REGRESSION').train(features=training_data,\n",
    "                                                                              classProperty=responseBand,\n",
    "                                                                              inputProperties=input_bands)"
   ]
  },
  {
   "cell_type": "code",
   "execution_count": 86,
   "metadata": {},
   "outputs": [],
   "source": [
    "# CLASSIFY IMAGE\n",
    "rf_classified = unclassified.select(bands).classify(rf_classifier, 'rf_'+responseBand).clip(mapBounds)\n",
    "cart_classified = unclassified.select(bands).classify(cart_classifier, 'cart_'+responseBand).clip(mapBounds)"
   ]
  },
  {
   "cell_type": "markdown",
   "metadata": {},
   "source": [
    "### Export Random Forest image to EE"
   ]
  },
  {
   "cell_type": "code",
   "execution_count": null,
   "metadata": {},
   "outputs": [],
   "source": [
    "# Display map\n",
    "vis_params = {\n",
    "    'min': 0,\n",
    "    'max': outputScale*outputMax}\n",
    "\n",
    "rf_map = ee.Image(ee_func.displayImage(rf_classified, vis_params['min'], vis_params['max'], mapBounds)).clip(mapBounds)"
   ]
  },
  {
   "cell_type": "code",
   "execution_count": 87,
   "metadata": {},
   "outputs": [],
   "source": [
    "# Export directly to EE:\n",
    "export_task = ee_func.export_collection_to_gee(collection=rf_classified,\n",
    "                                               num_images=1,\n",
    "                                               image_names=[siteSelect+'_'+outputName+'_rf'],\n",
    "                                               scale=10,\n",
    "                                               # asset_folder='users/kateharvey/regression_images',                                            \n",
    "                                               asset_folder=cloud_folder,\n",
    "                                            # asset_folder=assetfolder,\n",
    "                                               data_type=exportDataType,\n",
    "                                               max_pixels=1e13)"
   ]
  },
  {
   "cell_type": "code",
   "execution_count": 88,
   "metadata": {},
   "outputs": [],
   "source": [
    "# Export directly to EE:\n",
    "export_task = ee_func.export_collection_to_gee(collection=cart_classified,\n",
    "                                               num_images=1,\n",
    "                                               image_names=[siteSelect+'_'+outputName+'_cart'],\n",
    "                                               scale=10,\n",
    "                                               # asset_folder='users/kateharvey/regression_images',                                            \n",
    "                                               asset_folder=cloud_folder,\n",
    "                                                # asset_folder=assetfolder,\n",
    "                                               data_type=exportDataType,\n",
    "                                               max_pixels=1e13)"
   ]
  },
  {
   "cell_type": "code",
   "execution_count": 26,
   "metadata": {},
   "outputs": [],
   "source": [
    "# cloud_folder = 'projects/ccmeo-ag-000008/assets/ALR'\n",
    "# # export_image = 'projects/google/logistic_demo_image'\n",
    "# # Export directly to EE:\n",
    "# export_task = ee_func.export_collection_to_gee(collection=cart_classified,\n",
    "#                                                num_images=1,\n",
    "#                                                image_names=[siteSelect+'_'+outputName+'_cart1'],\n",
    "#                                                scale=10,\n",
    "#                                                # asset_folder='users/kateharvey/regression_images',                                            \n",
    "#                                                asset_folder=cloud_folder,\n",
    "#                                                data_type=exportDataType,\n",
    "#                                                max_pixels=1e13)\n",
    "\n",
    "# image_task = ee.batch.Export.image.toAsset(\n",
    "#   image = stack, \n",
    "#   description = 'logistic_demo_image', \n",
    "#   assetId = export_image, \n",
    "#   region = GEOMETRY,\n",
    "#   scale = 30,\n",
    "#   maxPixels = 1e10\n",
    "# )"
   ]
  },
  {
   "cell_type": "markdown",
   "metadata": {},
   "source": [
    "### Extract sample points for plotting"
   ]
  },
  {
   "cell_type": "code",
   "execution_count": 24,
   "metadata": {
    "tags": []
   },
   "outputs": [],
   "source": [
    "# CHECK RESULTS (CROSS-VALIDATION)\n",
    "joined_image = unclassified.select(responseBand).addBands(rf_classified.select('rf_'+responseBand)).addBands(cart_classified.select('cart_'+responseBand))\n",
    "\n",
    "# using same random seed as training_data, get 2000 samples and discard the first 1000, leaving 1000 different samples for cross-validation\n",
    "# this sampling method ensures no overlap between training and testing datasets\n",
    "joined_samples = ee.FeatureCollection(joined_image.sample(numPixels=2000, seed=1).toList(2000, 1000))"
   ]
  },
  {
   "cell_type": "markdown",
   "metadata": {
    "tags": []
   },
   "source": [
    "### Export Feature Collection (for scatter plot comparison in next section)"
   ]
  },
  {
   "cell_type": "code",
   "execution_count": null,
   "metadata": {},
   "outputs": [],
   "source": [
    "# export_csv = ee.batch.Export.table.toDrive(collection=joined_samples,\n",
    "#                                            description=siteSelect+'_'+outputName+'_regression_tree',\n",
    "#                                            fileFormat='CSV')\n",
    "\n",
    "# # Start the export task\n",
    "# export_csv.start()"
   ]
  },
  {
   "cell_type": "code",
   "execution_count": null,
   "metadata": {
    "tags": []
   },
   "outputs": [],
   "source": [
    "# # Wait loop to see if the data has finished exporting by checking with the server-side\n",
    "# prev_task_status = ee.data.getTaskStatus(export_csv.id)[0][\"state\"]\n",
    "# print(prev_task_status)\n",
    "# while export_csv.active():\n",
    "#     task_status = ee.data.getTaskStatus(export_csv.id)[0][\"state\"]\n",
    "#     if(task_status != prev_task_status):\n",
    "#         print(task_status)\n",
    "#     prev_task_status = task_status\n",
    "#     time.sleep(5)\n",
    "# print(ee.data.getTaskStatus(export_csv.id)[0][\"state\"])"
   ]
  },
  {
   "cell_type": "code",
   "execution_count": 24,
   "metadata": {},
   "outputs": [],
   "source": [
    "csv_task = ee.batch.Export.table.toCloudStorage(\n",
    "    collection=joined_samples, \n",
    "    description=siteSelect+'_'+outputName+'_regression_tree', \n",
    "    bucket='eealr',     \n",
    "    fileFormat='CSV')"
   ]
  },
  {
   "cell_type": "code",
   "execution_count": 25,
   "metadata": {},
   "outputs": [],
   "source": [
    "csv_task.start()"
   ]
  },
  {
   "cell_type": "markdown",
   "metadata": {
    "tags": []
   },
   "source": [
    "### Visualize and Compare Predictions:"
   ]
  },
  {
   "cell_type": "code",
   "execution_count": 37,
   "metadata": {},
   "outputs": [],
   "source": [
    "# Read the CSV file into dataframe\n",
    "# data = pd.read_csv('./gdrive/'+siteSelect+'_'+outputName+'_regression_tree.csv')\n",
    "data = pd.read_csv('gs://eealr/'+siteSelect+'_'+outputName+'_regression_tree.csv')\n",
    "\n",
    "# remove rows that have a value of 0 for the responseBand\n",
    "data = data[data[responseBand] != 0]\n",
    "\n",
    "\n",
    "# Get column data (for plots [0,1] and [1,1])\n",
    "rf = data['rf_'+responseBand]/1000    # divide by 1000 to get properly scaled values for the variable\n",
    "cart = data['cart_'+responseBand]/1000\n",
    "actual = data[responseBand]/1000\n",
    "\n",
    "# Obtain point density to display as a scatterplot (KDE)\n",
    "xy_rf = np.vstack([actual, rf])\n",
    "z_rf = scipy.stats.gaussian_kde(xy_rf)(xy_rf)\n",
    "\n",
    "xy_cart = np.vstack([actual, cart])\n",
    "z_cart = scipy.stats.gaussian_kde(xy_cart)(xy_cart)\n",
    "\n",
    "\n",
    "# Sort by responseBand in ascending order (for plots [0,0] and [1,0] below)\n",
    "data_sorted = data.sort_values(responseBand, axis=0).reset_index(drop=True)\n",
    "rf_sorted = data_sorted['rf_'+responseBand]/1000\n",
    "cart_sorted = data_sorted['cart_'+responseBand]/1000\n",
    "actual_sorted = data_sorted[responseBand]/1000\n",
    "index_sorted = data_sorted.index\n",
    "\n",
    "# Obtain point density for sorted values\n",
    "xy_rf_sorted = np.vstack([actual_sorted, rf_sorted])\n",
    "z_rf_sorted = scipy.stats.gaussian_kde(xy_rf_sorted)(xy_rf_sorted)\n",
    "\n",
    "xy_cart_sorted = np.vstack([actual_sorted, cart_sorted])\n",
    "z_cart_sorted = scipy.stats.gaussian_kde(xy_cart_sorted)(xy_cart_sorted)"
   ]
  },
  {
   "cell_type": "code",
   "execution_count": null,
   "metadata": {
    "tags": []
   },
   "outputs": [],
   "source": [
    "# PLOT & COMPARE PREDICTIONS FROM BOTH REGRESSION TREES\n",
    "fig, ax = plt.subplots(2, 2, figsize=(12,12))\n",
    "xy = np.linspace(0, outputMax, 100)\n",
    "\n",
    "# ax[0,0]\n",
    "fig1 = ax[0,0].scatter(index_sorted, rf_sorted, c=z_rf_sorted, label='random forest')\n",
    "ax[0,0].scatter(index_sorted, actual_sorted, c='r', s=1, label='sl2p estimate')\n",
    "rf_rmse_sorted = skl.metrics.mean_squared_error(actual_sorted, rf_sorted, squared=False)\n",
    "rf_r2_sorted = skl.metrics.r2_score(actual_sorted, rf_sorted)\n",
    "\n",
    "# ax[0,0].title.set_text('RMSE: {rmse:.5f}          R2: {r2:.5f}'.format(rmse=rf_rmse_sorted, r2=rf_r2_sorted))\n",
    "ax[0,0].set_xlabel('Index (1000 samples)')\n",
    "ax[0,0].set_ylabel('Random Forest Prediction')\n",
    "ax[0,0].legend()\n",
    "\n",
    "\n",
    "# ax[0,1]\n",
    "ax[0,1].plot(xy, xy, c='r')\n",
    "fig2 = ax[0,1].scatter(rf, actual, c=z_rf)\n",
    "rf_rmse = skl.metrics.mean_squared_error(actual, rf, squared=False)\n",
    "rf_r2 = skl.metrics.r2_score(actual, rf)\n",
    "\n",
    "ax[0,1].title.set_text('RMSE: {rmse:.5f}         R2: {r2:.5f}'.format(rmse=rf_rmse, r2=rf_r2))\n",
    "ax[0,1].set_xlabel('SL2P Prediction')\n",
    "ax[0,1].set_ylabel('Random Forest Prediction')\n",
    "\n",
    "fig.subplots_adjust(right=0.9)\n",
    "cbar_ax1 = fig.add_axes([0.92, 0.55, 0.02, 0.3])\n",
    "fig.colorbar(fig2, cax=cbar_ax1)\n",
    "\n",
    "\n",
    "# ax[1,0]\n",
    "fig3 = ax[1,0].scatter(index_sorted, cart_sorted, c=z_cart_sorted, label='cart')\n",
    "ax[1,0].scatter(index_sorted, actual_sorted, c='r', s=1, label='sl2p estimate')\n",
    "cart_rmse_sorted = skl.metrics.mean_squared_error(actual_sorted, cart_sorted, squared=False)\n",
    "cart_r2_sorted = skl.metrics.r2_score(actual_sorted, cart_sorted)\n",
    "\n",
    "# ax[1,0].title.set_text('RMSE: {rmse:.5f}          R2: {r2:.5f}'.format(rmse=cart_rmse_sorted, r2=cart_r2_sorted))\n",
    "ax[1,0].set_xlabel('Index (1000 samples)')\n",
    "ax[1,0].set_ylabel('CART Prediction')\n",
    "ax[1,0].legend()\n",
    "\n",
    "\n",
    "# ax[1,1]\n",
    "ax[1,1].plot(xy, xy, c='r')\n",
    "fig4 = ax[1,1].scatter(cart, actual, c=z_cart)\n",
    "cart_rmse = skl.metrics.mean_squared_error(actual, cart, squared=False)\n",
    "cart_r2 = skl.metrics.r2_score(actual, cart)\n",
    "ax[1,1].title.set_text('RMSE: {rmse:.5f}          R2: {r2:.5f}'.format(rmse=cart_rmse, r2=cart_r2))\n",
    "ax[1,1].set_xlabel('SL2P Prediction')\n",
    "ax[1,1].set_ylabel('CART Prediction')\n",
    "\n",
    "fig.subplots_adjust(right=0.9)\n",
    "cbar_ax3 = fig.add_axes([0.92, 0.15, 0.02, 0.3])\n",
    "fig.colorbar(fig4, cax=cbar_ax3)\n",
    "\n",
    "# save plot as .png\n",
    "# fig.savefig('./plots/trees/'+siteSelect+'_'+outputName+'_rf_cart_comparison.png')\n",
    "# fig.savefig('gs://eealr/'+siteSelect+'_'+outputName+'_rf_cart_comparison.png')\n",
    "fig.savefig(siteSelect+'_'+outputName+'_rf_cart_comparison.png')"
   ]
  },
  {
   "cell_type": "markdown",
   "metadata": {
    "tags": []
   },
   "source": []
  },
  {
   "cell_type": "code",
   "execution_count": null,
   "metadata": {
    "tags": []
   },
   "outputs": [],
   "source": [
    "# # Display map\n",
    "# vis_params = {\n",
    "#     'min': 0,\n",
    "#     'max': outputScale*outputMax}\n",
    "\n",
    "# rf_map = ee.Image(ee_func.displayImage(rf_classified, vis_params['min'], vis_params['max'], mapBounds)).clip(mapBounds)"
   ]
  },
  {
   "cell_type": "code",
   "execution_count": null,
   "metadata": {},
   "outputs": [],
   "source": [
    "# # Export directly to EE:\n",
    "# export_task = ee_func.export_collection_to_gee(collection=rf_classified,\n",
    "#                                                num_images=1,\n",
    "#                                                image_names=[siteSelect+'_'+outputName+'_random_forest'],\n",
    "#                                                scale=10,\n",
    "#                                                # asset_folder='users/kateharvey/regression_images',                                            \n",
    "#                                                asset_folder=assetfolder,\n",
    "#                                                data_type=exportDataType,\n",
    "#                                                max_pixels=1e13)"
   ]
  },
  {
   "cell_type": "markdown",
   "metadata": {},
   "source": [
    "# 2b – NNET (Tensorflow)"
   ]
  },
  {
   "cell_type": "markdown",
   "metadata": {},
   "source": [
    "## Exports"
   ]
  },
  {
   "cell_type": "code",
   "execution_count": 89,
   "metadata": {},
   "outputs": [],
   "source": [
    "# scale image responseBand for export (was multiplied by 1000 for previous steps, so rescale before proceeding)\n",
    "inputImage_tf = inputImage.addBands(inputImage.select(responseBand).divide(1000), overwrite=True)\n",
    "# inputImage.sample(numPixels=100).getInfo()"
   ]
  },
  {
   "cell_type": "code",
   "execution_count": 90,
   "metadata": {},
   "outputs": [],
   "source": [
    "# Create the export task on the server side from Earth Engine. Remember that the data will be exported to the google drive of the google\n",
    "# account you used when you initiated the Earth Engine API authentication flow, so ensure that, that accounts drive is synced to the \n",
    "# gdrive folder in the same folder as this script\n",
    "trimmedCollection = alr.trim_data(image=inputImage_tf.updateMask(inputImage_tf.select(responseBand).gt(0)),\n",
    "                                  selected_features=select_features,\n",
    "                                  response_band=responseBand,\n",
    "                                  num_samples=50000,\n",
    "                                  num_partitions=10)\n",
    "\n",
    "# exportData = ee.batch.Export.table.toDrive(collection=trimmedCollection,\n",
    "#                                            description=siteSelect+'_'+outputName+'_nnet_10m',\n",
    "#                                            fileFormat=\"CSV\")\n",
    "\n",
    "# # Start the export data task\n",
    "# exportData.start()"
   ]
  },
  {
   "cell_type": "code",
   "execution_count": 91,
   "metadata": {},
   "outputs": [],
   "source": [
    "exportData_task = ee.batch.Export.table.toCloudStorage(\n",
    "    collection=trimmedCollection, \n",
    "    description=siteSelect+'_'+outputName+'_nnet', \n",
    "    bucket='eealr',     \n",
    "    fileFormat='CSV')"
   ]
  },
  {
   "cell_type": "code",
   "execution_count": 92,
   "metadata": {},
   "outputs": [],
   "source": [
    "exportData_task.start()"
   ]
  },
  {
   "cell_type": "markdown",
   "metadata": {},
   "source": [
    "### Read data and make nets"
   ]
  },
  {
   "cell_type": "code",
   "execution_count": 93,
   "metadata": {},
   "outputs": [
    {
     "name": "stdout",
     "output_type": "stream",
     "text": [
      "19210\n"
     ]
    }
   ],
   "source": [
    "# Read the CSV file into dataframes\n",
    "# trimmed_data = pd.read_csv('./gdrive/'+siteSelect+'_'+outputName+'_nnet_10m.csv')\n",
    "trimmed_data = pd.read_csv('gs://eealr/'+siteSelect+'_'+outputName+'_nnet.csv')\n",
    "X = trimmed_data.drop(labels=[responseBand, 'system:index', '.geo'], axis=1)\n",
    "y = trimmed_data[responseBand]\n",
    "\n",
    "# Preprocess the input features by standardizing them to a mean of 0 and a standard deviation of 1 for the neural network\n",
    "X = pd.DataFrame(skl.preprocessing.scale(X))\n",
    "print (len(X))"
   ]
  },
  {
   "cell_type": "code",
   "execution_count": 94,
   "metadata": {},
   "outputs": [
    {
     "name": "stdout",
     "output_type": "stream",
     "text": [
      "Epoch 1/100\n",
      "601/601 [==============================] - 3s 4ms/step - loss: 2.9049 - mse: 2.9049 - mae: 1.5080\n",
      "Epoch 2/100\n",
      "601/601 [==============================] - 2s 4ms/step - loss: 0.3870 - mse: 0.3870 - mae: 0.4886\n",
      "Epoch 3/100\n",
      "601/601 [==============================] - 2s 4ms/step - loss: 0.1160 - mse: 0.1160 - mae: 0.2648\n",
      "Epoch 4/100\n",
      "601/601 [==============================] - 2s 4ms/step - loss: 0.0558 - mse: 0.0558 - mae: 0.1820\n",
      "Epoch 5/100\n",
      "601/601 [==============================] - 2s 4ms/step - loss: 0.0410 - mse: 0.0410 - mae: 0.1597\n",
      "Epoch 6/100\n",
      "601/601 [==============================] - 2s 4ms/step - loss: 0.0374 - mse: 0.0374 - mae: 0.1540\n",
      "Epoch 7/100\n",
      "601/601 [==============================] - 2s 4ms/step - loss: 0.0360 - mse: 0.0360 - mae: 0.1513\n",
      "Epoch 8/100\n",
      "601/601 [==============================] - 2s 4ms/step - loss: 0.0351 - mse: 0.0351 - mae: 0.1496\n",
      "Epoch 9/100\n",
      "601/601 [==============================] - 2s 4ms/step - loss: 0.0347 - mse: 0.0347 - mae: 0.1487\n",
      "Epoch 10/100\n",
      "601/601 [==============================] - 2s 4ms/step - loss: 0.0343 - mse: 0.0343 - mae: 0.1479\n",
      "Epoch 11/100\n",
      "601/601 [==============================] - 2s 4ms/step - loss: 0.0341 - mse: 0.0341 - mae: 0.1475\n",
      "Epoch 12/100\n",
      "601/601 [==============================] - 2s 4ms/step - loss: 0.0341 - mse: 0.0341 - mae: 0.1474\n",
      "Epoch 13/100\n",
      "601/601 [==============================] - 2s 4ms/step - loss: 0.0340 - mse: 0.0340 - mae: 0.1472\n",
      "Epoch 14/100\n",
      "601/601 [==============================] - 2s 4ms/step - loss: 0.0339 - mse: 0.0339 - mae: 0.1473\n",
      "Epoch 15/100\n",
      "601/601 [==============================] - 2s 4ms/step - loss: 0.0339 - mse: 0.0339 - mae: 0.1469\n",
      "Epoch 16/100\n",
      "601/601 [==============================] - 2s 4ms/step - loss: 0.0338 - mse: 0.0338 - mae: 0.1470\n",
      "Epoch 17/100\n",
      "601/601 [==============================] - 2s 4ms/step - loss: 0.0339 - mse: 0.0339 - mae: 0.1470\n",
      "Epoch 18/100\n",
      "601/601 [==============================] - 2s 4ms/step - loss: 0.0338 - mse: 0.0338 - mae: 0.1471\n",
      "Epoch 19/100\n",
      "601/601 [==============================] - 2s 4ms/step - loss: 0.0339 - mse: 0.0339 - mae: 0.1469\n",
      "Epoch 20/100\n",
      "601/601 [==============================] - 2s 4ms/step - loss: 0.0339 - mse: 0.0339 - mae: 0.1470\n",
      "Epoch 21/100\n",
      "601/601 [==============================] - 2s 4ms/step - loss: 0.0339 - mse: 0.0339 - mae: 0.1470\n",
      "Epoch 22/100\n",
      "601/601 [==============================] - 2s 4ms/step - loss: 0.0338 - mse: 0.0338 - mae: 0.1470\n",
      "Epoch 23/100\n",
      "601/601 [==============================] - 2s 4ms/step - loss: 0.0338 - mse: 0.0338 - mae: 0.1468\n",
      "Epoch 24/100\n",
      "601/601 [==============================] - 2s 4ms/step - loss: 0.0338 - mse: 0.0338 - mae: 0.1470\n",
      "Epoch 25/100\n",
      "601/601 [==============================] - 2s 4ms/step - loss: 0.0338 - mse: 0.0338 - mae: 0.1467\n",
      "Epoch 26/100\n",
      "601/601 [==============================] - 2s 4ms/step - loss: 0.0338 - mse: 0.0338 - mae: 0.1468\n",
      "Epoch 27/100\n",
      "601/601 [==============================] - 2s 4ms/step - loss: 0.0337 - mse: 0.0337 - mae: 0.1467\n",
      "Epoch 28/100\n",
      "601/601 [==============================] - 2s 4ms/step - loss: 0.0338 - mse: 0.0338 - mae: 0.1467\n",
      "Epoch 29/100\n",
      "601/601 [==============================] - 2s 4ms/step - loss: 0.0338 - mse: 0.0338 - mae: 0.1467\n",
      "Epoch 30/100\n",
      "601/601 [==============================] - 2s 4ms/step - loss: 0.0338 - mse: 0.0338 - mae: 0.1468\n",
      "Epoch 31/100\n",
      "601/601 [==============================] - 2s 4ms/step - loss: 0.0338 - mse: 0.0338 - mae: 0.1468\n",
      "Epoch 32/100\n",
      "601/601 [==============================] - 2s 4ms/step - loss: 0.0337 - mse: 0.0337 - mae: 0.1466\n",
      "Epoch 33/100\n",
      "601/601 [==============================] - 2s 4ms/step - loss: 0.0337 - mse: 0.0337 - mae: 0.1466\n",
      "Epoch 34/100\n",
      "601/601 [==============================] - 2s 4ms/step - loss: 0.0337 - mse: 0.0337 - mae: 0.1466\n",
      "Epoch 35/100\n",
      "601/601 [==============================] - 2s 4ms/step - loss: 0.0336 - mse: 0.0336 - mae: 0.1464\n",
      "Epoch 36/100\n",
      "601/601 [==============================] - 2s 4ms/step - loss: 0.0337 - mse: 0.0337 - mae: 0.1466\n",
      "Epoch 37/100\n",
      "601/601 [==============================] - 2s 4ms/step - loss: 0.0337 - mse: 0.0337 - mae: 0.1465\n",
      "Epoch 38/100\n",
      "601/601 [==============================] - 2s 4ms/step - loss: 0.0336 - mse: 0.0336 - mae: 0.1464\n",
      "Epoch 39/100\n",
      "601/601 [==============================] - 2s 4ms/step - loss: 0.0337 - mse: 0.0337 - mae: 0.1465\n",
      "Epoch 40/100\n",
      "601/601 [==============================] - 2s 4ms/step - loss: 0.0337 - mse: 0.0337 - mae: 0.1466\n",
      "Epoch 41/100\n",
      "601/601 [==============================] - 2s 4ms/step - loss: 0.0337 - mse: 0.0337 - mae: 0.1463\n",
      "Epoch 42/100\n",
      "601/601 [==============================] - 2s 4ms/step - loss: 0.0336 - mse: 0.0336 - mae: 0.1465\n",
      "Epoch 43/100\n",
      "601/601 [==============================] - 2s 4ms/step - loss: 0.0336 - mse: 0.0336 - mae: 0.1463\n",
      "Epoch 44/100\n",
      "601/601 [==============================] - 2s 4ms/step - loss: 0.0336 - mse: 0.0336 - mae: 0.1465\n",
      "Epoch 45/100\n",
      "601/601 [==============================] - 2s 4ms/step - loss: 0.0336 - mse: 0.0336 - mae: 0.1463\n",
      "Epoch 46/100\n",
      "601/601 [==============================] - 2s 4ms/step - loss: 0.0335 - mse: 0.0335 - mae: 0.1463\n",
      "Epoch 47/100\n",
      "601/601 [==============================] - 2s 4ms/step - loss: 0.0336 - mse: 0.0336 - mae: 0.1463\n",
      "Epoch 48/100\n",
      "601/601 [==============================] - 2s 4ms/step - loss: 0.0335 - mse: 0.0335 - mae: 0.1463\n",
      "Epoch 49/100\n",
      "601/601 [==============================] - 2s 4ms/step - loss: 0.0336 - mse: 0.0336 - mae: 0.1461\n",
      "Epoch 50/100\n",
      "601/601 [==============================] - 2s 4ms/step - loss: 0.0336 - mse: 0.0336 - mae: 0.1462\n",
      "Epoch 51/100\n",
      "601/601 [==============================] - 2s 4ms/step - loss: 0.0335 - mse: 0.0335 - mae: 0.1460\n",
      "Epoch 52/100\n",
      "601/601 [==============================] - 2s 4ms/step - loss: 0.0336 - mse: 0.0336 - mae: 0.1462\n",
      "Epoch 53/100\n",
      "601/601 [==============================] - 2s 4ms/step - loss: 0.0334 - mse: 0.0334 - mae: 0.1461\n",
      "Epoch 54/100\n",
      "601/601 [==============================] - 2s 4ms/step - loss: 0.0336 - mse: 0.0336 - mae: 0.1462\n",
      "Epoch 55/100\n",
      "601/601 [==============================] - 2s 4ms/step - loss: 0.0334 - mse: 0.0334 - mae: 0.1458\n",
      "Epoch 56/100\n",
      "601/601 [==============================] - 2s 4ms/step - loss: 0.0335 - mse: 0.0335 - mae: 0.1460\n",
      "Epoch 57/100\n",
      "601/601 [==============================] - 2s 4ms/step - loss: 0.0335 - mse: 0.0335 - mae: 0.1460\n",
      "Epoch 58/100\n",
      "601/601 [==============================] - 2s 4ms/step - loss: 0.0335 - mse: 0.0335 - mae: 0.1461\n",
      "Epoch 59/100\n",
      "601/601 [==============================] - 2s 4ms/step - loss: 0.0335 - mse: 0.0335 - mae: 0.1459\n",
      "Epoch 60/100\n",
      "601/601 [==============================] - 2s 4ms/step - loss: 0.0335 - mse: 0.0335 - mae: 0.1459\n",
      "Epoch 61/100\n",
      "601/601 [==============================] - 2s 4ms/step - loss: 0.0334 - mse: 0.0334 - mae: 0.1458\n",
      "Epoch 62/100\n",
      "601/601 [==============================] - 2s 4ms/step - loss: 0.0334 - mse: 0.0334 - mae: 0.1458\n",
      "Epoch 63/100\n",
      "601/601 [==============================] - 2s 4ms/step - loss: 0.0334 - mse: 0.0334 - mae: 0.1457\n",
      "Epoch 64/100\n",
      "601/601 [==============================] - 2s 4ms/step - loss: 0.0334 - mse: 0.0334 - mae: 0.1458\n",
      "Epoch 65/100\n",
      "601/601 [==============================] - 2s 4ms/step - loss: 0.0333 - mse: 0.0333 - mae: 0.1456\n",
      "Epoch 66/100\n",
      "601/601 [==============================] - 2s 4ms/step - loss: 0.0333 - mse: 0.0333 - mae: 0.1455\n",
      "Epoch 67/100\n",
      "601/601 [==============================] - 2s 4ms/step - loss: 0.0333 - mse: 0.0333 - mae: 0.1455\n",
      "Epoch 68/100\n",
      "601/601 [==============================] - 2s 4ms/step - loss: 0.0332 - mse: 0.0332 - mae: 0.1454\n",
      "Epoch 69/100\n",
      "601/601 [==============================] - 2s 4ms/step - loss: 0.0333 - mse: 0.0333 - mae: 0.1454\n",
      "Epoch 70/100\n",
      "601/601 [==============================] - 2s 4ms/step - loss: 0.0332 - mse: 0.0332 - mae: 0.1455\n",
      "Epoch 71/100\n",
      "601/601 [==============================] - 2s 4ms/step - loss: 0.0333 - mse: 0.0333 - mae: 0.1456\n",
      "Epoch 72/100\n",
      "601/601 [==============================] - 2s 4ms/step - loss: 0.0332 - mse: 0.0332 - mae: 0.1454\n",
      "Epoch 73/100\n",
      "601/601 [==============================] - 2s 4ms/step - loss: 0.0332 - mse: 0.0332 - mae: 0.1453\n",
      "Epoch 74/100\n",
      "601/601 [==============================] - 2s 4ms/step - loss: 0.0331 - mse: 0.0331 - mae: 0.1452\n",
      "Epoch 75/100\n",
      "601/601 [==============================] - 2s 4ms/step - loss: 0.0332 - mse: 0.0332 - mae: 0.1453\n",
      "Epoch 76/100\n",
      "601/601 [==============================] - 2s 4ms/step - loss: 0.0332 - mse: 0.0332 - mae: 0.1454\n",
      "Epoch 77/100\n",
      "601/601 [==============================] - 2s 4ms/step - loss: 0.0331 - mse: 0.0331 - mae: 0.1452\n",
      "Epoch 78/100\n",
      "601/601 [==============================] - 2s 4ms/step - loss: 0.0332 - mse: 0.0332 - mae: 0.1454\n",
      "Epoch 79/100\n",
      "601/601 [==============================] - 2s 4ms/step - loss: 0.0332 - mse: 0.0332 - mae: 0.1454\n",
      "Epoch 80/100\n",
      "601/601 [==============================] - 2s 4ms/step - loss: 0.0331 - mse: 0.0331 - mae: 0.1451\n",
      "Epoch 81/100\n",
      "601/601 [==============================] - 2s 4ms/step - loss: 0.0331 - mse: 0.0331 - mae: 0.1453\n",
      "Epoch 82/100\n",
      "601/601 [==============================] - 2s 4ms/step - loss: 0.0331 - mse: 0.0331 - mae: 0.1453\n",
      "Epoch 83/100\n",
      "601/601 [==============================] - 2s 4ms/step - loss: 0.0330 - mse: 0.0330 - mae: 0.1451\n",
      "Epoch 84/100\n",
      "601/601 [==============================] - 2s 4ms/step - loss: 0.0332 - mse: 0.0332 - mae: 0.1453\n",
      "Epoch 85/100\n",
      "601/601 [==============================] - 2s 4ms/step - loss: 0.0331 - mse: 0.0331 - mae: 0.1451\n",
      "Epoch 86/100\n",
      "601/601 [==============================] - 2s 4ms/step - loss: 0.0330 - mse: 0.0330 - mae: 0.1450\n",
      "Epoch 87/100\n",
      "601/601 [==============================] - 2s 4ms/step - loss: 0.0330 - mse: 0.0330 - mae: 0.1451\n",
      "Epoch 88/100\n",
      "601/601 [==============================] - 2s 4ms/step - loss: 0.0330 - mse: 0.0330 - mae: 0.1452\n",
      "Epoch 89/100\n",
      "601/601 [==============================] - 2s 4ms/step - loss: 0.0331 - mse: 0.0331 - mae: 0.1451\n",
      "Epoch 90/100\n",
      "601/601 [==============================] - 2s 4ms/step - loss: 0.0330 - mse: 0.0330 - mae: 0.1450\n",
      "Epoch 91/100\n",
      "601/601 [==============================] - 2s 4ms/step - loss: 0.0330 - mse: 0.0330 - mae: 0.1448\n",
      "Epoch 92/100\n",
      "601/601 [==============================] - 2s 4ms/step - loss: 0.0330 - mse: 0.0330 - mae: 0.1448\n",
      "Epoch 93/100\n",
      "601/601 [==============================] - 2s 4ms/step - loss: 0.0330 - mse: 0.0330 - mae: 0.1451\n",
      "Epoch 94/100\n",
      "601/601 [==============================] - 2s 4ms/step - loss: 0.0330 - mse: 0.0330 - mae: 0.1449\n",
      "Epoch 95/100\n",
      "601/601 [==============================] - 2s 4ms/step - loss: 0.0331 - mse: 0.0331 - mae: 0.1451\n",
      "Epoch 96/100\n",
      "601/601 [==============================] - 2s 4ms/step - loss: 0.0329 - mse: 0.0329 - mae: 0.1445\n",
      "Epoch 97/100\n",
      "601/601 [==============================] - 2s 4ms/step - loss: 0.0329 - mse: 0.0329 - mae: 0.1447\n",
      "Epoch 98/100\n",
      "601/601 [==============================] - 2s 4ms/step - loss: 0.0330 - mse: 0.0330 - mae: 0.1450\n",
      "Epoch 99/100\n",
      "601/601 [==============================] - 2s 4ms/step - loss: 0.0330 - mse: 0.0330 - mae: 0.1450\n",
      "Epoch 100/100\n",
      "601/601 [==============================] - 2s 4ms/step - loss: 0.0330 - mse: 0.0330 - mae: 0.1448\n",
      "--- 225.44057369232178 seconds ---\n"
     ]
    }
   ],
   "source": [
    "# Use Keras to create a sequential model neural network which only has simple dense layers of the specified number of nodes\n",
    "### record the start time\n",
    "start_time = time.time()\n",
    "\n",
    "model = alr.make_nets(X, y)\n",
    "\n",
    "### check the time used\n",
    "print(\"--- %s seconds ---\" % (time.time() - start_time))"
   ]
  },
  {
   "cell_type": "code",
   "execution_count": 95,
   "metadata": {},
   "outputs": [],
   "source": [
    "# Predict our input data to evaluate the performance (for now)\n",
    "predictions = pd.Series(model.predict(X.to_numpy()).flatten())"
   ]
  },
  {
   "cell_type": "code",
   "execution_count": 96,
   "metadata": {},
   "outputs": [],
   "source": [
    "# Prepare data to display as a scatterplot\n",
    "xy_tf = np.vstack([y, predictions])\n",
    "z_tf = scipy.stats.gaussian_kde(xy_tf)(xy_tf)\n",
    "\n",
    "idx_tf = z_tf.argsort()\n",
    "x_tf = y[idx_tf]\n",
    "y_tf = predictions[idx_tf]\n",
    "z_tf = z_tf[idx_tf]\n",
    "\n",
    "rmse_tf = skl.metrics.mean_squared_error(x_tf, y_tf, squared=False)"
   ]
  },
  {
   "cell_type": "code",
   "execution_count": 97,
   "metadata": {},
   "outputs": [
    {
     "data": {
      "image/png": "[encoded data removed]",
      "text/plain": [
       "<Figure size 864x720 with 2 Axes>"
      ]
     },
     "metadata": {
      "needs_background": "light"
     },
     "output_type": "display_data"
    }
   ],
   "source": [
    "a_tf = np.linspace(0, outputMax, 1000)\n",
    "fig, ax = plt.subplots(1, 1, figsize=(12,10))\n",
    "\n",
    "fig1 = ax.scatter(x_tf, y_tf, c=z_tf)\n",
    "ax.plot(a_tf, a_tf, c='r')\n",
    "ax.set_xlabel('SL2P {}'.format(responseBand))\n",
    "ax.set_ylabel('LARS + NNET predicted {}'.format(outputName))\n",
    "plt.colorbar(mappable=fig1, ax=ax)\n",
    "\n",
    "ax.title.set_text('LASSO LARS {} PREDICTION               RMSE = {rmse:.3f}'.format(outputName, rmse=rmse_tf))\n",
    "\n",
    "# save plot as .png\n",
    "# fig.savefig('./plots/lars/'+siteSelect+'_'+outputName+'_lars.png')\n",
    "fig.savefig(siteSelect+'_'+outputName+'_lars.png')"
   ]
  },
  {
   "cell_type": "code",
   "execution_count": 98,
   "metadata": {},
   "outputs": [
    {
     "data": {
      "text/plain": [
       "[array([[ 0.21479459,  0.20538266,  0.87993944, -0.41178775,  0.18678193],\n",
       "        [ 0.1945152 ,  0.4824663 , -0.15088552,  0.02068748, -0.76831555],\n",
       "        [ 0.6356543 , -0.11979786, -0.21200757,  0.5838459 , -0.62289333],\n",
       "        [ 0.42911252,  0.1216407 , -0.68782115, -0.1354939 , -0.4398167 ],\n",
       "        [-0.6637708 ,  0.00751085,  0.7276354 ,  0.7226776 ,  0.5168644 ]],\n",
       "       dtype=float32),\n",
       " array([ 1.1076095 ,  0.60608584, -0.32487795,  0.12289363,  1.2367637 ],\n",
       "       dtype=float32),\n",
       " array([[ 0.7171687 , -0.23430379, -0.28117356,  1.1087229 ],\n",
       "        [ 0.27742097,  0.06677975, -1.0993694 , -0.20497596],\n",
       "        [-0.2528299 , -0.53029907,  0.2594554 ,  0.8410648 ],\n",
       "        [-0.80765074, -0.5271181 , -0.33466452,  0.25242853],\n",
       "        [ 1.440511  , -0.95380497, -0.3993717 ,  0.9495426 ]],\n",
       "       dtype=float32),\n",
       " array([ 0.27463466, -0.26276836, -0.6165566 , -0.13188834], dtype=float32),\n",
       " array([[0.7739014 , 1.6271486 , 0.55545074],\n",
       "        [0.86414564, 0.02820315, 1.7094374 ],\n",
       "        [1.0444129 , 1.1727095 , 0.8007541 ],\n",
       "        [0.92922467, 1.5503328 , 0.5372728 ]], dtype=float32),\n",
       " array([-0.21936268, -0.7467052 , -0.8688178 ], dtype=float32),\n",
       " array([[ 1.0548769 , -1.2121438 ],\n",
       "        [ 0.7279801 , -1.6887586 ],\n",
       "        [ 1.1305821 , -0.28880566]], dtype=float32),\n",
       " array([-0.5364286 ,  0.43134746], dtype=float32),\n",
       " array([[-1.86746  ],\n",
       "        [ 1.8978685]], dtype=float32),\n",
       " array([0.86225796], dtype=float32)]"
      ]
     },
     "execution_count": 98,
     "metadata": {},
     "output_type": "execute_result"
    }
   ],
   "source": [
    "model.get_weights()"
   ]
  },
  {
   "cell_type": "code",
   "execution_count": 99,
   "metadata": {},
   "outputs": [],
   "source": [
    "elu = np.vectorize(alr.elu)\n",
    "softplus = np.vectorize(alr.softplus)\n",
    "softsign = np.vectorize(alr.softsign)\n",
    "relu = np.vectorize(alr.relu)\n",
    "tanh = np.vectorize(alr.tanh)\n",
    "sigmoid = np.vectorize(alr.sigmoid)"
   ]
  },
  {
   "cell_type": "code",
   "execution_count": 100,
   "metadata": {},
   "outputs": [
    {
     "name": "stdout",
     "output_type": "stream",
     "text": [
      "3.4491587\n",
      "3.4491585077166995\n"
     ]
    }
   ],
   "source": [
    "row=X.shape[0]-1\n",
    "inputs = X.iloc[row, :].to_numpy()\n",
    "print(model.predict(inputs.reshape((-1,5)))[0][0])\n",
    "print(alr.apply_nnet(inputs, model)[0])"
   ]
  },
  {
   "cell_type": "code",
   "execution_count": 41,
   "metadata": {},
   "outputs": [],
   "source": [
    "# Writing the neural network to a CSV file to be uploaded to the server side on Google Earth Engine\n",
    "export_data = alr.export_nnet(model, X)\n",
    "with open('nnet.csv', 'w', newline='') as csvfile:\n",
    "    nnet_writer = csv.writer(csvfile)\n",
    "    for layerdata in export_data:\n",
    "        nnet_writer.writerow(layerdata)"
   ]
  },
  {
   "cell_type": "markdown",
   "metadata": {
    "tags": []
   },
   "source": [
    "# 2c – NNET (Tensorflow-Google Cloud)\n",
    "\n",
    "### This step is indepent of step 2b, a seperated step. "
   ]
  },
  {
   "cell_type": "code",
   "execution_count": 101,
   "metadata": {},
   "outputs": [
    {
     "name": "stdout",
     "output_type": "stream",
     "text": [
      "['estimateLAI', 'GI', 'SGI', 'GVI', 'NDVI3', 'NDVI', 'GNDVI', 'NDGI', 'EVI', 'EVI2', 'RDVI', 'MSR', 'MSAVI2', 'NLI', 'B2', 'B3', 'B4', 'B8', 'QA60', 'date', 'partition', 'networkID', 'errorLAI', 'partition_1', 'networkID_1']\n"
     ]
    }
   ],
   "source": [
    "# scale image responseBand for export (was multiplied by 1000 for previous steps, so rescale before proceeding)\n",
    "inputImage_tensor = inputImage.addBands(inputImage.select(responseBand).divide(1000), overwrite=True)\n",
    "print (inputImage_tensor.bandNames().getInfo())"
   ]
  },
  {
   "cell_type": "code",
   "execution_count": 102,
   "metadata": {},
   "outputs": [],
   "source": [
    "trimmedCollection2 = alr.trim_data(image=inputImage_tensor.updateMask(inputImage_tensor.select(responseBand).gt(0)),\n",
    "                                  selected_features=select_features,\n",
    "                                  response_band=responseBand,\n",
    "                                  num_samples=50000,\n",
    "                                  num_partitions=10)"
   ]
  },
  {
   "cell_type": "code",
   "execution_count": 103,
   "metadata": {},
   "outputs": [
    {
     "name": "stdout",
     "output_type": "stream",
     "text": [
      "['B4', 'EVI2', 'MSR', 'NDGI', 'RDVI', 'estimateLAI']\n"
     ]
    }
   ],
   "source": [
    "## get the sequence of feature names for later bands input correctly\n",
    "feat=trimmedCollection2.limit(3)\n",
    "tempfeat=feat.toList(3).get(0)\n",
    "indiceName=ee.Feature(tempfeat).toDictionary().keys().getInfo()\n",
    "print (indiceName)"
   ]
  },
  {
   "cell_type": "code",
   "execution_count": 108,
   "metadata": {},
   "outputs": [],
   "source": [
    "import tensorflow as tf\n",
    "# Training and testing dataset file names in the Cloud Storage bucket.\n",
    "TRAIN_FILE_PREFIX =siteSelect+'_'+outputName+ '_ALR_training'\n",
    "BUCKET = 'eealr'\n",
    "\n",
    "file_extension = '.tfrecord.gz'\n",
    "TRAIN_FILE_PATH = 'gs://' + BUCKET + '/' + TRAIN_FILE_PREFIX + file_extension\n",
    "# The labels, LAI float32, are stored in\n",
    "# this property, set on each point.\n",
    "LABEL = 'estimateLAI'\n",
    "\n",
    "# These names are used to specify properties in the export of training/testing\n",
    "# data and to define the mapping between names and data when reading from\n",
    "# the TFRecord file into a tf.data.Dataset.\n",
    "\n",
    "# BANDS=['EVI2', 'GVI','MSR', 'NDGI','RDVI']\n",
    "\n",
    "BANDS=indiceName[:-1]\n",
    "FEATURE_NAMES = list(BANDS)  \n",
    "FEATURE_NAMES.append(LABEL)\n",
    "\n",
    "# List of fixed-length features, all of which are float32.\n",
    "columns = [\n",
    "  tf.io.FixedLenFeature(shape=[1], dtype=tf.float32) for k in FEATURE_NAMES\n",
    "]\n",
    "\n",
    "# Dictionary with feature names as keys, fixed-length features as values.\n",
    "FEATURES_DICT = dict(zip(FEATURE_NAMES, columns))\n",
    "\n",
    "# Where to save the trained model.\n",
    "MODEL_DIR = 'gs://' + BUCKET +'/'+ siteSelect+'_'+outputName+'_ALR_model10'\n",
    "# Where to save the EEified model.\n",
    "EEIFIED_DIR = 'gs://' + BUCKET +'/'+siteSelect+'_'+outputName+'_ALR_eeified10'\n",
    "# Name of the AI Platform model to be hosted.\n",
    "MODEL_NAME = siteSelect+'_'+outputName+'_ALR_model'\n",
    "# Version of the AI Platform model to be hosted.\n",
    "VERSION_NAME = 'alrDNN1'\n",
    "\n",
    "# CLOUD PROJECT!\n",
    "PROJECT = 'ccmeo-ag-000008'\n",
    "# This is a good region for hosting AI models.\n",
    "REGION = 'northamerica-northeast1'"
   ]
  },
  {
   "cell_type": "code",
   "execution_count": 109,
   "metadata": {},
   "outputs": [],
   "source": [
    "train_task = ee.batch.Export.table.toCloudStorage(\n",
    "  collection = trimmedCollection2,\n",
    "  description = TRAIN_FILE_PREFIX,\n",
    "  bucket = BUCKET,\n",
    "  fileFormat = 'TFRecord'\n",
    ")"
   ]
  },
  {
   "cell_type": "code",
   "execution_count": 110,
   "metadata": {},
   "outputs": [],
   "source": [
    "train_task.start()"
   ]
  },
  {
   "cell_type": "code",
   "execution_count": 111,
   "metadata": {},
   "outputs": [],
   "source": [
    "def parse_tfrecord(example_proto):\n",
    "  \"\"\"The parsing function.\n",
    "\n",
    "  Read a serialized example into the structure defined by FEATURES_DICT.\n",
    "\n",
    "  Args:\n",
    "    example_proto: a serialized Example.\n",
    "\n",
    "  Returns:\n",
    "    A tuple of the predictors dictionary and the label, cast to an `float32`.\n",
    "  \"\"\"\n",
    "  parsed_features = tf.io.parse_single_example(example_proto, FEATURES_DICT)\n",
    "  labels = parsed_features.pop(LABEL)\n",
    "  return parsed_features, tf.cast(labels, tf.float32)\n",
    "\n",
    "\n",
    "def to_tuple(inputs, label):\n",
    "  \"\"\" Convert inputs to a tuple.\n",
    "\n",
    "  Note that the inputs must be a tuple of tensors in the right shape.\n",
    "\n",
    "  Args:\n",
    "    dict: a dictionary of tensors keyed by input name.\n",
    "    label: a tensor storing the response variable.\n",
    "\n",
    "  Returns:\n",
    "    A tuple of tensors: (predictors, label).\n",
    "  \"\"\"\n",
    "  # Values in the tensor are ordered by the list of predictors.\n",
    "  predictors = [inputs.get(k) for k in BANDS]\n",
    "  return (tf.expand_dims(tf.transpose(predictors), 1),\n",
    "          tf.expand_dims(tf.expand_dims(label, 1), 1)) "
   ]
  },
  {
   "cell_type": "code",
   "execution_count": 112,
   "metadata": {},
   "outputs": [],
   "source": [
    "# # Load datasets from the files.\n",
    "train_dataset = tf.data.TFRecordDataset(TRAIN_FILE_PATH, compression_type='GZIP')"
   ]
  },
  {
   "cell_type": "code",
   "execution_count": 113,
   "metadata": {},
   "outputs": [
    {
     "name": "stdout",
     "output_type": "stream",
     "text": [
      "(<tf.Tensor: shape=(8, 1, 1, 5), dtype=float32, numpy=\n",
      "array([[[[187.        ,   2.0747635 ,   3.1970196 ,   0.3212341 ,\n",
      "           52.66102   ]]],\n",
      "\n",
      "\n",
      "       [[[201.        ,   1.9842347 ,   2.7549305 ,   0.33443707,\n",
      "           47.793793  ]]],\n",
      "\n",
      "\n",
      "       [[[179.        ,   1.9869723 ,   2.7669542 ,   0.35842294,\n",
      "           45.27843   ]]],\n",
      "\n",
      "\n",
      "       [[[150.        ,   2.2078664 ,   4.171718  ,   0.42528737,\n",
      "           59.86338   ]]],\n",
      "\n",
      "\n",
      "       [[[188.        ,   2.1390555 ,   3.6022658 ,   0.37437603,\n",
      "           58.7529    ]]],\n",
      "\n",
      "\n",
      "       [[[204.        ,   2.042858  ,   3.0268705 ,   0.3419355 ,\n",
      "           52.377464  ]]],\n",
      "\n",
      "\n",
      "       [[[173.        ,   2.113203  ,   3.427972  ,   0.4003466 ,\n",
      "           53.912716  ]]],\n",
      "\n",
      "\n",
      "       [[[211.        ,   2.1346178 ,   3.5706668 ,   0.3997155 ,\n",
      "           61.753986  ]]]], dtype=float32)>,\n",
      " <tf.Tensor: shape=(8, 1, 1, 1), dtype=float32, numpy=\n",
      "array([[[[2.67 ]]],\n",
      "\n",
      "\n",
      "       [[[2.722]]],\n",
      "\n",
      "\n",
      "       [[[2.548]]],\n",
      "\n",
      "\n",
      "       [[[3.63 ]]],\n",
      "\n",
      "\n",
      "       [[[3.311]]],\n",
      "\n",
      "\n",
      "       [[[3.172]]],\n",
      "\n",
      "\n",
      "       [[[3.159]]],\n",
      "\n",
      "\n",
      "       [[[3.457]]]], dtype=float32)>)\n",
      "19210\n"
     ]
    }
   ],
   "source": [
    "# Compute the size of the shuffle buffer.  We can get away with this\n",
    "# because it's a small dataset, but watch out with larger datasets.\n",
    "train_size = 0\n",
    "for _ in iter(train_dataset):\n",
    "  train_size+=1\n",
    "\n",
    "batch_size = 8\n",
    "\n",
    "# Map the functions over the datasets to parse and convert to tuples.\n",
    "train_dataset = train_dataset.map(parse_tfrecord)\n",
    "train_dataset = train_dataset.map(to_tuple)\n",
    "train_dataset = train_dataset.shuffle(train_size).batch(batch_size)\n",
    "\n",
    "# Print the first parsed record to check.\n",
    "from pprint import pprint\n",
    "pprint(iter(train_dataset).next())\n",
    "\n",
    "print (train_size)"
   ]
  },
  {
   "cell_type": "code",
   "execution_count": 114,
   "metadata": {},
   "outputs": [
    {
     "name": "stdout",
     "output_type": "stream",
     "text": [
      "Epoch 1/100\n",
      "2402/2402 [==============================] - 15s 5ms/step - loss: 1.2120 - mse: 1.2120 - mae: 0.8722\n",
      "Epoch 2/100\n",
      "2402/2402 [==============================] - 13s 5ms/step - loss: 0.2098 - mse: 0.2098 - mae: 0.3188\n",
      "Epoch 3/100\n",
      "2402/2402 [==============================] - 13s 5ms/step - loss: 0.0421 - mse: 0.0421 - mae: 0.1635\n",
      "Epoch 4/100\n",
      "2402/2402 [==============================] - 13s 5ms/step - loss: 0.0409 - mse: 0.0409 - mae: 0.1617\n",
      "Epoch 5/100\n",
      "2402/2402 [==============================] - 13s 5ms/step - loss: 0.0406 - mse: 0.0406 - mae: 0.1610\n",
      "Epoch 6/100\n",
      "2402/2402 [==============================] - 13s 5ms/step - loss: 0.0401 - mse: 0.0401 - mae: 0.1601\n",
      "Epoch 7/100\n",
      "2402/2402 [==============================] - 13s 5ms/step - loss: 0.0398 - mse: 0.0398 - mae: 0.1595\n",
      "Epoch 8/100\n",
      "2402/2402 [==============================] - 13s 5ms/step - loss: 0.0395 - mse: 0.0395 - mae: 0.1589\n",
      "Epoch 9/100\n",
      "2402/2402 [==============================] - 13s 5ms/step - loss: 0.0392 - mse: 0.0392 - mae: 0.1582\n",
      "Epoch 10/100\n",
      "2402/2402 [==============================] - 13s 5ms/step - loss: 0.0387 - mse: 0.0387 - mae: 0.1574\n",
      "Epoch 11/100\n",
      "2402/2402 [==============================] - 13s 5ms/step - loss: 0.0386 - mse: 0.0386 - mae: 0.1569\n",
      "Epoch 12/100\n",
      "2402/2402 [==============================] - 13s 5ms/step - loss: 0.0383 - mse: 0.0383 - mae: 0.1563\n",
      "Epoch 13/100\n",
      "2402/2402 [==============================] - 13s 5ms/step - loss: 0.0381 - mse: 0.0381 - mae: 0.1558\n",
      "Epoch 14/100\n",
      "2402/2402 [==============================] - 13s 5ms/step - loss: 0.0377 - mse: 0.0377 - mae: 0.1550\n",
      "Epoch 15/100\n",
      "2402/2402 [==============================] - 13s 5ms/step - loss: 0.0375 - mse: 0.0375 - mae: 0.1546\n",
      "Epoch 16/100\n",
      "2402/2402 [==============================] - 13s 5ms/step - loss: 0.0370 - mse: 0.0370 - mae: 0.1535\n",
      "Epoch 17/100\n",
      "2402/2402 [==============================] - 14s 5ms/step - loss: 0.0369 - mse: 0.0369 - mae: 0.1533\n",
      "Epoch 18/100\n",
      "2402/2402 [==============================] - 13s 5ms/step - loss: 0.0367 - mse: 0.0367 - mae: 0.1526\n",
      "Epoch 19/100\n",
      "2402/2402 [==============================] - 13s 5ms/step - loss: 0.0366 - mse: 0.0366 - mae: 0.1525\n",
      "Epoch 20/100\n",
      "2402/2402 [==============================] - 14s 5ms/step - loss: 0.0363 - mse: 0.0363 - mae: 0.1519\n",
      "Epoch 21/100\n",
      "2402/2402 [==============================] - 13s 5ms/step - loss: 0.0363 - mse: 0.0363 - mae: 0.1517\n",
      "Epoch 22/100\n",
      "2402/2402 [==============================] - 14s 5ms/step - loss: 0.0362 - mse: 0.0362 - mae: 0.1517\n",
      "Epoch 23/100\n",
      "2402/2402 [==============================] - 13s 5ms/step - loss: 0.0362 - mse: 0.0362 - mae: 0.1515\n",
      "Epoch 24/100\n",
      "2402/2402 [==============================] - 13s 5ms/step - loss: 0.0362 - mse: 0.0362 - mae: 0.1518\n",
      "Epoch 25/100\n",
      "2402/2402 [==============================] - 14s 5ms/step - loss: 0.0361 - mse: 0.0361 - mae: 0.1515\n",
      "Epoch 26/100\n",
      "2402/2402 [==============================] - 13s 5ms/step - loss: 0.0359 - mse: 0.0359 - mae: 0.1508\n",
      "Epoch 27/100\n",
      "2402/2402 [==============================] - 14s 5ms/step - loss: 0.0358 - mse: 0.0358 - mae: 0.1507\n",
      "Epoch 28/100\n",
      "2402/2402 [==============================] - 13s 5ms/step - loss: 0.0358 - mse: 0.0358 - mae: 0.1511\n",
      "Epoch 29/100\n",
      "2402/2402 [==============================] - 14s 5ms/step - loss: 0.0358 - mse: 0.0358 - mae: 0.1507\n",
      "Epoch 30/100\n",
      "2402/2402 [==============================] - 14s 5ms/step - loss: 0.0357 - mse: 0.0357 - mae: 0.1506\n",
      "Epoch 31/100\n",
      "2402/2402 [==============================] - 14s 5ms/step - loss: 0.0358 - mse: 0.0358 - mae: 0.1509\n",
      "Epoch 32/100\n",
      "2402/2402 [==============================] - 14s 5ms/step - loss: 0.0357 - mse: 0.0357 - mae: 0.1507\n",
      "Epoch 33/100\n",
      "2402/2402 [==============================] - 13s 5ms/step - loss: 0.0358 - mse: 0.0358 - mae: 0.1509\n",
      "Epoch 34/100\n",
      "2402/2402 [==============================] - 13s 5ms/step - loss: 0.0356 - mse: 0.0356 - mae: 0.1505\n",
      "Epoch 35/100\n",
      "2402/2402 [==============================] - 14s 5ms/step - loss: 0.0357 - mse: 0.0357 - mae: 0.1505\n",
      "Epoch 36/100\n",
      "2402/2402 [==============================] - 13s 5ms/step - loss: 0.0356 - mse: 0.0356 - mae: 0.1507\n",
      "Epoch 37/100\n",
      "2402/2402 [==============================] - 14s 5ms/step - loss: 0.0356 - mse: 0.0356 - mae: 0.1501\n",
      "Epoch 38/100\n",
      "2402/2402 [==============================] - 14s 5ms/step - loss: 0.0356 - mse: 0.0356 - mae: 0.1505\n",
      "Epoch 39/100\n",
      "2402/2402 [==============================] - 13s 5ms/step - loss: 0.0355 - mse: 0.0355 - mae: 0.1504\n",
      "Epoch 40/100\n",
      "2402/2402 [==============================] - 14s 5ms/step - loss: 0.0354 - mse: 0.0354 - mae: 0.1499\n",
      "Epoch 41/100\n",
      "2402/2402 [==============================] - 14s 5ms/step - loss: 0.0356 - mse: 0.0356 - mae: 0.1503\n",
      "Epoch 42/100\n",
      "2402/2402 [==============================] - 14s 5ms/step - loss: 0.0355 - mse: 0.0355 - mae: 0.1501\n",
      "Epoch 43/100\n",
      "2402/2402 [==============================] - 14s 5ms/step - loss: 0.0357 - mse: 0.0357 - mae: 0.1503\n",
      "Epoch 44/100\n",
      "2402/2402 [==============================] - 14s 5ms/step - loss: 0.0354 - mse: 0.0354 - mae: 0.1503\n",
      "Epoch 45/100\n",
      "2402/2402 [==============================] - 14s 5ms/step - loss: 0.0354 - mse: 0.0354 - mae: 0.1500\n",
      "Epoch 46/100\n",
      "2402/2402 [==============================] - 14s 5ms/step - loss: 0.0356 - mse: 0.0356 - mae: 0.1503\n",
      "Epoch 47/100\n",
      "2402/2402 [==============================] - 14s 5ms/step - loss: 0.0354 - mse: 0.0354 - mae: 0.1498\n",
      "Epoch 48/100\n",
      "2402/2402 [==============================] - 14s 5ms/step - loss: 0.0355 - mse: 0.0355 - mae: 0.1500\n",
      "Epoch 49/100\n",
      "2402/2402 [==============================] - 14s 5ms/step - loss: 0.0353 - mse: 0.0353 - mae: 0.1498\n",
      "Epoch 50/100\n",
      "2402/2402 [==============================] - 14s 5ms/step - loss: 0.0353 - mse: 0.0353 - mae: 0.1498\n",
      "Epoch 51/100\n",
      "2402/2402 [==============================] - 14s 5ms/step - loss: 0.0353 - mse: 0.0353 - mae: 0.1498\n",
      "Epoch 52/100\n",
      "2402/2402 [==============================] - 14s 5ms/step - loss: 0.0352 - mse: 0.0352 - mae: 0.1497\n",
      "Epoch 53/100\n",
      "2402/2402 [==============================] - 14s 5ms/step - loss: 0.0354 - mse: 0.0354 - mae: 0.1501\n",
      "Epoch 54/100\n",
      "2402/2402 [==============================] - 13s 5ms/step - loss: 0.0353 - mse: 0.0353 - mae: 0.1500\n",
      "Epoch 55/100\n",
      "2402/2402 [==============================] - 14s 5ms/step - loss: 0.0353 - mse: 0.0353 - mae: 0.1496\n",
      "Epoch 56/100\n",
      "2402/2402 [==============================] - 14s 6ms/step - loss: 0.0351 - mse: 0.0351 - mae: 0.1493\n",
      "Epoch 57/100\n",
      "2402/2402 [==============================] - 14s 5ms/step - loss: 0.0352 - mse: 0.0352 - mae: 0.1496\n",
      "Epoch 58/100\n",
      "2402/2402 [==============================] - 14s 5ms/step - loss: 0.0354 - mse: 0.0354 - mae: 0.1500\n",
      "Epoch 59/100\n",
      "2402/2402 [==============================] - 14s 6ms/step - loss: 0.0352 - mse: 0.0352 - mae: 0.1497\n",
      "Epoch 60/100\n",
      "2402/2402 [==============================] - 14s 5ms/step - loss: 0.0352 - mse: 0.0352 - mae: 0.1495\n",
      "Epoch 61/100\n",
      "2402/2402 [==============================] - 14s 5ms/step - loss: 0.0351 - mse: 0.0351 - mae: 0.1494\n",
      "Epoch 62/100\n",
      "2402/2402 [==============================] - 14s 5ms/step - loss: 0.0352 - mse: 0.0352 - mae: 0.1498\n",
      "Epoch 63/100\n",
      "2402/2402 [==============================] - 14s 5ms/step - loss: 0.0350 - mse: 0.0350 - mae: 0.1490\n",
      "Epoch 64/100\n",
      "2402/2402 [==============================] - 13s 5ms/step - loss: 0.0353 - mse: 0.0353 - mae: 0.1499\n",
      "Epoch 65/100\n",
      "2402/2402 [==============================] - 13s 5ms/step - loss: 0.0351 - mse: 0.0351 - mae: 0.1491\n",
      "Epoch 66/100\n",
      "2402/2402 [==============================] - 14s 6ms/step - loss: 0.0352 - mse: 0.0352 - mae: 0.1496\n",
      "Epoch 67/100\n",
      "2402/2402 [==============================] - 14s 5ms/step - loss: 0.0350 - mse: 0.0350 - mae: 0.1494\n",
      "Epoch 68/100\n",
      "2402/2402 [==============================] - 14s 5ms/step - loss: 0.0351 - mse: 0.0351 - mae: 0.1495\n",
      "Epoch 69/100\n",
      "2402/2402 [==============================] - 14s 5ms/step - loss: 0.0351 - mse: 0.0351 - mae: 0.1492\n",
      "Epoch 70/100\n",
      "2402/2402 [==============================] - 14s 5ms/step - loss: 0.0351 - mse: 0.0351 - mae: 0.1494\n",
      "Epoch 71/100\n",
      "2402/2402 [==============================] - 14s 5ms/step - loss: 0.0351 - mse: 0.0351 - mae: 0.1493\n",
      "Epoch 72/100\n",
      "2402/2402 [==============================] - 14s 5ms/step - loss: 0.0349 - mse: 0.0349 - mae: 0.1489\n",
      "Epoch 73/100\n",
      "2402/2402 [==============================] - 14s 5ms/step - loss: 0.0350 - mse: 0.0350 - mae: 0.1492\n",
      "Epoch 74/100\n",
      "2402/2402 [==============================] - 14s 5ms/step - loss: 0.0351 - mse: 0.0351 - mae: 0.1491\n",
      "Epoch 75/100\n",
      "2402/2402 [==============================] - 14s 5ms/step - loss: 0.0350 - mse: 0.0350 - mae: 0.1492\n",
      "Epoch 76/100\n",
      "2402/2402 [==============================] - 14s 5ms/step - loss: 0.0351 - mse: 0.0351 - mae: 0.1492\n",
      "Epoch 77/100\n",
      "2402/2402 [==============================] - 14s 5ms/step - loss: 0.0350 - mse: 0.0350 - mae: 0.1491\n",
      "Epoch 78/100\n",
      "2402/2402 [==============================] - 14s 5ms/step - loss: 0.0350 - mse: 0.0350 - mae: 0.1490\n",
      "Epoch 79/100\n",
      "2402/2402 [==============================] - 14s 5ms/step - loss: 0.0350 - mse: 0.0350 - mae: 0.1491\n",
      "Epoch 80/100\n",
      "2402/2402 [==============================] - 14s 5ms/step - loss: 0.0350 - mse: 0.0350 - mae: 0.1493\n",
      "Epoch 81/100\n",
      "2402/2402 [==============================] - 14s 5ms/step - loss: 0.0350 - mse: 0.0350 - mae: 0.1491\n",
      "Epoch 82/100\n",
      "2402/2402 [==============================] - 14s 5ms/step - loss: 0.0349 - mse: 0.0349 - mae: 0.1490\n",
      "Epoch 83/100\n",
      "2402/2402 [==============================] - 14s 5ms/step - loss: 0.0349 - mse: 0.0349 - mae: 0.1493\n",
      "Epoch 84/100\n",
      "2402/2402 [==============================] - 14s 5ms/step - loss: 0.0349 - mse: 0.0349 - mae: 0.1490\n",
      "Epoch 85/100\n",
      "2402/2402 [==============================] - 14s 5ms/step - loss: 0.0350 - mse: 0.0350 - mae: 0.1492\n",
      "Epoch 86/100\n",
      "2402/2402 [==============================] - 14s 5ms/step - loss: 0.0349 - mse: 0.0349 - mae: 0.1489\n",
      "Epoch 87/100\n",
      "2402/2402 [==============================] - 14s 5ms/step - loss: 0.0348 - mse: 0.0348 - mae: 0.1488\n",
      "Epoch 88/100\n",
      "2402/2402 [==============================] - 14s 5ms/step - loss: 0.0352 - mse: 0.0352 - mae: 0.1497\n",
      "Epoch 89/100\n",
      "2402/2402 [==============================] - 14s 5ms/step - loss: 0.0349 - mse: 0.0349 - mae: 0.1489\n",
      "Epoch 90/100\n",
      "2402/2402 [==============================] - 14s 5ms/step - loss: 0.0349 - mse: 0.0349 - mae: 0.1489\n",
      "Epoch 91/100\n",
      "2402/2402 [==============================] - 14s 5ms/step - loss: 0.0350 - mse: 0.0350 - mae: 0.1490\n",
      "Epoch 92/100\n",
      "2402/2402 [==============================] - 14s 5ms/step - loss: 0.0348 - mse: 0.0348 - mae: 0.1489\n",
      "Epoch 93/100\n",
      "2402/2402 [==============================] - 14s 5ms/step - loss: 0.0348 - mse: 0.0348 - mae: 0.1489\n",
      "Epoch 94/100\n",
      "2402/2402 [==============================] - 13s 5ms/step - loss: 0.0348 - mse: 0.0348 - mae: 0.1487\n",
      "Epoch 95/100\n",
      "2402/2402 [==============================] - 14s 5ms/step - loss: 0.0349 - mse: 0.0349 - mae: 0.1489\n",
      "Epoch 96/100\n",
      "2402/2402 [==============================] - 14s 5ms/step - loss: 0.0349 - mse: 0.0349 - mae: 0.1490\n",
      "Epoch 97/100\n",
      "2402/2402 [==============================] - 14s 5ms/step - loss: 0.0349 - mse: 0.0349 - mae: 0.1489\n",
      "Epoch 98/100\n",
      "2402/2402 [==============================] - 13s 5ms/step - loss: 0.0347 - mse: 0.0347 - mae: 0.1485\n",
      "Epoch 99/100\n",
      "2402/2402 [==============================] - 13s 5ms/step - loss: 0.0348 - mse: 0.0348 - mae: 0.1489\n",
      "Epoch 100/100\n",
      "2402/2402 [==============================] - 13s 5ms/step - loss: 0.0348 - mse: 0.0348 - mae: 0.1488\n",
      "--- 1640.2548379898071 seconds ---\n"
     ]
    }
   ],
   "source": [
    "# import time\n",
    "from tensorflow import keras\n",
    "\n",
    "### record the start time\n",
    "start_time = time.time()\n",
    "\n",
    "model = tf.keras.models.Sequential([ \n",
    "        # tf.keras.layers.Input((1, 1, len(BANDS))),\n",
    "        # tf.keras.layers.Dense(5),\n",
    "        tf.keras.layers.Dense(5, input_shape=(1, 1, len(BANDS))),\n",
    "        # tf.keras.layers.Dense(5, input_shape=([None, None, len(BANDS)])),\n",
    "        tf.keras.layers.LayerNormalization(),\n",
    "        tf.keras.layers.Dense(4, activation=\"softsign\"),\n",
    "        tf.keras.layers.Dense(3, activation=\"softsign\"),\n",
    "        tf.keras.layers.Dense(2, activation=\"softsign\"),\n",
    "        tf.keras.layers.Dense(1)\n",
    "    ])\n",
    "\n",
    "model.compile(optimizer=tf.keras.optimizers.Nadam(), loss='mse', metrics=['mse', 'mae'])\n",
    "\n",
    "# Fitting the model to our trimmed data\n",
    "model.fit(x=train_dataset, \n",
    "           epochs=100,            \n",
    "           verbose=1)\n",
    "### check the time used\n",
    "print(\"--- %s seconds ---\" % (time.time() - start_time))"
   ]
  },
  {
   "cell_type": "code",
   "execution_count": 115,
   "metadata": {},
   "outputs": [
    {
     "name": "stdout",
     "output_type": "stream",
     "text": [
      "Model: \"sequential_2\"\n",
      "_________________________________________________________________\n",
      " Layer (type)                Output Shape              Param #   \n",
      "=================================================================\n",
      " dense_10 (Dense)            (None, 1, 1, 5)           30        \n",
      "                                                                 \n",
      " layer_normalization_1 (Laye  (None, 1, 1, 5)          10        \n",
      " rNormalization)                                                 \n",
      "                                                                 \n",
      " dense_11 (Dense)            (None, 1, 1, 4)           24        \n",
      "                                                                 \n",
      " dense_12 (Dense)            (None, 1, 1, 3)           15        \n",
      "                                                                 \n",
      " dense_13 (Dense)            (None, 1, 1, 2)           8         \n",
      "                                                                 \n",
      " dense_14 (Dense)            (None, 1, 1, 1)           3         \n",
      "                                                                 \n",
      "=================================================================\n",
      "Total params: 90\n",
      "Trainable params: 90\n",
      "Non-trainable params: 0\n",
      "_________________________________________________________________\n"
     ]
    }
   ],
   "source": [
    "model.summary()"
   ]
  },
  {
   "cell_type": "code",
   "execution_count": 116,
   "metadata": {},
   "outputs": [
    {
     "name": "stdout",
     "output_type": "stream",
     "text": [
      "INFO:tensorflow:Assets written to: gs://eealr/Kouchibouguac_LAI_ALR_model10/assets\n"
     ]
    }
   ],
   "source": [
    "model.save(MODEL_DIR, save_format='tf')"
   ]
  },
  {
   "cell_type": "code",
   "execution_count": 117,
   "metadata": {},
   "outputs": [
    {
     "name": "stdout",
     "output_type": "stream",
     "text": [
      "'{\"serving_default_dense_10_input:0\": \"array\"}'\n",
      "'{\"StatefulPartitionedCall:0\": \"estimateLAI\"}'\n"
     ]
    }
   ],
   "source": [
    "from tensorflow.python.tools import saved_model_utils\n",
    "\n",
    "meta_graph_def = saved_model_utils.get_meta_graph_def(MODEL_DIR, 'serve')\n",
    "inputs = meta_graph_def.signature_def['serving_default'].inputs\n",
    "outputs = meta_graph_def.signature_def['serving_default'].outputs\n",
    "\n",
    "# Just get the first thing(s) from the serving signature def.  i.e. this\n",
    "# model only has a single input and a single output.\n",
    "input_name = None\n",
    "for k,v in inputs.items():\n",
    "  input_name = v.name\n",
    "  break\n",
    "\n",
    "output_name = None\n",
    "for k,v in outputs.items():\n",
    "  output_name = v.name\n",
    "  break\n",
    "\n",
    "# Make a dictionary that maps Earth Engine outputs and inputs to \n",
    "# AI Platform inputs and outputs, respectively.\n",
    "import json\n",
    "input_dict = \"'\" + json.dumps({input_name: \"array\"}) + \"'\"\n",
    "output_dict = \"'\" + json.dumps({output_name: \"estimateLAI\"}) + \"'\"\n",
    "print(input_dict)\n",
    "print(output_dict)"
   ]
  },
  {
   "cell_type": "code",
   "execution_count": 118,
   "metadata": {},
   "outputs": [
    {
     "name": "stdout",
     "output_type": "stream",
     "text": [
      "Successfully saved project id\n",
      "Success: model at 'gs://eealr/Kouchibouguac_LAI_ALR_eeified10' is ready to be hosted in AI Platform.\n"
     ]
    }
   ],
   "source": [
    "!earthengine set_project {PROJECT}\n",
    "!earthengine model prepare --source_dir {MODEL_DIR} --dest_dir {EEIFIED_DIR} --input {input_dict} --output {output_dict}"
   ]
  },
  {
   "cell_type": "code",
   "execution_count": 119,
   "metadata": {},
   "outputs": [
    {
     "name": "stdout",
     "output_type": "stream",
     "text": [
      "Using endpoint [https://northamerica-northeast1-ml.googleapis.com/]\n",
      "Created ai platform model [projects/ccmeo-ag-000008/models/Kouchibouguac_LAI_ALR_model].\n",
      "Using endpoint [https://northamerica-northeast1-ml.googleapis.com/]\n",
      "Creating version (this might take a few minutes)......done.                    \n"
     ]
    }
   ],
   "source": [
    "!gcloud ai-platform models create {MODEL_NAME} \\\n",
    "  --project {PROJECT} \\\n",
    "  --region {REGION}\n",
    "\n",
    "!gcloud ai-platform versions create {VERSION_NAME} \\\n",
    "  --project {PROJECT} \\\n",
    "  --region {REGION} \\\n",
    "  --model {MODEL_NAME} \\\n",
    "  --origin {EEIFIED_DIR} \\\n",
    "  --framework \"TENSORFLOW\" \\\n",
    "  --runtime-version=2.7 \\\n",
    "  --python-version=3.7"
   ]
  },
  {
   "cell_type": "markdown",
   "metadata": {},
   "source": [
    "# Connect to the hosted model from Earth Engine\n",
    "Now that the model is hosted on AI Platform, point Earth Engine to it and make predictions. "
   ]
  },
  {
   "cell_type": "code",
   "execution_count": 120,
   "metadata": {},
   "outputs": [
    {
     "name": "stdout",
     "output_type": "stream",
     "text": [
      "EPSG:32620\n"
     ]
    }
   ],
   "source": [
    "proj =inputImage.select(responseBand).projection();\n",
    "# print (proj.getInfo())\n",
    "print (proj.crs().getInfo())"
   ]
  },
  {
   "cell_type": "code",
   "execution_count": 121,
   "metadata": {},
   "outputs": [],
   "source": [
    "# Turn into an array image for input to the model.\n",
    "# EVI2\tGVI\tMSR\tNDGI\tRDVI\n",
    "# array_image = inputImage.select(select_features).float().toArray()\n",
    "# array_image = inputImage.select('EVI2','GVI','MSR','NDGI','RDVI').float().toArray()\n",
    "array_image = inputImage.select(BANDS).unmask(0).float().toArray()"
   ]
  },
  {
   "cell_type": "code",
   "execution_count": 122,
   "metadata": {},
   "outputs": [],
   "source": [
    "# Point to the model hosted on AI Platform.  If you specified a region other\n",
    "# than the default (us-central1) at model creation, specify it here.\n",
    "model = ee.Model.fromAiPlatformPredictor(\n",
    "    projectName=PROJECT,\n",
    "    modelName=MODEL_NAME,\n",
    "    version=VERSION_NAME,\n",
    "    region=REGION,\n",
    "    # Can be anything, but don't make it too big.\n",
    "    inputTileSize=[8,8],\n",
    "    # Keep this the same as your training data, very important step.    \n",
    "    # proj=ee.Projection('EPSG:32620').atScale(10),\n",
    "    proj=ee.Projection(proj.crs().getInfo()).atScale(10),\n",
    "    fixInputProj=True,\n",
    "    # Note the names here need to match what you specified in the\n",
    "    # output dictionary you passed to the EEifier.\n",
    "    outputBands={'tf_'+responseBand: {\n",
    "        'type': ee.PixelType.float(),\n",
    "        'dimensions': 1\n",
    "      }\n",
    "    },\n",
    ")"
   ]
  },
  {
   "cell_type": "code",
   "execution_count": 123,
   "metadata": {},
   "outputs": [],
   "source": [
    "# Output prediction\n",
    "# get the input data mask for later to mask the output\n",
    "mask=inputImage.select(responseBand).mask();\n",
    "#mask the output\n",
    "predictions = model.predictImage(array_image).arrayGet([0]).updateMask(mask)\n",
    "# print (predictions.getInfo())"
   ]
  },
  {
   "cell_type": "code",
   "execution_count": 124,
   "metadata": {},
   "outputs": [
    {
     "data": {
      "text/html": [
       "<div style=\"width:100%;\"><div style=\"position:relative;width:100%;height:0;padding-bottom:60%;\"><span style=\"color:#565656\">Make this Notebook Trusted to load map: File -> Trust Notebook</span><iframe src=\"about:blank\" style=\"position:absolute;width:100%;height:100%;left:0;top:0;border:none !important;\" data-html=%3C%21DOCTYPE%20html%3E%0A%3Chead%3E%20%20%20%20%0A%20%20%20%20%3Cmeta%20http-equiv%3D%22content-type%22%20content%3D%22text/html%3B%20charset%3DUTF-8%22%20/%3E%0A%20%20%20%20%0A%20%20%20%20%20%20%20%20%3Cscript%3E%0A%20%20%20%20%20%20%20%20%20%20%20%20L_NO_TOUCH%20%3D%20false%3B%0A%20%20%20%20%20%20%20%20%20%20%20%20L_DISABLE_3D%20%3D%20false%3B%0A%20%20%20%20%20%20%20%20%3C/script%3E%0A%20%20%20%20%0A%20%20%20%20%3Cstyle%3Ehtml%2C%20body%20%7Bwidth%3A%20100%25%3Bheight%3A%20100%25%3Bmargin%3A%200%3Bpadding%3A%200%3B%7D%3C/style%3E%0A%20%20%20%20%3Cstyle%3E%23map%20%7Bposition%3Aabsolute%3Btop%3A0%3Bbottom%3A0%3Bright%3A0%3Bleft%3A0%3B%7D%3C/style%3E%0A%20%20%20%20%3Cscript%20src%3D%22https%3A//cdn.jsdelivr.net/npm/leaflet%401.6.0/dist/leaflet.js%22%3E%3C/script%3E%0A%20%20%20%20%3Cscript%20src%3D%22https%3A//code.jquery.com/jquery-1.12.4.min.js%22%3E%3C/script%3E%0A%20%20%20%20%3Cscript%20src%3D%22https%3A//maxcdn.bootstrapcdn.com/bootstrap/3.2.0/js/bootstrap.min.js%22%3E%3C/script%3E%0A%20%20%20%20%3Cscript%20src%3D%22https%3A//cdnjs.cloudflare.com/ajax/libs/Leaflet.awesome-markers/2.0.2/leaflet.awesome-markers.js%22%3E%3C/script%3E%0A%20%20%20%20%3Clink%20rel%3D%22stylesheet%22%20href%3D%22https%3A//cdn.jsdelivr.net/npm/leaflet%401.6.0/dist/leaflet.css%22/%3E%0A%20%20%20%20%3Clink%20rel%3D%22stylesheet%22%20href%3D%22https%3A//maxcdn.bootstrapcdn.com/bootstrap/3.2.0/css/bootstrap.min.css%22/%3E%0A%20%20%20%20%3Clink%20rel%3D%22stylesheet%22%20href%3D%22https%3A//maxcdn.bootstrapcdn.com/bootstrap/3.2.0/css/bootstrap-theme.min.css%22/%3E%0A%20%20%20%20%3Clink%20rel%3D%22stylesheet%22%20href%3D%22https%3A//maxcdn.bootstrapcdn.com/font-awesome/4.6.3/css/font-awesome.min.css%22/%3E%0A%20%20%20%20%3Clink%20rel%3D%22stylesheet%22%20href%3D%22https%3A//cdnjs.cloudflare.com/ajax/libs/Leaflet.awesome-markers/2.0.2/leaflet.awesome-markers.css%22/%3E%0A%20%20%20%20%3Clink%20rel%3D%22stylesheet%22%20href%3D%22https%3A//cdn.jsdelivr.net/gh/python-visualization/folium/folium/templates/leaflet.awesome.rotate.min.css%22/%3E%0A%20%20%20%20%0A%20%20%20%20%20%20%20%20%20%20%20%20%3Cmeta%20name%3D%22viewport%22%20content%3D%22width%3Ddevice-width%2C%0A%20%20%20%20%20%20%20%20%20%20%20%20%20%20%20%20initial-scale%3D1.0%2C%20maximum-scale%3D1.0%2C%20user-scalable%3Dno%22%20/%3E%0A%20%20%20%20%20%20%20%20%20%20%20%20%3Cstyle%3E%0A%20%20%20%20%20%20%20%20%20%20%20%20%20%20%20%20%23map_2d096702c1a340f1af422e492b5351ad%20%7B%0A%20%20%20%20%20%20%20%20%20%20%20%20%20%20%20%20%20%20%20%20position%3A%20relative%3B%0A%20%20%20%20%20%20%20%20%20%20%20%20%20%20%20%20%20%20%20%20width%3A%20100.0%25%3B%0A%20%20%20%20%20%20%20%20%20%20%20%20%20%20%20%20%20%20%20%20height%3A%20100.0%25%3B%0A%20%20%20%20%20%20%20%20%20%20%20%20%20%20%20%20%20%20%20%20left%3A%200.0%25%3B%0A%20%20%20%20%20%20%20%20%20%20%20%20%20%20%20%20%20%20%20%20top%3A%200.0%25%3B%0A%20%20%20%20%20%20%20%20%20%20%20%20%20%20%20%20%7D%0A%20%20%20%20%20%20%20%20%20%20%20%20%3C/style%3E%0A%20%20%20%20%20%20%20%20%0A%3C/head%3E%0A%3Cbody%3E%20%20%20%20%0A%20%20%20%20%0A%20%20%20%20%20%20%20%20%20%20%20%20%3Cdiv%20class%3D%22folium-map%22%20id%3D%22map_2d096702c1a340f1af422e492b5351ad%22%20%3E%3C/div%3E%0A%20%20%20%20%20%20%20%20%0A%3C/body%3E%0A%3Cscript%3E%20%20%20%20%0A%20%20%20%20%0A%20%20%20%20%20%20%20%20%20%20%20%20var%20map_2d096702c1a340f1af422e492b5351ad%20%3D%20L.map%28%0A%20%20%20%20%20%20%20%20%20%20%20%20%20%20%20%20%22map_2d096702c1a340f1af422e492b5351ad%22%2C%0A%20%20%20%20%20%20%20%20%20%20%20%20%20%20%20%20%7B%0A%20%20%20%20%20%20%20%20%20%20%20%20%20%20%20%20%20%20%20%20center%3A%20%5B50.0%2C%20-87.0%5D%2C%0A%20%20%20%20%20%20%20%20%20%20%20%20%20%20%20%20%20%20%20%20crs%3A%20L.CRS.EPSG3857%2C%0A%20%20%20%20%20%20%20%20%20%20%20%20%20%20%20%20%20%20%20%20zoom%3A%2011%2C%0A%20%20%20%20%20%20%20%20%20%20%20%20%20%20%20%20%20%20%20%20zoomControl%3A%20true%2C%0A%20%20%20%20%20%20%20%20%20%20%20%20%20%20%20%20%20%20%20%20preferCanvas%3A%20false%2C%0A%20%20%20%20%20%20%20%20%20%20%20%20%20%20%20%20%7D%0A%20%20%20%20%20%20%20%20%20%20%20%20%29%3B%0A%0A%20%20%20%20%20%20%20%20%20%20%20%20%0A%0A%20%20%20%20%20%20%20%20%0A%20%20%20%20%0A%20%20%20%20%20%20%20%20%20%20%20%20var%20tile_layer_7eff3882213c4704b92f4145a3f07af4%20%3D%20L.tileLayer%28%0A%20%20%20%20%20%20%20%20%20%20%20%20%20%20%20%20%22https%3A//%7Bs%7D.tile.openstreetmap.org/%7Bz%7D/%7Bx%7D/%7By%7D.png%22%2C%0A%20%20%20%20%20%20%20%20%20%20%20%20%20%20%20%20%7B%22attribution%22%3A%20%22Data%20by%20%5Cu0026copy%3B%20%5Cu003ca%20href%3D%5C%22http%3A//openstreetmap.org%5C%22%5Cu003eOpenStreetMap%5Cu003c/a%5Cu003e%2C%20under%20%5Cu003ca%20href%3D%5C%22http%3A//www.openstreetmap.org/copyright%5C%22%5Cu003eODbL%5Cu003c/a%5Cu003e.%22%2C%20%22detectRetina%22%3A%20false%2C%20%22maxNativeZoom%22%3A%2018%2C%20%22maxZoom%22%3A%2018%2C%20%22minZoom%22%3A%200%2C%20%22noWrap%22%3A%20false%2C%20%22opacity%22%3A%201%2C%20%22subdomains%22%3A%20%22abc%22%2C%20%22tms%22%3A%20false%7D%0A%20%20%20%20%20%20%20%20%20%20%20%20%29.addTo%28map_2d096702c1a340f1af422e492b5351ad%29%3B%0A%20%20%20%20%20%20%20%20%0A%20%20%20%20%0A%20%20%20%20%20%20%20%20%20%20%20%20var%20tile_layer_5e43862fe8a2406da54cf2bfdc206564%20%3D%20L.tileLayer%28%0A%20%20%20%20%20%20%20%20%20%20%20%20%20%20%20%20%22https%3A//earthengine.googleapis.com/v1alpha/projects/earthengine-legacy/maps/a4ec3f22f9cdd7da7824221b0bba3e6c-ab39f331d88de4e555ce9b906764f388/tiles/%7Bz%7D/%7Bx%7D/%7By%7D%22%2C%0A%20%20%20%20%20%20%20%20%20%20%20%20%20%20%20%20%7B%22attribution%22%3A%20%22Map%20Data%20%5Cu0026copy%3B%20%5Cu003ca%20href%3D%5C%22https%3A//earthengine.google.com/%5C%22%5Cu003eGoogle%20Earth%20Engine%5Cu003c/a%5Cu003e%22%2C%20%22detectRetina%22%3A%20false%2C%20%22maxNativeZoom%22%3A%2018%2C%20%22maxZoom%22%3A%2018%2C%20%22minZoom%22%3A%200%2C%20%22noWrap%22%3A%20false%2C%20%22opacity%22%3A%201%2C%20%22subdomains%22%3A%20%22abc%22%2C%20%22tms%22%3A%20false%7D%0A%20%20%20%20%20%20%20%20%20%20%20%20%29.addTo%28map_2d096702c1a340f1af422e492b5351ad%29%3B%0A%20%20%20%20%20%20%20%20%0A%20%20%20%20%0A%20%20%20%20%20%20%20%20%20%20%20%20var%20layer_control_1ecbd110a7f84a1ba6f0f8912a3825d8%20%3D%20%7B%0A%20%20%20%20%20%20%20%20%20%20%20%20%20%20%20%20base_layers%20%3A%20%7B%0A%20%20%20%20%20%20%20%20%20%20%20%20%20%20%20%20%20%20%20%20%22openstreetmap%22%20%3A%20tile_layer_7eff3882213c4704b92f4145a3f07af4%2C%0A%20%20%20%20%20%20%20%20%20%20%20%20%20%20%20%20%7D%2C%0A%20%20%20%20%20%20%20%20%20%20%20%20%20%20%20%20overlays%20%3A%20%20%7B%0A%20%20%20%20%20%20%20%20%20%20%20%20%20%20%20%20%20%20%20%20%22LAI%22%20%3A%20tile_layer_5e43862fe8a2406da54cf2bfdc206564%2C%0A%20%20%20%20%20%20%20%20%20%20%20%20%20%20%20%20%7D%2C%0A%20%20%20%20%20%20%20%20%20%20%20%20%7D%3B%0A%20%20%20%20%20%20%20%20%20%20%20%20L.control.layers%28%0A%20%20%20%20%20%20%20%20%20%20%20%20%20%20%20%20layer_control_1ecbd110a7f84a1ba6f0f8912a3825d8.base_layers%2C%0A%20%20%20%20%20%20%20%20%20%20%20%20%20%20%20%20layer_control_1ecbd110a7f84a1ba6f0f8912a3825d8.overlays%2C%0A%20%20%20%20%20%20%20%20%20%20%20%20%20%20%20%20%7B%22autoZIndex%22%3A%20true%2C%20%22collapsed%22%3A%20true%2C%20%22position%22%3A%20%22topright%22%7D%0A%20%20%20%20%20%20%20%20%20%20%20%20%29.addTo%28map_2d096702c1a340f1af422e492b5351ad%29%3B%0A%20%20%20%20%20%20%20%20%0A%3C/script%3E onload=\"this.contentDocument.open();this.contentDocument.write(    decodeURIComponent(this.getAttribute('data-html')));this.contentDocument.close();\" allowfullscreen webkitallowfullscreen mozallowfullscreen></iframe></div></div>"
      ],
      "text/plain": [
       "<folium.folium.Map at 0x7f5fcc3b44c0>"
      ]
     },
     "execution_count": 124,
     "metadata": {},
     "output_type": "execute_result"
    }
   ],
   "source": [
    "# Get map IDs for display in folium.\n",
    "prediction_vis = {'min': 0, 'max': 10}\n",
    "prediction_mapid = predictions.getMapId(prediction_vis)\n",
    "\n",
    "# Visualize the input imagery and the predictions.\n",
    "map = folium.Map(location=[50,-87], zoom_start=11)\n",
    "folium.TileLayer(\n",
    "  tiles=prediction_mapid['tile_fetcher'].url_format,\n",
    "  attr='Map Data &copy; <a href=\"https://earthengine.google.com/\">Google Earth Engine</a>',\n",
    "  overlay=True,\n",
    "  name='LAI',\n",
    ").add_to(map)\n",
    "map.add_child(folium.LayerControl())\n",
    "map"
   ]
  },
  {
   "cell_type": "code",
   "execution_count": 125,
   "metadata": {},
   "outputs": [],
   "source": [
    "# export_image = 'projects/ccmeo-ag-000008/assets/google/lai_prediction_image'\n",
    "\n",
    "# image_task = ee.batch.Export.image.toAsset(\n",
    "#   image = predictions, \n",
    "#   description = 'LAI_predicted', \n",
    "#   assetId = 'users/ganghong/LAIpredictNorm',##export_image, \n",
    "#   region = inputImage.select('EVI2').geometry(),\n",
    "#   scale = 10,\n",
    "#   maxPixels = 1e13\n",
    "# )"
   ]
  },
  {
   "cell_type": "code",
   "execution_count": 126,
   "metadata": {},
   "outputs": [],
   "source": [
    "# image_task.start()"
   ]
  },
  {
   "cell_type": "code",
   "execution_count": 127,
   "metadata": {},
   "outputs": [],
   "source": [
    "# export_task = ee_func.export_collection_to_gee(collection=predictions,\n",
    "#                                                num_images=1,\n",
    "#                                                image_names=[siteSelect+'_'+outputName+'_tf'],\n",
    "#                                                scale=10,                                                                                    \n",
    "#                                                asset_folder=assetfolder,\n",
    "#                                                data_type='float',\n",
    "#                                                max_pixels=1e13)"
   ]
  },
  {
   "cell_type": "code",
   "execution_count": 128,
   "metadata": {},
   "outputs": [],
   "source": [
    "# cloud_folder = 'projects/ccmeo-ag-000008/assets/ALR'\n",
    "# export_image = 'projects/google/logistic_demo_image'\n",
    "# Export directly to EE:\n",
    "export_task = ee_func.export_collection_to_gee(collection=predictions,\n",
    "                                               num_images=1,\n",
    "                                               image_names=[siteSelect+'_'+outputName+'_tf'],\n",
    "                                               scale=10,\n",
    "                                               # asset_folder='users/kateharvey/regression_images',                                            \n",
    "                                               asset_folder=cloud_folder,\n",
    "                                               data_type='float',\n",
    "                                               max_pixels=1e13)"
   ]
  },
  {
   "cell_type": "markdown",
   "metadata": {},
   "source": [
    "## Visualizing and plotting "
   ]
  },
  {
   "cell_type": "code",
   "execution_count": 129,
   "metadata": {},
   "outputs": [],
   "source": [
    "# read data from assets\n",
    "# tf_class = ee.Image(assetfolder+'/'+siteSelect+'_'+outputName+'_tf')\n",
    "tf_class = ee.Image(cloud_folder+'/'+siteSelect+'_'+outputName+'_tf')\n",
    "cart_class = ee.Image(cloud_folder+'/'+siteSelect+'_'+outputName+'_cart')\n",
    "rf_class = ee.Image(cloud_folder+'/'+siteSelect+'_'+outputName+'_rf')\n",
    "# composite a image with estimation bands\n",
    "joined_image2 = inputImage.select(responseBand).addBands(tf_class.select('tf_'+responseBand)).addBands(cart_class.select('cart_'+responseBand)).addBands(rf_class.select('rf_'+responseBand))\n",
    "\n",
    "# using same random seed as training_data for cart and rf, get 2000 samples and discard the first 1000, leaving 1000 different samples for cross-validation\n",
    "# this sampling method ensures no overlap between training and testing datasets\n",
    "joined_samples2 = ee.FeatureCollection(joined_image2.sample(numPixels=2000, seed=1).toList(2000, 1000))"
   ]
  },
  {
   "cell_type": "code",
   "execution_count": 130,
   "metadata": {},
   "outputs": [],
   "source": [
    "csv_task2 = ee.batch.Export.table.toCloudStorage(\n",
    "    collection=joined_samples2, \n",
    "    description=siteSelect+'_'+outputName+'_rt', \n",
    "    bucket='eealr',     \n",
    "    fileFormat='CSV')"
   ]
  },
  {
   "cell_type": "code",
   "execution_count": 131,
   "metadata": {},
   "outputs": [],
   "source": [
    "csv_task2.start()"
   ]
  },
  {
   "cell_type": "code",
   "execution_count": 132,
   "metadata": {},
   "outputs": [],
   "source": [
    "# Read the CSV file into dataframe\n",
    "data = pd.read_csv('gs://eealr/'+siteSelect+'_'+outputName+'_rt.csv')\n",
    "\n",
    "# remove rows that have a value of 0 for the responseBand\n",
    "data = data[data[responseBand] != 0]\n",
    "\n",
    "rf = data['rf_'+responseBand]/1000    # divide by 1000 to get properly scaled values for the variable\n",
    "cart = data['cart_'+responseBand]/1000\n",
    "actual = data[responseBand]/1000\n",
    "tf = data['tf_'+responseBand]\n",
    "# Obtain point density to display as a scatterplot (KDE)\n",
    "xy_rf = np.vstack([actual, rf])\n",
    "z_rf = scipy.stats.gaussian_kde(xy_rf)(xy_rf)\n",
    "\n",
    "xy_cart = np.vstack([actual, cart])\n",
    "z_cart = scipy.stats.gaussian_kde(xy_cart)(xy_cart)\n",
    "\n",
    "xy_tf = np.vstack([actual, tf])\n",
    "z_tf = scipy.stats.gaussian_kde(xy_tf)(xy_tf)\n",
    "\n",
    "# Sort by responseBand in ascending order (for plots [0,0] and [1,0], [2,0] below)\n",
    "data_sorted = data.sort_values(responseBand, axis=0).reset_index(drop=True)\n",
    "rf_sorted = data_sorted['rf_'+responseBand]/1000\n",
    "cart_sorted = data_sorted['cart_'+responseBand]/1000\n",
    "tf_sorted = data_sorted['tf_'+responseBand]\n",
    "actual_sorted = data_sorted[responseBand]/1000\n",
    "index_sorted = data_sorted.index\n",
    "\n",
    "# Obtain point density for sorted values\n",
    "xy_rf_sorted = np.vstack([actual_sorted, rf_sorted])\n",
    "z_rf_sorted = scipy.stats.gaussian_kde(xy_rf_sorted)(xy_rf_sorted)\n",
    "\n",
    "xy_cart_sorted = np.vstack([actual_sorted, cart_sorted])\n",
    "z_cart_sorted = scipy.stats.gaussian_kde(xy_cart_sorted)(xy_cart_sorted)\n",
    "\n",
    "xy_tf_sorted = np.vstack([actual_sorted, tf_sorted])\n",
    "z_tf_sorted = scipy.stats.gaussian_kde(xy_tf_sorted)(xy_tf_sorted)"
   ]
  },
  {
   "cell_type": "code",
   "execution_count": 133,
   "metadata": {},
   "outputs": [
    {
     "data": {
      "image/png": "[encoded data removed]",
      "text/plain": [
       "<Figure size 864x1296 with 9 Axes>"
      ]
     },
     "metadata": {
      "needs_background": "light"
     },
     "output_type": "display_data"
    }
   ],
   "source": [
    "# PLOT & COMPARE PREDICTIONS FROM BOTH REGRESSION TREES\n",
    "fig, ax = plt.subplots(3, 2, figsize=(12,18))\n",
    "xy = np.linspace(0, outputMax, 100)\n",
    "\n",
    "# ax[0,0]\n",
    "fig1 = ax[0,0].scatter(index_sorted, rf_sorted, c=z_rf_sorted, label='random forest')\n",
    "ax[0,0].scatter(index_sorted, actual_sorted, c='r', s=1, label='sl2p estimate')\n",
    "rf_rmse_sorted = skl.metrics.mean_squared_error(actual_sorted, rf_sorted, squared=False)\n",
    "rf_r2_sorted = skl.metrics.r2_score(actual_sorted, rf_sorted)\n",
    "\n",
    "# ax[0,0].title.set_text('RMSE: {rmse:.5f}          R2: {r2:.5f}'.format(rmse=rf_rmse_sorted, r2=rf_r2_sorted))\n",
    "ax[0,0].set_xlabel('Index (1000 samples)')\n",
    "ax[0,0].set_ylabel('Random Forest Prediction')\n",
    "ax[0,0].legend()\n",
    "\n",
    "# ax[0,1]\n",
    "ax[0,1].plot(xy, xy, c='r')\n",
    "fig2 = ax[0,1].scatter(rf, actual, c=z_rf)\n",
    "rf_rmse = skl.metrics.mean_squared_error(actual, rf, squared=False)\n",
    "rf_r2 = skl.metrics.r2_score(actual, rf)\n",
    "\n",
    "ax[0,1].title.set_text('RMSE: {rmse:.3f}         R2: {r2:.3f}'.format(rmse=rf_rmse, r2=rf_r2))\n",
    "ax[0,1].set_xlabel('SL2P Prediction')\n",
    "ax[0,1].set_ylabel('Random Forest Prediction')\n",
    "\n",
    "fig.subplots_adjust(right=0.9)\n",
    "cbar_ax1 = fig.add_axes([0.92, 0.67, 0.02, 0.2])\n",
    "fig.colorbar(fig2, cax=cbar_ax1)\n",
    "\n",
    "# ax[1,0]\n",
    "fig3 = ax[1,0].scatter(index_sorted, cart_sorted, c=z_cart_sorted, label='cart')\n",
    "ax[1,0].scatter(index_sorted, actual_sorted, c='r', s=1, label='sl2p estimate')\n",
    "cart_rmse_sorted = skl.metrics.mean_squared_error(actual_sorted, cart_sorted, squared=False)\n",
    "cart_r2_sorted = skl.metrics.r2_score(actual_sorted, cart_sorted)\n",
    "\n",
    "# ax[1,0].title.set_text('RMSE: {rmse:.5f}          R2: {r2:.5f}'.format(rmse=cart_rmse_sorted, r2=cart_r2_sorted))\n",
    "ax[1,0].set_xlabel('Index (1000 samples)')\n",
    "ax[1,0].set_ylabel('CART Prediction')\n",
    "ax[1,0].legend()\n",
    "\n",
    "# ax[1,1]\n",
    "ax[1,1].plot(xy, xy, c='r')\n",
    "fig4 = ax[1,1].scatter(cart, actual, c=z_cart)\n",
    "cart_rmse = skl.metrics.mean_squared_error(actual, cart, squared=False)\n",
    "cart_r2 = skl.metrics.r2_score(actual, cart)\n",
    "ax[1,1].title.set_text('RMSE: {rmse:.3f}          R2: {r2:.3f}'.format(rmse=cart_rmse, r2=cart_r2))\n",
    "ax[1,1].set_xlabel('SL2P Prediction')\n",
    "ax[1,1].set_ylabel('CART Prediction')\n",
    "\n",
    "fig.subplots_adjust(right=0.9)\n",
    "cbar_ax2 = fig.add_axes([0.92, 0.4, 0.02, 0.2])\n",
    "fig.colorbar(fig4, cax=cbar_ax2)\n",
    "\n",
    "# ax[2,0]\n",
    "fig5 = ax[2,0].scatter(index_sorted, tf_sorted, c=z_tf_sorted, label='tf')\n",
    "ax[2,0].scatter(index_sorted, actual_sorted, c='r', s=1, label='sl2p estimate')\n",
    "tf_rmse_sorted = skl.metrics.mean_squared_error(actual_sorted, tf_sorted, squared=False)\n",
    "tf_r2_sorted = skl.metrics.r2_score(actual_sorted, tf_sorted)\n",
    "\n",
    "# ax[1,0].title.set_text('RMSE: {rmse:.5f}          R2: {r2:.5f}'.format(rmse=cart_rmse_sorted, r2=cart_r2_sorted))\n",
    "ax[2,0].set_xlabel('Index (1000 samples)')\n",
    "ax[2,0].set_ylabel('TensorFlow Prediction')\n",
    "ax[2,0].legend()\n",
    "\n",
    "# ax[2,1]\n",
    "ax[2,1].plot(xy, xy, c='r')\n",
    "fig6 = ax[2,1].scatter(tf, actual, c=z_tf)\n",
    "tf_rmse = skl.metrics.mean_squared_error(actual, tf, squared=False)\n",
    "tf_r2 = skl.metrics.r2_score(actual, tf)\n",
    "ax[2,1].title.set_text('RMSE: {rmse:.3f}          R2: {r2:.3f}'.format(rmse=tf_rmse, r2=tf_r2))\n",
    "ax[2,1].set_xlabel('SL2P Prediction')\n",
    "ax[2,1].set_ylabel('TensorFlow Prediction')\n",
    "\n",
    "\n",
    "fig.subplots_adjust(right=0.9)\n",
    "cbar_ax3 = fig.add_axes([0.92, 0.13, 0.02, 0.2])\n",
    "fig.colorbar(fig6, cax=cbar_ax3)\n",
    "\n",
    "# save plot as .png\n",
    "# fig.savefig('./plots/trees/'+siteSelect+'_'+outputName+'_rf_cart_comparison.png')\n",
    "# fig.savefig('gs://eealr/'+siteSelect+'_'+outputName+'_rf_cart_comparison.png')\n",
    "fig.savefig(siteSelect+'_'+outputName+'_rf_cart_tf_comparison.png')"
   ]
  },
  {
   "cell_type": "code",
   "execution_count": 34,
   "metadata": {},
   "outputs": [],
   "source": [
    "# # Export directly to EE:\n",
    "# export_task = ee_func.export_collection_to_gee(collection=ee.ImageCollection(predictions),\n",
    "#                                                num_images=1,\n",
    "#                                                image_names=[siteSelect+'_'+outputName+'_cloud'],                                             \n",
    "#                                                scale=10,                                               \n",
    "#                                                # asset_folder='users/kateharvey/regression_images',                                            \n",
    "#                                                asset_folder=assetfolder,\n",
    "#                                                data_type=exportDataType,\n",
    "#                                                max_pixels=1e13)"
   ]
  },
  {
   "cell_type": "markdown",
   "metadata": {},
   "source": [
    "# Training code package setup for submitting trainging on AI platform\n",
    "\n",
    "It's necessary to create a Python package to hold the training code.  Here we're going to get started with that by creating a folder for the package and adding an empty `__init__.py` file.\n"
   ]
  },
  {
   "cell_type": "code",
   "execution_count": 134,
   "metadata": {},
   "outputs": [
    {
     "name": "stdout",
     "output_type": "stream",
     "text": [
      "total 5812\n",
      "-rw-r--r-- 1 gang_hong gang_hong  77552 Jan 24 04:00  AI_platform_demo.ipynb\n",
      "-rw-r--r-- 1 gang_hong gang_hong  77928 Jan 18 19:29  AI_platform_demo2.ipynb\n",
      "-rw-r--r-- 1 gang_hong gang_hong  77913 Jan 22 21:07  AI_platform_demo3.ipynb\n",
      "-rw-r--r-- 1 gang_hong gang_hong  21133 Jan 13 21:12  ALR_functions.py\n",
      "drwxr-xr-x 3 gang_hong gang_hong   4096 Feb 22 15:26  Attawapiskat_LAI_ALR_platform\n",
      "-rw-r--r-- 1 gang_hong gang_hong  36536 Feb 22 04:28  Attawapiskat_LAI_lars.png\n",
      "-rw-r--r-- 1 gang_hong gang_hong 174293 Feb 22 15:22  Attawapiskat_LAI_rf_cart_tf_comparison.png\n",
      "-rw-r--r-- 1 gang_hong gang_hong 120994 Jan 19 15:22  Charlottetown_LAI_lars.png\n",
      "-rw-r--r-- 1 gang_hong gang_hong  95633 Feb 16 19:13  Charlottetown_LAI_rf_cart_comparison.png\n",
      "-rw-r--r-- 1 gang_hong gang_hong 148663 Feb 17 00:56  Charlottetown_LAI_rf_cart_tf_comparison.png\n",
      "-rw-r--r-- 1 gang_hong gang_hong  44590 Jan 14 14:29 'Copy of Earth_Engine_TensorFlow_AI_Platform.ipynb'\n",
      "-rw-r--r-- 1 gang_hong gang_hong  47020 Jan 16 15:48 'Copy of Earth_Engine_TensorFlow_logistic_regression.ipynb'\n",
      "-rw-r--r-- 1 gang_hong gang_hong  42133 Jan 16 15:48  Earth_Engine_TensorFlow_logistic_regression.ipynb\n",
      "-rw-r--r-- 1 gang_hong gang_hong  46623 Jan 23 03:50  Earth_Engine_TensorFlow_logistic_regression_jupyter.ipynb\n",
      "-rw-r--r-- 1 gang_hong gang_hong  41932 Jan 26 04:13  Earth_Engine_TensorFlow_logistic_regression_jupyter_test.ipynb\n",
      "drwxr-xr-x 3 gang_hong gang_hong   4096 Feb 19 15:46  Geraldton_LAI_ALR_platform\n",
      "-rw-r--r-- 1 gang_hong gang_hong 207691 Feb 19 04:34  Geraldton_LAI_rf_cart_tf_comparison.png\n",
      "drwxr-xr-x 3 gang_hong gang_hong   4096 Feb 21 19:54  Kitchener_LAI_ALR_platform\n",
      "-rw-r--r-- 1 gang_hong gang_hong  71341 Feb 21 17:44  Kitchener_LAI_lars.png\n",
      "-rw-r--r-- 1 gang_hong gang_hong 223622 Feb 21 19:31  Kitchener_LAI_rf_cart_tf_comparison.png\n",
      "-rw-r--r-- 1 gang_hong gang_hong  53085 Feb 22 18:47  Kouchibouguac_LAI_lars.png\n",
      "-rw-r--r-- 1 gang_hong gang_hong  92235 Feb 22 20:34  Kouchibouguac_LAI_rf_cart_tf_comparison.png\n",
      "-rw-r--r-- 1 gang_hong gang_hong 127348 Feb 11 02:15  Rice_Mapping_with_DNN.ipynb\n",
      "-rw-r--r-- 1 gang_hong gang_hong 127348 Jan 25 22:22  Rice_Mapping_with_DNN2.ipynb\n",
      "-rw-r--r-- 1 gang_hong gang_hong  17883 Jan 13 21:12  Untitled.ipynb\n",
      "-rw-r--r-- 1 gang_hong gang_hong   2796 Jan 23 01:57  Untitled1.ipynb\n",
      "-rw-r--r-- 1 gang_hong gang_hong  22339 Jan 22 21:49  Untitled2.ipynb\n",
      "-rw-r--r-- 1 gang_hong gang_hong    616 Feb 18 19:26  Untitled3.ipynb\n",
      "-rw-r--r-- 1 gang_hong gang_hong  10741 Jan 14 19:06  Untitled4.ipynb\n",
      "-rw-r--r-- 1 gang_hong gang_hong  14203 Feb 13 21:19  Untitled8.ipynb\n",
      "-rw-r--r-- 1 gang_hong gang_hong 165287 Feb 18 05:22  Wabush_LAI_rf_cart_tf_comparison.png\n",
      "drwxr-xr-x 2 gang_hong gang_hong   4096 Jan 22 21:12  __pycache__\n",
      "drwxr-xr-x 3 gang_hong gang_hong   4096 Jan 15 02:40  ai_platform_demo\n",
      "-rw-r--r-- 1 gang_hong gang_hong     30 Jan 20 04:22  config.yaml\n",
      "-rw-r--r-- 1 gang_hong gang_hong   6452 Jan 13 21:12  ee_functions.py\n",
      "-rw-r--r-- 1 gang_hong gang_hong   3358 Jan 13 21:12  feature_collections.py\n",
      "-rw-r--r-- 1 gang_hong gang_hong   3067 Jan 13 21:12  image_bands.py\n",
      "-rw-r--r-- 1 gang_hong gang_hong   1810 Feb 21 17:45  nnet.csv\n",
      "-rw-r--r-- 1 gang_hong gang_hong   2320 Jan 14 01:20  privatekey.json\n",
      "-rw-r--r-- 1 gang_hong gang_hong   2320 Jan 13 21:12  privatekey0.json\n",
      "-rw-r--r-- 1 gang_hong gang_hong 319466 Feb  7 02:41  regression_approaches.ipynb\n",
      "-rw-r--r-- 1 gang_hong gang_hong 100191 Jan 24 02:39  regression_approaches_VM_version.ipynb\n",
      "-rw-r--r-- 1 gang_hong gang_hong 132627 Jan 20 05:12  regression_approaches_VM_version2.ipynb\n",
      "-rw-r--r-- 1 gang_hong gang_hong 276565 Jan 24 02:37  regression_approaches_VM_version3.ipynb\n",
      "-rw-r--r-- 1 gang_hong gang_hong 289597 Jan 26 04:02  regression_approaches_VM_version4.ipynb\n",
      "-rw-r--r-- 1 gang_hong gang_hong 332077 Feb  7 19:44  regression_approaches_VM_version4_test.ipynb\n",
      "-rw-r--r-- 1 gang_hong gang_hong 259643 Feb  8 21:18  regression_approaches_VM_version5.ipynb\n",
      "-rw-r--r-- 1 gang_hong gang_hong 280742 Feb  9 21:21  regression_approaches_VM_version5_updated.ipynb\n",
      "-rw-r--r-- 1 gang_hong gang_hong 489541 Feb 17 14:48  regression_approaches_VM_version6.ipynb\n",
      "-rw-r--r-- 1 gang_hong gang_hong 505079 Feb 22 20:35  regression_approaches_VM_version6_dataprocessing.ipynb\n",
      "-rw-r--r-- 1 gang_hong gang_hong 102226 Jan 26 03:26  regression_approaches_VM_version_test.ipynb\n",
      "-rw-r--r-- 1 gang_hong gang_hong  51316 Feb 14 02:51  testNormalization.ipynb\n",
      "-rw-r--r-- 1 gang_hong gang_hong 473644 Jan 13 21:03  vm-20220113T210056Z-001.zip\n",
      "-rw-r--r-- 1 gang_hong gang_hong   8031 Jan 13 21:12  wrapper_nets.py\n",
      "total 0\n",
      "-rw-r--r-- 1 gang_hong gang_hong 0 Feb 22 20:36 __init__.py\n"
     ]
    }
   ],
   "source": [
    "PACKAGE_PATH = siteSelect+'_'+outputName+'_ALR_platform'\n",
    "\n",
    "!ls -l\n",
    "!mkdir {PACKAGE_PATH}\n",
    "!touch {PACKAGE_PATH}/__init__.py\n",
    "!ls -l {PACKAGE_PATH}"
   ]
  },
  {
   "cell_type": "markdown",
   "metadata": {},
   "source": [
    "## Variables\n",
    "\n",
    "These variables need to be stored in a place where other code can access them.  Here we'll use the `%%writefile` command to write the contents of the code cell to a file called `config.py`.\n"
   ]
  },
  {
   "cell_type": "code",
   "execution_count": 135,
   "metadata": {},
   "outputs": [
    {
     "name": "stdout",
     "output_type": "stream",
     "text": [
      "Writing Kouchibouguac_LAI_ALR_platform/config.py\n"
     ]
    }
   ],
   "source": [
    "%%writefile {PACKAGE_PATH}/config.py\n",
    "\n",
    "import tensorflow as tf\n",
    "\n",
    "### need change the following three items for submitting training on Cloud\n",
    "siteSelect='Kouchibouguac'\n",
    "outputName='LAI'\n",
    "BANDS=['B4', 'EVI2', 'MSR', 'NDGI', 'RDVI'] ## based on the indiceName excluding last item\n",
    "\n",
    "#  PROJECT HERE!\n",
    "PROJECT = 'ccmeo-ag-000008'\n",
    "# BUCKET HERE!\n",
    "BUCKET = 'eealr'\n",
    "#  a region for hosting AI models.\n",
    "REGION = 'northamerica-northeast1'\n",
    "# Specify names of output locations in Cloud Storage.\n",
    "\n",
    "FOLDER = siteSelect+'_'+outputName+'_ALR_AI'\n",
    "JOB_DIR = 'gs://' + BUCKET + '/' + FOLDER + '/trainer'\n",
    "MODEL_DIR = JOB_DIR + '/model'\n",
    "LOGS_DIR = JOB_DIR + '/logs'\n",
    "\n",
    "# Put the EEified model next to the trained model directory.\n",
    "EEIFIED_DIR = JOB_DIR + '/eeified'\n",
    "EPOCHS = 100\n",
    "\n",
    "\n",
    "TRAIN_FILE_PREFIX = siteSelect+'_'+outputName+'_ALR_training'\n",
    "\n",
    "file_extension = '.tfrecord.gz'\n",
    "TRAIN_FILE_PATH = 'gs://' + BUCKET + '/' + TRAIN_FILE_PREFIX + file_extension\n",
    "\n",
    "# The labels, biophysical parameter, float32, are stored in\n",
    "# this property, set on each point.\n",
    "LABEL = 'estimateLAI'\n",
    "# These names are used to specify properties in the export of training/testing\n",
    "# data and to define the mapping between names and data when reading from\n",
    "# the TFRecord file into a tf.data.Dataset.\n",
    "\n",
    "# BANDS=['EVI2','GVI','MSR','NDGI','RDVI']\n",
    "# BANDS=['B4', 'GVI', 'MSR', 'RDVI', 'SGI']\n",
    "FEATURE_NAMES = list(BANDS)  \n",
    "FEATURE_NAMES.append(LABEL)\n",
    "\n",
    "# List of fixed-length features, all of which are float32.\n",
    "columns = [\n",
    "  tf.io.FixedLenFeature(shape=[1], dtype=tf.float32) for k in FEATURE_NAMES\n",
    "]\n",
    "\n",
    "# Dictionary with feature names as keys, fixed-length features as values.\n",
    "FEATURES_DICT = dict(zip(FEATURE_NAMES, columns))"
   ]
  },
  {
   "cell_type": "markdown",
   "metadata": {},
   "source": [
    "### Verify that the written file has the expected contents and is working as intended."
   ]
  },
  {
   "cell_type": "code",
   "execution_count": 136,
   "metadata": {},
   "outputs": [
    {
     "name": "stdout",
     "output_type": "stream",
     "text": [
      "\n",
      "import tensorflow as tf\n",
      "\n",
      "### need change the following three items for submitting training on Cloud\n",
      "siteSelect='Kouchibouguac'\n",
      "outputName='LAI'\n",
      "BANDS=['B4', 'EVI2', 'MSR', 'NDGI', 'RDVI'] ## based on the indiceName excluding last item\n",
      "\n",
      "#  PROJECT HERE!\n",
      "PROJECT = 'ccmeo-ag-000008'\n",
      "# BUCKET HERE!\n",
      "BUCKET = 'eealr'\n",
      "#  a region for hosting AI models.\n",
      "REGION = 'northamerica-northeast1'\n",
      "# Specify names of output locations in Cloud Storage.\n",
      "\n",
      "FOLDER = siteSelect+'_'+outputName+'_ALR_AI'\n",
      "JOB_DIR = 'gs://' + BUCKET + '/' + FOLDER + '/trainer'\n",
      "MODEL_DIR = JOB_DIR + '/model'\n",
      "LOGS_DIR = JOB_DIR + '/logs'\n",
      "\n",
      "# Put the EEified model next to the trained model directory.\n",
      "EEIFIED_DIR = JOB_DIR + '/eeified'\n",
      "EPOCHS = 100\n",
      "\n",
      "\n",
      "TRAIN_FILE_PREFIX = siteSelect+'_'+outputName+'_ALR_training'\n",
      "\n",
      "file_extension = '.tfrecord.gz'\n",
      "TRAIN_FILE_PATH = 'gs://' + BUCKET + '/' + TRAIN_FILE_PREFIX + file_extension\n",
      "\n",
      "# The labels, biophysical parameter, float32, are stored in\n",
      "# this property, set on each point.\n",
      "LABEL = 'estimateLAI'\n",
      "# These names are used to specify properties in the export of training/testing\n",
      "# data and to define the mapping between names and data when reading from\n",
      "# the TFRecord file into a tf.data.Dataset.\n",
      "\n",
      "# BANDS=['EVI2','GVI','MSR','NDGI','RDVI']\n",
      "# BANDS=['B4', 'GVI', 'MSR', 'RDVI', 'SGI']\n",
      "FEATURE_NAMES = list(BANDS)  \n",
      "FEATURE_NAMES.append(LABEL)\n",
      "\n",
      "# List of fixed-length features, all of which are float32.\n",
      "columns = [\n",
      "  tf.io.FixedLenFeature(shape=[1], dtype=tf.float32) for k in FEATURE_NAMES\n",
      "]\n",
      "\n",
      "# Dictionary with feature names as keys, fixed-length features as values.\n",
      "FEATURES_DICT = dict(zip(FEATURE_NAMES, columns))\n",
      "\n",
      "\n",
      " 100\n",
      "gs://eealr/Kouchibouguac_LAI_ALR_AI/trainer/model\n",
      "gs://eealr/Kouchibouguac_LAI_ALR_AI/trainer/eeified\n",
      "Kouchibouguac_LAI_ALR_AI\n"
     ]
    }
   ],
   "source": [
    "!cat {PACKAGE_PATH}/config.py\n",
    "\n",
    "# from ALR_platform import config, neeed change platform manually\n",
    "from Kouchibouguac_LAI_ALR_platform import config\n",
    "\n",
    "print('\\n\\n', config.EPOCHS)\n",
    "print (config.MODEL_DIR)\n",
    "print (config.EEIFIED_DIR)\n",
    "print (config.FOLDER)"
   ]
  },
  {
   "cell_type": "markdown",
   "metadata": {},
   "source": [
    "## Training data, evaluation data and model\n",
    "\n",
    "The following is code to load training/label data and the model.  Write this into `model.py`. "
   ]
  },
  {
   "cell_type": "code",
   "execution_count": 137,
   "metadata": {},
   "outputs": [
    {
     "name": "stdout",
     "output_type": "stream",
     "text": [
      "Writing Kouchibouguac_LAI_ALR_platform/model.py\n"
     ]
    }
   ],
   "source": [
    "%%writefile {PACKAGE_PATH}/model.py\n",
    "\n",
    "from . import config\n",
    "import tensorflow as tf\n",
    "from tensorflow.python.keras import layers\n",
    "from tensorflow.python.keras import losses\n",
    "from tensorflow.python.keras import metrics\n",
    "from tensorflow.python.keras import models\n",
    "from tensorflow.python.keras import optimizers\n",
    "# import pandas as pd\n",
    "\n",
    "# Dataset loading functions\n",
    "def get_training_dataset():\n",
    "    # # Load datasets from the files.\n",
    "    dataset = tf.data.TFRecordDataset(config.TRAIN_FILE_PATH, compression_type='GZIP')\n",
    "    return dataset\n",
    "\n",
    "def get_model(BANDS):  \n",
    "    LAI_model = tf.keras.models.Sequential([\n",
    "            # tf.keras.layers.Input((1, 1, len(BANDS))),\n",
    "            # tf.keras.layers.Dense(5),\n",
    "            tf.keras.layers.Dense(5, input_shape=(1, 1, len(BANDS))),\n",
    "            tf.keras.layers.LayerNormalization(),\n",
    "            tf.keras.layers.Dense(4, activation=\"softsign\"),\n",
    "            tf.keras.layers.Dense(3, activation=\"softsign\"),\n",
    "            tf.keras.layers.Dense(2, activation=\"softsign\"),\n",
    "            tf.keras.layers.Dense(1)\n",
    "        ])\n",
    "\n",
    "        # Compiling the model to minimize the mean squared error loss function and use the NADAM optimizer\n",
    "    LAI_model.compile(optimizer=tf.keras.optimizers.Nadam(), loss='mse', metrics=['mse', 'mae'])\n",
    "    return LAI_model\n",
    "\n",
    "def parse_tfrecord(example_proto):\n",
    "  \"\"\"The parsing function.\n",
    "\n",
    "  Read a serialized example into the structure defined by FEATURES_DICT.\n",
    "\n",
    "  Args:\n",
    "    example_proto: a serialized Example.\n",
    "\n",
    "  Returns:\n",
    "    A tuple of the predictors dictionary and the label, cast to an `float32`.\n",
    "  \"\"\"\n",
    "  parsed_features = tf.io.parse_single_example(example_proto, config.FEATURES_DICT)\n",
    "  labels = parsed_features.pop(config.LABEL)\n",
    "  return parsed_features, tf.cast(labels, tf.float32)\n",
    "\n",
    "\n",
    "def to_tuple(inputs, label):\n",
    "  \"\"\" Convert inputs to a tuple.\n",
    "\n",
    "  Note that the inputs must be a tuple of tensors in the right shape.\n",
    "\n",
    "  Args:\n",
    "    dict: a dictionary of tensors keyed by input name.\n",
    "    label: a tensor storing the response variable.\n",
    "\n",
    "  Returns:\n",
    "    A tuple of tensors: (predictors, label).\n",
    "  \"\"\"\n",
    "  # Values in the tensor are ordered by the list of predictors.\n",
    " \n",
    "  predictors = [inputs.get(k) for k in config.BANDS]\n",
    "  return (tf.expand_dims(tf.transpose(predictors), 1),\n",
    "          tf.expand_dims(tf.expand_dims(label, 1), 1)) "
   ]
  },
  {
   "cell_type": "markdown",
   "metadata": {},
   "source": [
    "## Training task\n",
    "\n",
    "The following will create `task.py`, which will get the training and eval data, train the model and save it when it's done in a Cloud Storage bucket."
   ]
  },
  {
   "cell_type": "code",
   "execution_count": 138,
   "metadata": {},
   "outputs": [
    {
     "name": "stdout",
     "output_type": "stream",
     "text": [
      "Writing Kouchibouguac_LAI_ALR_platform/task.py\n"
     ]
    }
   ],
   "source": [
    "%%writefile {PACKAGE_PATH}/task.py\n",
    "\n",
    "from . import config\n",
    "from . import model\n",
    "import tensorflow as tf\n",
    "# import pandas\n",
    "\n",
    "if __name__ == '__main__':\n",
    "    \n",
    "    train_dataset=model.get_training_dataset()\n",
    "    train_size = 0\n",
    "    for _ in iter(train_dataset):\n",
    "      train_size+=1\n",
    "\n",
    "    batch_size = 8\n",
    "\n",
    "    # Map the functions over the datasets to parse and convert to tuples.\n",
    "    train_dataset = train_dataset.map(model.parse_tfrecord)\n",
    "    train_dataset = train_dataset.map(model.to_tuple)\n",
    "    train_dataset = train_dataset.shuffle(train_size).batch(batch_size)\n",
    "\n",
    "    m = model.get_model(config.BANDS)    \n",
    "    m.fit(train_dataset, epochs=config.EPOCHS, verbose=1)  \n",
    "    m.save(config.MODEL_DIR, save_format='tf')"
   ]
  },
  {
   "cell_type": "markdown",
   "metadata": {},
   "source": [
    "# Submit the package to AI Platform for training\n"
   ]
  },
  {
   "cell_type": "code",
   "execution_count": 139,
   "metadata": {},
   "outputs": [],
   "source": [
    "# import time\n",
    "\n",
    "# JOB_NAME = 'Geraldton'+'_'+'LAI'+'_ALR_training_job_' + str(int(time.time()))\n",
    "# TRAINER_PACKAGE_PATH = 'Geraldton'+'_'+'LAI'+'_ALR_platform'\n",
    "# MAIN_TRAINER_MODULE = 'Geraldton'+'_'+'LAI'+'_ALR_platform.task'\n",
    "# siteSelect='Kitchener'\n",
    "# outputName='LAI'\n",
    "JOB_NAME = siteSelect+'_'+outputName+'_ALR_training_job_' + str(int(time.time()))\n",
    "TRAINER_PACKAGE_PATH = siteSelect+'_'+outputName+'_ALR_platform'\n",
    "MAIN_TRAINER_MODULE = siteSelect+'_'+outputName+'_ALR_platform.task'\n",
    "REGION = 'northamerica-northeast1'"
   ]
  },
  {
   "cell_type": "code",
   "execution_count": 140,
   "metadata": {},
   "outputs": [
    {
     "name": "stdout",
     "output_type": "stream",
     "text": [
      "Job [Kouchibouguac_LAI_ALR_training_job_1645562319] submitted successfully.\n",
      "Your job is still active. You may view the status of your job with the command\n",
      "\n",
      "  $ gcloud ai-platform jobs describe Kouchibouguac_LAI_ALR_training_job_1645562319\n",
      "\n",
      "or continue streaming the logs with the command\n",
      "\n",
      "  $ gcloud ai-platform jobs stream-logs Kouchibouguac_LAI_ALR_training_job_1645562319\n",
      "jobId: Kouchibouguac_LAI_ALR_training_job_1645562319\n",
      "state: QUEUED\n"
     ]
    }
   ],
   "source": [
    "!gcloud ai-platform jobs submit training {JOB_NAME} \\\n",
    "    --job-dir {config.JOB_DIR}  \\\n",
    "    --package-path {TRAINER_PACKAGE_PATH} \\\n",
    "    --module-name {MAIN_TRAINER_MODULE} \\\n",
    "    --region {REGION} \\\n",
    "    --project {config.PROJECT} \\\n",
    "    --runtime-version 2.7\\\n",
    "    --python-version 3.7 \\\n",
    "    --scale-tier custom \\\n",
    "    --master-machine-type n1-highcpu-16    "
   ]
  },
  {
   "cell_type": "markdown",
   "metadata": {},
   "source": [
    "## Monitor the training job\n",
    "\n",
    "There's not much more to do until the model is finished training (~24 hours), but it's fun and useful to monitor its progress. You can do that programmatically with another `gcloud` command.  The output of that command can be read into an `IPython.utils.text.SList` from which the `state` is extracted and ensured to be `SUCCEEDED`.  Or you can monitor it from the [AI Platform jobs page](http://console.cloud.google.com/ai-platform/jobs) on the Cloud Console."
   ]
  },
  {
   "cell_type": "code",
   "execution_count": 142,
   "metadata": {},
   "outputs": [
    {
     "name": "stdout",
     "output_type": "stream",
     "text": [
      "[\"createTime: '2022-02-22T20:38:48Z'\", \"endTime: '2022-02-22T20:52:15Z'\", 'etag: i4nTk_4lS_U=', 'jobId: Kouchibouguac_LAI_ALR_training_job_1645562319', \"jobPosition: '0'\", \"startTime: '2022-02-22T20:41:13Z'\", 'state: SUCCEEDED', 'trainingInput:', '  jobDir: gs://eealr/Kouchibouguac_LAI_ALR_AI/trainer', '  masterType: n1-highcpu-16', '  packageUris:', '  - gs://eealr/Kouchibouguac_LAI_ALR_AI/trainer/packages/f045e50da64fe612ee1639dfba9178268a97dc7bb08a6326c9b164af3bf491e1/Kouchibouguac_LAI_ALR_platform-0.0.0.tar.gz', '  pythonModule: Kouchibouguac_LAI_ALR_platform.task', \"  pythonVersion: '3.7'\", '  region: northamerica-northeast1', \"  runtimeVersion: '2.7'\", '  scaleTier: CUSTOM', 'trainingOutput:', '  consumedMLUnits: 0.19', '', 'View job in the Cloud Console at:', 'https://console.cloud.google.com/mlengine/jobs/Kouchibouguac_LAI_ALR_training_job_1645562319?project=ccmeo-ag-000008', '', 'View logs at:', 'https://console.cloud.google.com/logs?resource=ml_job%2Fjob_id%2FKouchibouguac_LAI_ALR_training_job_1645562319&project=ccmeo-ag-000008']\n",
      "SUCCEEDED\n"
     ]
    }
   ],
   "source": [
    "PROJECT = 'ccmeo-ag-000008'\n",
    "desc = !gcloud ai-platform jobs describe {JOB_NAME} --project {PROJECT}\n",
    "print (desc)\n",
    "state = desc.grep('state:')[0].split(':')[1].strip()\n",
    "print(state)"
   ]
  },
  {
   "cell_type": "markdown",
   "metadata": {},
   "source": [
    "# Prepare the model for making predictions in Earth Engine\n",
    "\n",
    "Before we can use the model in Earth Engine, it needs to be hosted by AI Platform.  But before we can host the model on AI Platform we need to *EEify* it.  The EEification process merely appends some extra operations to the input and outputs of the model in order to accommodate the interchange format between pixels from Earth Engine (float32) and inputs to AI Platform (base64). \n",
    "\n",
    "## `earthengine model prepare`\n",
    "The EEification process is using the Earth Engine command `earthengine model prepare`.  To use that command, we need to specify the input and output model directories and the name of the input and output nodes in the TensorFlow computation graph. "
   ]
  },
  {
   "cell_type": "code",
   "execution_count": 143,
   "metadata": {},
   "outputs": [
    {
     "name": "stdout",
     "output_type": "stream",
     "text": [
      "'{\"serving_default_dense_input:0\": \"array\"}'\n",
      "'{\"StatefulPartitionedCall:0\": \"estimateLAI\"}'\n"
     ]
    }
   ],
   "source": [
    "from tensorflow.python.tools import saved_model_utils\n",
    "\n",
    "meta_graph_def = saved_model_utils.get_meta_graph_def(config.MODEL_DIR, 'serve')\n",
    "inputs = meta_graph_def.signature_def['serving_default'].inputs\n",
    "outputs = meta_graph_def.signature_def['serving_default'].outputs\n",
    "\n",
    "# Just get the first thing(s) from the serving signature def.  i.e. this\n",
    "# model only has a single input and a single output.\n",
    "input_name = None\n",
    "for k,v in inputs.items():\n",
    "  input_name = v.name\n",
    "  break\n",
    "\n",
    "output_name = None\n",
    "for k,v in outputs.items():\n",
    "  output_name = v.name\n",
    "  break\n",
    "\n",
    "# Make a dictionary that maps Earth Engine outputs and inputs to \n",
    "# AI Platform inputs and outputs, respectively.\n",
    "import json\n",
    "input_dict = \"'\" + json.dumps({input_name: \"array\"}) + \"'\"\n",
    "output_dict = \"'\" + json.dumps({output_name: \"estimateLAI\"}) + \"'\"\n",
    "print(input_dict)\n",
    "print(output_dict)"
   ]
  },
  {
   "cell_type": "code",
   "execution_count": null,
   "metadata": {},
   "outputs": [],
   "source": [
    "# print (config.MODEL_DIR)\n",
    "# print (config.EEIFIED_DIR)"
   ]
  },
  {
   "cell_type": "code",
   "execution_count": 144,
   "metadata": {},
   "outputs": [
    {
     "name": "stdout",
     "output_type": "stream",
     "text": [
      "Successfully saved project id\n",
      "Success: model at 'gs://eealr/Kouchibouguac_LAI_ALR_AI/trainer/eeified' is ready to be hosted in AI Platform.\n"
     ]
    }
   ],
   "source": [
    "# You need to set the project before using the model prepare command.\n",
    "!earthengine set_project {PROJECT}\n",
    "!earthengine model prepare --source_dir {config.MODEL_DIR} --dest_dir {config.EEIFIED_DIR} --input {input_dict} --output {output_dict}"
   ]
  },
  {
   "cell_type": "markdown",
   "metadata": {},
   "source": [
    "# Perform inference using the trained model in Earth Engine\n",
    "\n",
    "Before it's possible to get predictions from the trained and EEified model, it needs to be deployed on AI Platform.  The first step is to create the model.  The second step is to create a version.   \n"
   ]
  },
  {
   "cell_type": "code",
   "execution_count": null,
   "metadata": {},
   "outputs": [],
   "source": [
    "# %%writefile config.yaml\n",
    "# autoScaling:\n",
    "#     minNodes: 10"
   ]
  },
  {
   "cell_type": "code",
   "execution_count": 145,
   "metadata": {},
   "outputs": [
    {
     "name": "stdout",
     "output_type": "stream",
     "text": [
      "Creating version: v1645563343\n",
      "Using endpoint [https://northamerica-northeast1-ml.googleapis.com/]\n",
      "Created ai platform model [projects/ccmeo-ag-000008/models/Kouchibouguac_LAI_ALR_platform].\n",
      "Using endpoint [https://northamerica-northeast1-ml.googleapis.com/]\n",
      "Creating version (this might take a few minutes)......done.                    \n"
     ]
    }
   ],
   "source": [
    "MODEL_NAME = siteSelect+'_'+outputName+'_ALR_platform'\n",
    "VERSION_NAME = 'v' + str(int(time.time()))\n",
    "print('Creating version: ' + VERSION_NAME)\n",
    "\n",
    "!gcloud ai-platform models create {MODEL_NAME} \\\n",
    "  --project {PROJECT} \\\n",
    "  --region {REGION}\n",
    "\n",
    "!gcloud ai-platform versions create {VERSION_NAME} \\\n",
    "  --project {config.PROJECT} \\\n",
    "  --model {MODEL_NAME} \\\n",
    "  --region {REGION} \\\n",
    "  --origin {config.EEIFIED_DIR} \\\n",
    "  --framework \"TENSORFLOW\" \\\n",
    "  --runtime-version 2.7 \\\n",
    "  --python-version 3.7 \\\n",
    "  # --config=config.yaml"
   ]
  },
  {
   "cell_type": "markdown",
   "metadata": {},
   "source": [
    "There is now a trained model, prepared for serving to Earth Engine, hosted and versioned on AI Platform.  now connect Earth Engine directly to the trained model for inference.  \n",
    "\n",
    "## `ee.Model.fromAiPlatformPredictor`\n",
    "For this command to work, we need to know a lot about the model.  To connect to the model, need to know the name and version.\n",
    "\n",
    "### Inputs\n",
    "to create an array-valued input from the scaled data and use that for input.  \n",
    "\n",
    "### Outputs\n",
    "The output is a single float band ."
   ]
  },
  {
   "cell_type": "code",
   "execution_count": 146,
   "metadata": {},
   "outputs": [
    {
     "name": "stdout",
     "output_type": "stream",
     "text": [
      "EPSG:32620\n"
     ]
    }
   ],
   "source": [
    "# Turn into an array image for input to the model.\n",
    "array_image2 = inputImage.select(BANDS).unmask(0).float().toArray()\n",
    "# get the input data mask for later to mask the output\n",
    "mask=inputImage.select('estimateLAI').mask();\n",
    "# get the projection of the input image required in MODEL predictor\n",
    "proj2 =inputImage.select(responseBand).projection();\n",
    "print (proj2.crs().getInfo())"
   ]
  },
  {
   "cell_type": "code",
   "execution_count": 147,
   "metadata": {},
   "outputs": [],
   "source": [
    "# Point to the model hosted on AI Platform. Output projection neeed be modified in the code below.\n",
    "# MODEL_NAME = 'ALR_platform'\n",
    "# VERSION_NAME='v1644344011'\n",
    "REGION = 'northamerica-northeast1'\n",
    "PROJECT = 'ccmeo-ag-000008'\n",
    "model_alr = ee.Model.fromAiPlatformPredictor(\n",
    "    projectName=PROJECT,\n",
    "    modelName=MODEL_NAME,\n",
    "    version=VERSION_NAME,\n",
    "    region=REGION,\n",
    "    # Can be anything, but don't make it too big.\n",
    "    inputTileSize=[8,8],\n",
    "    # Keep this the same as your training data.\n",
    "    # proj=ee.Projection('EPSG:4326').atScale(10),\n",
    "    proj=ee.Projection(proj2.crs().getInfo()).atScale(10),\n",
    "    fixInputProj=True,\n",
    "    # Note the names here need to match what you specified in the\n",
    "    # output dictionary you passed to the EEifier.\n",
    "    outputBands={'tf_'+responseBand: {\n",
    "        'type': ee.PixelType.float(),\n",
    "        'dimensions': 1\n",
    "      }\n",
    "    },\n",
    ")\n",
    "# print (model_alr.getInfo())"
   ]
  },
  {
   "cell_type": "code",
   "execution_count": 148,
   "metadata": {},
   "outputs": [],
   "source": [
    "# Output prediction result.\n",
    "predictions2 = model_alr.predictImage(array_image2).arrayGet([0]).updateMask(mask)"
   ]
  },
  {
   "cell_type": "code",
   "execution_count": 149,
   "metadata": {},
   "outputs": [
    {
     "data": {
      "text/html": [
       "<div style=\"width:100%;\"><div style=\"position:relative;width:100%;height:0;padding-bottom:60%;\"><span style=\"color:#565656\">Make this Notebook Trusted to load map: File -> Trust Notebook</span><iframe src=\"about:blank\" style=\"position:absolute;width:100%;height:100%;left:0;top:0;border:none !important;\" data-html=%3C%21DOCTYPE%20html%3E%0A%3Chead%3E%20%20%20%20%0A%20%20%20%20%3Cmeta%20http-equiv%3D%22content-type%22%20content%3D%22text/html%3B%20charset%3DUTF-8%22%20/%3E%0A%20%20%20%20%0A%20%20%20%20%20%20%20%20%3Cscript%3E%0A%20%20%20%20%20%20%20%20%20%20%20%20L_NO_TOUCH%20%3D%20false%3B%0A%20%20%20%20%20%20%20%20%20%20%20%20L_DISABLE_3D%20%3D%20false%3B%0A%20%20%20%20%20%20%20%20%3C/script%3E%0A%20%20%20%20%0A%20%20%20%20%3Cstyle%3Ehtml%2C%20body%20%7Bwidth%3A%20100%25%3Bheight%3A%20100%25%3Bmargin%3A%200%3Bpadding%3A%200%3B%7D%3C/style%3E%0A%20%20%20%20%3Cstyle%3E%23map%20%7Bposition%3Aabsolute%3Btop%3A0%3Bbottom%3A0%3Bright%3A0%3Bleft%3A0%3B%7D%3C/style%3E%0A%20%20%20%20%3Cscript%20src%3D%22https%3A//cdn.jsdelivr.net/npm/leaflet%401.6.0/dist/leaflet.js%22%3E%3C/script%3E%0A%20%20%20%20%3Cscript%20src%3D%22https%3A//code.jquery.com/jquery-1.12.4.min.js%22%3E%3C/script%3E%0A%20%20%20%20%3Cscript%20src%3D%22https%3A//maxcdn.bootstrapcdn.com/bootstrap/3.2.0/js/bootstrap.min.js%22%3E%3C/script%3E%0A%20%20%20%20%3Cscript%20src%3D%22https%3A//cdnjs.cloudflare.com/ajax/libs/Leaflet.awesome-markers/2.0.2/leaflet.awesome-markers.js%22%3E%3C/script%3E%0A%20%20%20%20%3Clink%20rel%3D%22stylesheet%22%20href%3D%22https%3A//cdn.jsdelivr.net/npm/leaflet%401.6.0/dist/leaflet.css%22/%3E%0A%20%20%20%20%3Clink%20rel%3D%22stylesheet%22%20href%3D%22https%3A//maxcdn.bootstrapcdn.com/bootstrap/3.2.0/css/bootstrap.min.css%22/%3E%0A%20%20%20%20%3Clink%20rel%3D%22stylesheet%22%20href%3D%22https%3A//maxcdn.bootstrapcdn.com/bootstrap/3.2.0/css/bootstrap-theme.min.css%22/%3E%0A%20%20%20%20%3Clink%20rel%3D%22stylesheet%22%20href%3D%22https%3A//maxcdn.bootstrapcdn.com/font-awesome/4.6.3/css/font-awesome.min.css%22/%3E%0A%20%20%20%20%3Clink%20rel%3D%22stylesheet%22%20href%3D%22https%3A//cdnjs.cloudflare.com/ajax/libs/Leaflet.awesome-markers/2.0.2/leaflet.awesome-markers.css%22/%3E%0A%20%20%20%20%3Clink%20rel%3D%22stylesheet%22%20href%3D%22https%3A//cdn.jsdelivr.net/gh/python-visualization/folium/folium/templates/leaflet.awesome.rotate.min.css%22/%3E%0A%20%20%20%20%0A%20%20%20%20%20%20%20%20%20%20%20%20%3Cmeta%20name%3D%22viewport%22%20content%3D%22width%3Ddevice-width%2C%0A%20%20%20%20%20%20%20%20%20%20%20%20%20%20%20%20initial-scale%3D1.0%2C%20maximum-scale%3D1.0%2C%20user-scalable%3Dno%22%20/%3E%0A%20%20%20%20%20%20%20%20%20%20%20%20%3Cstyle%3E%0A%20%20%20%20%20%20%20%20%20%20%20%20%20%20%20%20%23map_68a161431ed9415c917ff41642fdcad6%20%7B%0A%20%20%20%20%20%20%20%20%20%20%20%20%20%20%20%20%20%20%20%20position%3A%20relative%3B%0A%20%20%20%20%20%20%20%20%20%20%20%20%20%20%20%20%20%20%20%20width%3A%20100.0%25%3B%0A%20%20%20%20%20%20%20%20%20%20%20%20%20%20%20%20%20%20%20%20height%3A%20100.0%25%3B%0A%20%20%20%20%20%20%20%20%20%20%20%20%20%20%20%20%20%20%20%20left%3A%200.0%25%3B%0A%20%20%20%20%20%20%20%20%20%20%20%20%20%20%20%20%20%20%20%20top%3A%200.0%25%3B%0A%20%20%20%20%20%20%20%20%20%20%20%20%20%20%20%20%7D%0A%20%20%20%20%20%20%20%20%20%20%20%20%3C/style%3E%0A%20%20%20%20%20%20%20%20%0A%3C/head%3E%0A%3Cbody%3E%20%20%20%20%0A%20%20%20%20%0A%20%20%20%20%20%20%20%20%20%20%20%20%3Cdiv%20class%3D%22folium-map%22%20id%3D%22map_68a161431ed9415c917ff41642fdcad6%22%20%3E%3C/div%3E%0A%20%20%20%20%20%20%20%20%0A%3C/body%3E%0A%3Cscript%3E%20%20%20%20%0A%20%20%20%20%0A%20%20%20%20%20%20%20%20%20%20%20%20var%20map_68a161431ed9415c917ff41642fdcad6%20%3D%20L.map%28%0A%20%20%20%20%20%20%20%20%20%20%20%20%20%20%20%20%22map_68a161431ed9415c917ff41642fdcad6%22%2C%0A%20%20%20%20%20%20%20%20%20%20%20%20%20%20%20%20%7B%0A%20%20%20%20%20%20%20%20%20%20%20%20%20%20%20%20%20%20%20%20center%3A%20%5B50.0%2C%20-87.0%5D%2C%0A%20%20%20%20%20%20%20%20%20%20%20%20%20%20%20%20%20%20%20%20crs%3A%20L.CRS.EPSG3857%2C%0A%20%20%20%20%20%20%20%20%20%20%20%20%20%20%20%20%20%20%20%20zoom%3A%2011%2C%0A%20%20%20%20%20%20%20%20%20%20%20%20%20%20%20%20%20%20%20%20zoomControl%3A%20true%2C%0A%20%20%20%20%20%20%20%20%20%20%20%20%20%20%20%20%20%20%20%20preferCanvas%3A%20false%2C%0A%20%20%20%20%20%20%20%20%20%20%20%20%20%20%20%20%7D%0A%20%20%20%20%20%20%20%20%20%20%20%20%29%3B%0A%0A%20%20%20%20%20%20%20%20%20%20%20%20%0A%0A%20%20%20%20%20%20%20%20%0A%20%20%20%20%0A%20%20%20%20%20%20%20%20%20%20%20%20var%20tile_layer_389f49cf0fb54ef0a0a2b45a8efba70b%20%3D%20L.tileLayer%28%0A%20%20%20%20%20%20%20%20%20%20%20%20%20%20%20%20%22https%3A//%7Bs%7D.tile.openstreetmap.org/%7Bz%7D/%7Bx%7D/%7By%7D.png%22%2C%0A%20%20%20%20%20%20%20%20%20%20%20%20%20%20%20%20%7B%22attribution%22%3A%20%22Data%20by%20%5Cu0026copy%3B%20%5Cu003ca%20href%3D%5C%22http%3A//openstreetmap.org%5C%22%5Cu003eOpenStreetMap%5Cu003c/a%5Cu003e%2C%20under%20%5Cu003ca%20href%3D%5C%22http%3A//www.openstreetmap.org/copyright%5C%22%5Cu003eODbL%5Cu003c/a%5Cu003e.%22%2C%20%22detectRetina%22%3A%20false%2C%20%22maxNativeZoom%22%3A%2018%2C%20%22maxZoom%22%3A%2018%2C%20%22minZoom%22%3A%200%2C%20%22noWrap%22%3A%20false%2C%20%22opacity%22%3A%201%2C%20%22subdomains%22%3A%20%22abc%22%2C%20%22tms%22%3A%20false%7D%0A%20%20%20%20%20%20%20%20%20%20%20%20%29.addTo%28map_68a161431ed9415c917ff41642fdcad6%29%3B%0A%20%20%20%20%20%20%20%20%0A%20%20%20%20%0A%20%20%20%20%20%20%20%20%20%20%20%20var%20tile_layer_bce1eab5048b42758bdd49c12e67b843%20%3D%20L.tileLayer%28%0A%20%20%20%20%20%20%20%20%20%20%20%20%20%20%20%20%22https%3A//earthengine.googleapis.com/v1alpha/projects/earthengine-legacy/maps/2d770a75a214d9b29aee855c75bac372-0a0924d164dafdeaafa5f20a46a493bd/tiles/%7Bz%7D/%7Bx%7D/%7By%7D%22%2C%0A%20%20%20%20%20%20%20%20%20%20%20%20%20%20%20%20%7B%22attribution%22%3A%20%22Map%20Data%20%5Cu0026copy%3B%20%5Cu003ca%20href%3D%5C%22https%3A//earthengine.google.com/%5C%22%5Cu003eGoogle%20Earth%20Engine%5Cu003c/a%5Cu003e%22%2C%20%22detectRetina%22%3A%20false%2C%20%22maxNativeZoom%22%3A%2018%2C%20%22maxZoom%22%3A%2018%2C%20%22minZoom%22%3A%200%2C%20%22noWrap%22%3A%20false%2C%20%22opacity%22%3A%201%2C%20%22subdomains%22%3A%20%22abc%22%2C%20%22tms%22%3A%20false%7D%0A%20%20%20%20%20%20%20%20%20%20%20%20%29.addTo%28map_68a161431ed9415c917ff41642fdcad6%29%3B%0A%20%20%20%20%20%20%20%20%0A%20%20%20%20%0A%20%20%20%20%20%20%20%20%20%20%20%20var%20layer_control_53a8b0a64d434a75b48c4accd6f4a8b6%20%3D%20%7B%0A%20%20%20%20%20%20%20%20%20%20%20%20%20%20%20%20base_layers%20%3A%20%7B%0A%20%20%20%20%20%20%20%20%20%20%20%20%20%20%20%20%20%20%20%20%22openstreetmap%22%20%3A%20tile_layer_389f49cf0fb54ef0a0a2b45a8efba70b%2C%0A%20%20%20%20%20%20%20%20%20%20%20%20%20%20%20%20%7D%2C%0A%20%20%20%20%20%20%20%20%20%20%20%20%20%20%20%20overlays%20%3A%20%20%7B%0A%20%20%20%20%20%20%20%20%20%20%20%20%20%20%20%20%20%20%20%20%22LAI%22%20%3A%20tile_layer_bce1eab5048b42758bdd49c12e67b843%2C%0A%20%20%20%20%20%20%20%20%20%20%20%20%20%20%20%20%7D%2C%0A%20%20%20%20%20%20%20%20%20%20%20%20%7D%3B%0A%20%20%20%20%20%20%20%20%20%20%20%20L.control.layers%28%0A%20%20%20%20%20%20%20%20%20%20%20%20%20%20%20%20layer_control_53a8b0a64d434a75b48c4accd6f4a8b6.base_layers%2C%0A%20%20%20%20%20%20%20%20%20%20%20%20%20%20%20%20layer_control_53a8b0a64d434a75b48c4accd6f4a8b6.overlays%2C%0A%20%20%20%20%20%20%20%20%20%20%20%20%20%20%20%20%7B%22autoZIndex%22%3A%20true%2C%20%22collapsed%22%3A%20true%2C%20%22position%22%3A%20%22topright%22%7D%0A%20%20%20%20%20%20%20%20%20%20%20%20%29.addTo%28map_68a161431ed9415c917ff41642fdcad6%29%3B%0A%20%20%20%20%20%20%20%20%0A%3C/script%3E onload=\"this.contentDocument.open();this.contentDocument.write(    decodeURIComponent(this.getAttribute('data-html')));this.contentDocument.close();\" allowfullscreen webkitallowfullscreen mozallowfullscreen></iframe></div></div>"
      ],
      "text/plain": [
       "<folium.folium.Map at 0x7f5fcc208d90>"
      ]
     },
     "execution_count": 149,
     "metadata": {},
     "output_type": "execute_result"
    }
   ],
   "source": [
    "# Get map IDs for display in folium.\n",
    "predictions_vis2 = {'min': 0, 'max': 10}\n",
    "predictions_mapid2 = predictions2.getMapId(predictions_vis2)\n",
    "\n",
    "# Visualize the input imagery and the predictions.\n",
    "map = folium.Map(location=[50, -87], zoom_start=11)\n",
    "folium.TileLayer(\n",
    "  tiles=predictions_mapid2['tile_fetcher'].url_format,\n",
    "  attr='Map Data &copy; <a href=\"https://earthengine.google.com/\">Google Earth Engine</a>',\n",
    "  overlay=True,\n",
    "  name='LAI',\n",
    ").add_to(map)\n",
    "map.add_child(folium.LayerControl())\n",
    "map"
   ]
  },
  {
   "cell_type": "code",
   "execution_count": 39,
   "metadata": {},
   "outputs": [],
   "source": [
    "# export_task = ee_func.export_collection_to_gee(collection=predictions2,\n",
    "#                                                num_images=1,\n",
    "#                                                image_names=[siteSelect+'_'+outputName+'_AI_platform_tf'],\n",
    "#                                                scale=10,                                                                                    \n",
    "#                                                asset_folder=assetfolder,\n",
    "#                                                data_type='float',\n",
    "#                                                max_pixels=1e13)"
   ]
  },
  {
   "cell_type": "code",
   "execution_count": 150,
   "metadata": {},
   "outputs": [],
   "source": [
    "# cloud_folder = 'projects/ccmeo-ag-000008/assets/ALR'\n",
    "# export_image = 'projects/google/logistic_demo_image'\n",
    "# Export directly to EE:\n",
    "export_task = ee_func.export_collection_to_gee(collection=predictions2,\n",
    "                                               num_images=1,\n",
    "                                               image_names=[siteSelect+'_'+outputName+'_ALR_platform_tf'],\n",
    "                                               scale=10,\n",
    "                                               # asset_folder='users/kateharvey/regression_images',                                            \n",
    "                                               asset_folder=cloud_folder,\n",
    "                                               data_type='float',\n",
    "                                               max_pixels=1e13)"
   ]
  },
  {
   "cell_type": "code",
   "execution_count": null,
   "metadata": {},
   "outputs": [],
   "source": []
  }
 ],
 "metadata": {
  "kernelspec": {
   "display_name": "Python 3 (ipykernel)",
   "language": "python",
   "name": "python3"
  },
  "language_info": {
   "codemirror_mode": {
    "name": "ipython",
    "version": 3
   },
   "file_extension": ".py",
   "mimetype": "text/x-python",
   "name": "python",
   "nbconvert_exporter": "python",
   "pygments_lexer": "ipython3",
   "version": "3.9.7"
  }
 },
 "nbformat": 4,
 "nbformat_minor": 4
}
